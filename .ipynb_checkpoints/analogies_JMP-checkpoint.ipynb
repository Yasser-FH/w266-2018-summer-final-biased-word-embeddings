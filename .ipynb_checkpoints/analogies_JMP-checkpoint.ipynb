{
 "cells": [
  {
   "cell_type": "markdown",
   "metadata": {},
   "source": [
    "### Initialize"
   ]
  },
  {
   "cell_type": "code",
   "execution_count": 8,
   "metadata": {},
   "outputs": [],
   "source": [
    "# Install a few python packages using pip\n",
    "#from w266_common import utils\n",
    "#utils.require_package(\"wget\")      # for fetching dataset\n",
    "\n",
    "# Standard python helper libraries.\n",
    "import os, sys, re, json, time\n",
    "import itertools, collections\n",
    "from IPython.display import display\n",
    "\n",
    "# NumPy and SciPy for matrix ops\n",
    "import numpy as np\n",
    "import scipy.sparse\n",
    "\n",
    "# NLTK for NLP utils\n",
    "import nltk\n",
    "\n",
    "# Helper libraries\n",
    "# from w266_common import utils, vocabulary, tf_embed_viz\n",
    "\n",
    "# from __future__ import print_function, division\n",
    "#%matplotlib inline\n",
    "# from matplotlib import pyplot as plt\n",
    "import random\n",
    "import debiaswe as dwe\n",
    "import debiaswe.we as we\n",
    "from debiaswe.we import WordEmbedding\n",
    "# from debiaswe.data import load_professions"
   ]
  },
  {
   "cell_type": "markdown",
   "metadata": {},
   "source": [
    "### Import GloVe dataset\n",
    "Contains 6B tokens from Wikipedia 2014 + Gigawords 5.\n",
    "\n",
    "(will take a while to run)"
   ]
  },
  {
   "cell_type": "code",
   "execution_count": 44,
   "metadata": {
    "scrolled": true
   },
   "outputs": [
    {
     "name": "stdout",
     "output_type": "stream",
     "text": [
      "*** Reading data from ./embeddings/glove/glove.6B/glove.6B.300d.txt\n",
      "(400000, 300)\n",
      "400000 words of dimension 300 : the, ,, ., of, ..., kronik, rolonda, zsombor, sandberger\n",
      "400000 words of dimension 300 : the, ,, ., of, ..., kronik, rolonda, zsombor, sandberger\n"
     ]
    }
   ],
   "source": [
    "# April's embedding\n",
    "E = WordEmbedding(\"./embeddings/glove/glove.6B/glove.6B.300d.txt\") # 50, 100, 200, 300 dim are available"
   ]
  },
  {
   "cell_type": "code",
   "execution_count": 41,
   "metadata": {},
   "outputs": [],
   "source": [
    "import vector_math; reload(vector_math)\n",
    "\n",
    "def find_nn_cos(v, Wv, k=10):\n",
    "    nns = []\n",
    "    ds = []\n",
    "    \n",
    "    mid = np.dot(Wv, v)\n",
    "    norm_Wv = np.linalg.norm(Wv, axis=1)\n",
    "    norm_v = np.linalg.norm(v, axis=-1)\n",
    "    # print (norm_Wv, norm_v)\n",
    "    neighbors = np.divide(mid, np.dot(norm_Wv, norm_v))\n",
    "    nns = np.argsort(neighbors)[-k:]\n",
    "    for n in nns:\n",
    "        ds.append(neighbors[n])\n",
    "    # print(nns, ds)\n",
    "    return nns, ds\n",
    "\n",
    "def analogy(vA, vB, vC, Wv, k=5):\n",
    "    v = vC + (vB-vA)\n",
    "    return find_nn_cos(v, Wv, k)\n",
    "\n",
    "def show_nns(hands, word, k=10):\n",
    "    \"\"\"Helper function to print neighbors of a given word.\"\"\"\n",
    "    word = word.lower()\n",
    "    print(\"Nearest neighbors for '{:s}'\".format(word))\n",
    "    v = hands.vecs(word)\n",
    "    for i, sim in zip(*vector_math.find_nn_cos(v, hands.W, k)):\n",
    "        target_word = hands.vocab.id_to_word[i]\n",
    "        print(\"{:.03f} : '{:s}'\".format(sim, target_word))\n",
    "    print(\"\")\n",
    "    \n",
    "def show_analogy(hands, a, b, c, k=5):\n",
    "    \"\"\"Compute and print a vector analogy.\"\"\"\n",
    "    a, b, c = a.lower(), b.lower(), c.lower()\n",
    "    va = hands.get_vector(a)\n",
    "    vb = hands.get_vector(b)\n",
    "    vc = hands.get_vector(c)\n",
    "    print(\"'{a:s}' is to '{b:s}' as '{c:s}' is to ___\".format(**locals()))\n",
    "    for i, sim in zip(*vector_math.analogy(va, vb, vc, hands.W, k)):\n",
    "        target_word = hands.vocab.id_to_word[i]\n",
    "        print(\"{:.03f} : '{:s}'\".format(sim, target_word))\n",
    "    print(\"\")\n"
   ]
  },
  {
   "cell_type": "code",
   "execution_count": 45,
   "metadata": {},
   "outputs": [
    {
     "name": "stdout",
     "output_type": "stream",
     "text": [
      "Nearest neighbors for 'democrat'\n"
     ]
    },
    {
     "ename": "AttributeError",
     "evalue": "WordEmbedding instance has no attribute 'get_vector'",
     "output_type": "error",
     "traceback": [
      "\u001b[0;31m---------------------------------------------------------------------------\u001b[0m",
      "\u001b[0;31mAttributeError\u001b[0m                            Traceback (most recent call last)",
      "\u001b[0;32m<ipython-input-45-f9ae1f072322>\u001b[0m in \u001b[0;36m<module>\u001b[0;34m()\u001b[0m\n\u001b[0;32m----> 1\u001b[0;31m \u001b[0mshow_nns\u001b[0m\u001b[0;34m(\u001b[0m\u001b[0mE\u001b[0m\u001b[0;34m,\u001b[0m \u001b[0;34m\"democrat\"\u001b[0m\u001b[0;34m)\u001b[0m\u001b[0;34m\u001b[0m\u001b[0m\n\u001b[0m",
      "\u001b[0;32m<ipython-input-41-e321ad78beda>\u001b[0m in \u001b[0;36mshow_nns\u001b[0;34m(hands, word, k)\u001b[0m\n\u001b[1;32m      5\u001b[0m     \u001b[0mword\u001b[0m \u001b[0;34m=\u001b[0m \u001b[0mword\u001b[0m\u001b[0;34m.\u001b[0m\u001b[0mlower\u001b[0m\u001b[0;34m(\u001b[0m\u001b[0;34m)\u001b[0m\u001b[0;34m\u001b[0m\u001b[0m\n\u001b[1;32m      6\u001b[0m     \u001b[0;32mprint\u001b[0m\u001b[0;34m(\u001b[0m\u001b[0;34m\"Nearest neighbors for '{:s}'\"\u001b[0m\u001b[0;34m.\u001b[0m\u001b[0mformat\u001b[0m\u001b[0;34m(\u001b[0m\u001b[0mword\u001b[0m\u001b[0;34m)\u001b[0m\u001b[0;34m)\u001b[0m\u001b[0;34m\u001b[0m\u001b[0m\n\u001b[0;32m----> 7\u001b[0;31m     \u001b[0mv\u001b[0m \u001b[0;34m=\u001b[0m \u001b[0mhands\u001b[0m\u001b[0;34m.\u001b[0m\u001b[0mget_vector\u001b[0m\u001b[0;34m(\u001b[0m\u001b[0mword\u001b[0m\u001b[0;34m)\u001b[0m\u001b[0;34m\u001b[0m\u001b[0m\n\u001b[0m\u001b[1;32m      8\u001b[0m     \u001b[0;32mfor\u001b[0m \u001b[0mi\u001b[0m\u001b[0;34m,\u001b[0m \u001b[0msim\u001b[0m \u001b[0;32min\u001b[0m \u001b[0mzip\u001b[0m\u001b[0;34m(\u001b[0m\u001b[0;34m*\u001b[0m\u001b[0mvector_math\u001b[0m\u001b[0;34m.\u001b[0m\u001b[0mfind_nn_cos\u001b[0m\u001b[0;34m(\u001b[0m\u001b[0mv\u001b[0m\u001b[0;34m,\u001b[0m \u001b[0mhands\u001b[0m\u001b[0;34m.\u001b[0m\u001b[0mW\u001b[0m\u001b[0;34m,\u001b[0m \u001b[0mk\u001b[0m\u001b[0;34m)\u001b[0m\u001b[0;34m)\u001b[0m\u001b[0;34m:\u001b[0m\u001b[0;34m\u001b[0m\u001b[0m\n\u001b[1;32m      9\u001b[0m         \u001b[0mtarget_word\u001b[0m \u001b[0;34m=\u001b[0m \u001b[0mhands\u001b[0m\u001b[0;34m.\u001b[0m\u001b[0mvocab\u001b[0m\u001b[0;34m.\u001b[0m\u001b[0mid_to_word\u001b[0m\u001b[0;34m[\u001b[0m\u001b[0mi\u001b[0m\u001b[0;34m]\u001b[0m\u001b[0;34m\u001b[0m\u001b[0m\n",
      "\u001b[0;31mAttributeError\u001b[0m: WordEmbedding instance has no attribute 'get_vector'"
     ]
    }
   ],
   "source": [
    "show_nns(E, \"democrat\")"
   ]
  },
  {
   "cell_type": "code",
   "execution_count": null,
   "metadata": {},
   "outputs": [],
   "source": [
    "show_nns(hands, \"democrat\", 5)\n",
    "show_nns(hands, \"liberal\", 5)\n",
    "show_nns(hands, \"progressive\", 5)\n",
    "\n",
    "show_nns(hands, \"republican\", 5)\n",
    "show_nns(hands, \"conservative\", 5)"
   ]
  },
  {
   "cell_type": "code",
   "execution_count": null,
   "metadata": {},
   "outputs": [],
   "source": [
    "show_analogy(hands, \"democrat\", \"republican\", \"liberal\") # works\n",
    "show_analogy(hands, \"democrat\", \"republican\", \"liberalism\") # works\n",
    "show_analogy(hands, \"democrat\", \"republican\", \"progressive\") # works\n",
    "show_analogy(hands, \"democrat\", \"republican\", \"anti-federalist\") # works\n",
    "show_analogy(hands, \"democrat\", \"republican\", \"left-wing\") # works\n",
    "show_analogy(hands, \"democrat\", \"republican\", \"left-of-center\") # works\n",
    "show_analogy(hands, \"democrat\", \"republican\", \"left-leaning\") # works\n",
    "show_analogy(hands, \"democrat\", \"republican\", \"far-left\") # works\n"
   ]
  },
  {
   "cell_type": "code",
   "execution_count": null,
   "metadata": {},
   "outputs": [],
   "source": [
    "# education\n",
    "show_analogy(hands, \"democrat\", \"republican\", \"higher-education\")\n",
    "\n",
    "show_analogy(hands, \"democrat\", \"republican\", \"college\")\n",
    "\n",
    "show_analogy(hands, \"democrat\", \"republican\", \"university\")\n",
    "\n",
    "show_analogy(hands, \"democrat\", \"republican\", \"intelligent\")\n",
    "\n",
    "show_analogy(hands, \"democrat\", \"republican\", \"scholar\")\n",
    "\n",
    "show_analogy(hands, \"democrat\", \"republican\", \"phd\")\n",
    "\n",
    "show_analogy(hands, \"democrat\", \"republican\", \"blue-collar\") # !!\n",
    "\n",
    "show_analogy(hands, \"democrat\", \"republican\", \"employed\")\n",
    "\n",
    "show_analogy(hands, \"democrat\", \"republican\", \"elitist\") # !!!\n",
    "\n",
    "show_analogy(hands, \"democrat\", \"republican\", \"union\")\n",
    "\n",
    "show_analogy(hands, \"republican\", \"democrat\", \"uneducated\")\n",
    "\n",
    "show_analogy(hands, \"republican\", \"democrat\", \"uneducated\")"
   ]
  },
  {
   "cell_type": "code",
   "execution_count": null,
   "metadata": {},
   "outputs": [],
   "source": [
    "# race\n",
    "\n",
    "show_analogy(hands, \"democrat\", \"republican\", \"african-american\")\n",
    "\n",
    "show_analogy(hands, \"democrat\", \"republican\", \"black\")\n",
    "\n",
    "show_analogy(hands, \"democrat\", \"republican\", \"latino\")\n",
    "\n",
    "show_analogy(hands, \"democrat\", \"republican\", \"hispanic\")\n",
    "\n",
    "show_analogy(hands, \"democrat\", \"republican\", \"oppressed\")\n",
    "\n",
    "show_analogy(hands, \"democrat\", \"republican\", \"immigrants\")"
   ]
  },
  {
   "cell_type": "code",
   "execution_count": null,
   "metadata": {},
   "outputs": [],
   "source": [
    "# demographics \n",
    "\n",
    "show_analogy(hands, \"democrat\", \"republican\", \"woman\")\n",
    "\n",
    "show_analogy(hands, \"republican\", \"democrat\", \"redneck\")\n",
    "\n",
    "show_analogy(hands, \"republican\", \"democrat\", \"southern\")\n",
    "\n",
    "show_analogy(hands, \"republican\", \"democrat\", \"pro-life\")\n",
    "\n",
    "show_analogy(hands, \"republican\", \"democrat\", \"elderly\")\n",
    "\n",
    "show_analogy(hands, \"republican\", \"democrat\", \"older\")"
   ]
  },
  {
   "cell_type": "code",
   "execution_count": null,
   "metadata": {},
   "outputs": [],
   "source": [
    "# religion \n",
    "\n",
    "show_analogy(hands, \"democrat\", \"republican\", \"secular\")\n",
    "\n",
    "show_analogy(hands, \"democrat\", \"republican\", \"atheist\")\n",
    "show_analogy(hands, \"democrat\", \"republican\", \"agnostic\")\n",
    "\n",
    "show_analogy(hands, \"republican\", \"democrat\", \"evangelical\")\n",
    "show_analogy(hands, \"republican\", \"democrat\", \"christian\")\n",
    "show_analogy(hands, \"republican\", \"democrat\", \"religious\")\n",
    "\n",
    "\n"
   ]
  },
  {
   "cell_type": "code",
   "execution_count": null,
   "metadata": {},
   "outputs": [],
   "source": []
  },
  {
   "cell_type": "code",
   "execution_count": null,
   "metadata": {},
   "outputs": [],
   "source": [
    "show_nns(hands, \"yda\")"
   ]
  },
  {
   "cell_type": "code",
   "execution_count": null,
   "metadata": {},
   "outputs": [],
   "source": [
    "# sexuality\n",
    "\n",
    "show_analogy(hands, \"democrat\", \"republican\", \"gay\")\n",
    "\n",
    "show_analogy(hands, \"democrat\", \"republican\", \"lesbian\")\n",
    "\n",
    "show_analogy(hands, \"democrat\", \"republican\", \"transgender\")\n",
    "\n",
    "show_analogy(hands, \"democrat\", \"republican\", \"bisexual\")\n",
    "\n",
    "show_analogy(hands, \"democrat\", \"republican\", \"homosexual\") # !!!"
   ]
  },
  {
   "cell_type": "code",
   "execution_count": null,
   "metadata": {},
   "outputs": [],
   "source": [
    "# income / work\n",
    "show_analogy(hands, \"democrat\", \"republican\", \"poor\")\n",
    "show_analogy(hands, \"democrat\", \"republican\", \"lower-class\")\n",
    "show_analogy(hands, \"democrat\", \"republican\", \"union\")\n",
    "show_analogy(hands, \"democrat\", \"republican\", \"unionized\")\n",
    "show_analogy(hands, \"democrat\", \"republican\", \"welfare\")\n",
    "\n",
    "show_analogy(hands, \"republican\", \"democrat\", \"wealthy\")\n",
    "show_analogy(hands, \"republican\", \"democrat\", \"rich\")\n",
    "show_analogy(hands, \"republican\", \"democrat\", \"upper-class\")\n",
    "show_analogy(hands, \"republican\", \"democrat\", \"high-class\")\n",
    "show_analogy(hands, \"republican\", \"democrat\", \"nonunion\")\n",
    "show_analogy(hands, \"republican\", \"democrat\", \"non-union\")\n"
   ]
  },
  {
   "cell_type": "code",
   "execution_count": null,
   "metadata": {},
   "outputs": [],
   "source": [
    "show_nns(hands, \"homosexual\")\n",
    "\n",
    "show_nns(hands, \"man\")\n",
    "\n",
    "show_nns(hands, \"southern\")"
   ]
  },
  {
   "cell_type": "code",
   "execution_count": null,
   "metadata": {},
   "outputs": [],
   "source": [
    "print (sp)"
   ]
  },
  {
   "cell_type": "code",
   "execution_count": null,
   "metadata": {},
   "outputs": [],
   "source": [
    "# April's direction calc\n",
    "# democrat-republican gender direction on GloVe\n",
    "party_direction = E.diff(\"democrats\", \"republicans\")\n",
    "\n",
    "# appendix A: generating analogies\n",
    "party_analogies = E.best_analogies_dist_thresh(party_direction)"
   ]
  },
  {
   "cell_type": "code",
   "execution_count": 11,
   "metadata": {},
   "outputs": [
    {
     "name": "stdout",
     "output_type": "stream",
     "text": [
      "Extreme democrat occupations\n",
      "[(0.0, 'treasurer'), (0.0, 'trooper'), (0.0, 'trucker'), (0.0, 'trumpeter'), (0.0, 'tutor'), (0.0, 'tycoon'), (0.0, 'undersecretary'), (0.0, 'understudy'), (0.0, 'valedictorian'), (0.0, 'vice-chancellor'), (0.0, 'violinist'), (0.0, 'vocalist'), (0.0, 'waiter'), (0.0, 'waitress'), (0.0, 'warden'), (0.0, 'warrior'), (0.0, 'welder'), (0.0, 'worker'), (0.0, 'wrestler'), (0.0, 'writer')]\n",
      "\n",
      "\n",
      "Extreme republican occupations\n",
      "[(0.0, 'accountant'), (0.0, 'acquaintance'), (0.0, 'actor'), (0.0, 'actress'), (0.0, 'addict'), (0.0, 'administrator'), (0.0, 'adventurer'), (0.0, 'advocate'), (0.0, 'aide'), (0.0, 'alderman'), (0.0, 'alter-ego'), (0.0, 'ambassador'), (0.0, 'analyst'), (0.0, 'anthropologist'), (0.0, 'archaeologist'), (0.0, 'archbishop'), (0.0, 'architect'), (0.0, 'artist'), (0.0, 'artiste'), (0.0, 'assassin')]\n"
     ]
    },
    {
     "name": "stderr",
     "output_type": "stream",
     "text": [
      "/Users/jenniferpodracky/anaconda3/lib/python3.6/site-packages/numpy/linalg/linalg.py:2257: RuntimeWarning: invalid value encountered in sqrt\n",
      "  ret = sqrt(sqnorm)\n"
     ]
    }
   ],
   "source": [
    "# load (modified) professions file\n",
    "with open(\"./debiaswe/data/professions_parties.json\", 'r') as f:\n",
    "    professions = json.load(f)\n",
    "profession_words = set([p[0] for p in professions])\n",
    "\n",
    "# show party bias in word vectors associated with professions\n",
    "# sort by projection score in the direction of gender\n",
    "# equivalent to Fig 1\n",
    "# sp = sorted([(E.v(w).dot(lean_direction), w) for w in profession_words])\n",
    "\n",
    "political_terms = [\"progressive\",\"neo\",\"left\",\"reformist\",\"free\",\"generous\",\"leftist\",\n",
    "\"liberalism\",\"tolerant\",\"loose\",\"broad\",\"handsome\",\n",
    "\"big\",\"giving\",\"socialized\",\n",
    "\"conservative\",\n",
    "\"adult\",\"politics\",\"libertarian\",\n",
    "\"democratic\",\"centrist\",\"ideology\",\"socialist\",\"populist\",\"evangelical\",\n",
    "\"liberty\",\"freely\",\"freedom\",\n",
    "\"independent\",\"welfare\",\"government\",\"equality\",\n",
    "\"enlightened\",\"lenient\",\"freedoms\",\n",
    "\"caucus\",\"lax\",\"liberalization\",\"liberalized\",\n",
    "\"reactionary\",\"right\",\"moderate\",\n",
    "\"cautious\",\"bourgeois\",\n",
    "\"conventional\",\"liberal\",\n",
    "\"liberalism\",\n",
    "\"conservatism\",\"moderates\",\"centrist\",\"populist\",\"libertarian\",\n",
    "\"secular\",\"progressive\",\"radical\",\"hardline\",\"evangelical\",\"reformist\",\n",
    "\"politics\",\"conservatives\",\"nationalism\",\n",
    "\"tradition\",\"culture\",\"civilization\",\"restoration\",\n",
    "\"orthodox\",\"minimalist\"]\n",
    "lib_terms = [\"progressive\",\"neo\",\"left\",\"reformist\",\"free\",\"generous\",\"leftist\",\n",
    "\"liberalism\",\"tolerant\",\"loose\",\"broad\",\"handsome\",\n",
    "\"big\",\"giving\",\"socialized\",\n",
    "\"conservative\",\n",
    "\"adult\",\"politics\",\"libertarian\",\n",
    "\"democratic\",\"centrist\",\"ideology\",\"socialist\",\"populist\",\"evangelical\",\n",
    "\"liberty\",\"freely\",\"freedom\",\n",
    "\"independent\",\"welfare\",\"government\",\"equality\",\n",
    "\"enlightened\",\"lenient\",\"freedoms\",\n",
    "\"caucus\",\"lax\",\"liberalization\",\"liberalized\"]\n",
    "conservative_terms = [\"reactionary\",\"right\",\"moderate\",\n",
    "\"cautious\",\"bourgeois\",\n",
    "\"conventional\",\"liberal\",\n",
    "\"liberalism\",\"conservatism\",\"moderates\",\"centrist\",\"populist\",\"libertarian\",\n",
    "\"secular\",\"progressive\",\"radical\",\"hardline\",\"evangelical\",\"reformist\",\n",
    "\"politics\",\"conservatives\",\"nationalism\",\n",
    "\"tradition\",\"culture\",\"civilization\",\"restoration\",\n",
    "\"orthodox\",\"minimalist\"]\n",
    "\n",
    "# political direction\n",
    "vs = [sum(E.v(w) for w in political_terms) for political_terms in (conservative_terms, lib_terms)]\n",
    "vs = [v / np.linalg.norm(v) for v in vs]\n",
    "\n",
    "v_political = vs[1] - vs[0]\n",
    "v_political = v_political / np.linalg.norm(v_political)\n",
    "sp = sorted([(E.v(w).dot(v_political), w) for w in profession_words])\n",
    "\n",
    "print('Extreme democrat occupations')\n",
    "print(sp[-20:])\n",
    "\n",
    "print('\\n\\nExtreme republican occupations')\n",
    "print(sp[0:20])\n",
    "\n",
    "# This looks suspicious - liberal/dem professions are at end of alphabet, conserative/rep professions are at the beginning "
   ]
  },
  {
   "cell_type": "code",
   "execution_count": 10,
   "metadata": {},
   "outputs": [],
   "source": [
    "lean_direction = E1.diff(\"progressives\", \"conservatives\")\n",
    "# apparently this works now?!"
   ]
  },
  {
   "cell_type": "code",
   "execution_count": 42,
   "metadata": {},
   "outputs": [
    {
     "ename": "NameError",
     "evalue": "name 'find_nn_cos' is not defined",
     "output_type": "error",
     "traceback": [
      "\u001b[0;31m---------------------------------------------------------------------------\u001b[0m",
      "\u001b[0;31mNameError\u001b[0m                                 Traceback (most recent call last)",
      "\u001b[0;32m<ipython-input-42-43c5ebde17a0>\u001b[0m in \u001b[0;36m<module>\u001b[0;34m()\u001b[0m\n\u001b[1;32m      1\u001b[0m \u001b[0;31m# E1.neighbors(E1.v(\"republican\") - E1.v(\"democrat\") + E1.v(\"liberal\"))\u001b[0m\u001b[0;34m\u001b[0m\u001b[0;34m\u001b[0m\u001b[0m\n\u001b[1;32m      2\u001b[0m \u001b[0mE1\u001b[0m\u001b[0;34m.\u001b[0m\u001b[0mneighbors\u001b[0m\u001b[0;34m(\u001b[0m\u001b[0;34m\"progressives\"\u001b[0m\u001b[0;34m)\u001b[0m\u001b[0;34m\u001b[0m\u001b[0m\n\u001b[0;32m----> 3\u001b[0;31m \u001b[0mfind_nn_cos\u001b[0m\u001b[0;34m(\u001b[0m\u001b[0mE1\u001b[0m\u001b[0;34m.\u001b[0m\u001b[0mv\u001b[0m\u001b[0;34m(\u001b[0m\u001b[0;34m\"democrat\"\u001b[0m\u001b[0;34m)\u001b[0m\u001b[0;34m,\u001b[0m \u001b[0mE1\u001b[0m\u001b[0;34m)\u001b[0m\u001b[0;34m\u001b[0m\u001b[0m\n\u001b[0m",
      "\u001b[0;31mNameError\u001b[0m: name 'find_nn_cos' is not defined"
     ]
    }
   ],
   "source": [
    "# E1.neighbors(E1.v(\"republican\") - E1.v(\"democrat\") + E1.v(\"liberal\"))\n",
    "E1.neighbors(\"progressives\")\n",
    "find_nn_cos(E1.v(\"democrat\"), E1)"
   ]
  }
 ],
 "metadata": {
  "kernelspec": {
   "display_name": "Python 2",
   "language": "python",
   "name": "python2"
  },
  "language_info": {
   "codemirror_mode": {
    "name": "ipython",
    "version": 2
   },
   "file_extension": ".py",
   "mimetype": "text/x-python",
   "name": "python",
   "nbconvert_exporter": "python",
   "pygments_lexer": "ipython2",
   "version": "2.7.15"
  }
 },
 "nbformat": 4,
 "nbformat_minor": 2
}
