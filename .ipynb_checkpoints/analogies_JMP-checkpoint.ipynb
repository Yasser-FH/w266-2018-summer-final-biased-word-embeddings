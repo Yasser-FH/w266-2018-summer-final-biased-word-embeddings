{
 "cells": [
  {
   "cell_type": "markdown",
   "metadata": {},
   "source": [
    "### Initialize"
   ]
  },
  {
   "cell_type": "code",
   "execution_count": 1,
   "metadata": {},
   "outputs": [],
   "source": [
    "# Install a few python packages using pip\n",
    "from w266_common import utils\n",
    "#utils.require_package(\"wget\")      # for fetching dataset\n",
    "\n",
    "# Standard python helper libraries.\n",
    "import os, sys, re, json, time\n",
    "import itertools, collections\n",
    "from IPython.display import display\n",
    "\n",
    "# NumPy and SciPy for matrix ops\n",
    "import numpy as np\n",
    "import scipy.sparse\n",
    "\n",
    "# NLTK for NLP utils\n",
    "import nltk\n",
    "\n",
    "# from importlib import reload\n",
    "\n",
    "# Helper libraries\n",
    "# from w266_common import utils, vocabulary, tf_embed_viz\n",
    "\n",
    "# from __future__ import print_function, division\n",
    "#%matplotlib inline\n",
    "# from matplotlib import pyplot as plt\n",
    "import random\n",
    "import debiaswe as dwe\n",
    "import debiaswe.we as we\n",
    "from debiaswe.we import WordEmbedding\n",
    "# from debiaswe.data import load_professions\n"
   ]
  },
  {
   "cell_type": "code",
   "execution_count": 44,
   "metadata": {
    "scrolled": true
   },
   "outputs": [
    {
     "name": "stdout",
     "output_type": "stream",
     "text": [
      "*** Reading data from ./embeddings/glove/glove.6B/glove.6B.300d.txt\n",
      "(400000, 300)\n",
      "400000 words of dimension 300 : the, ,, ., of, ..., kronik, rolonda, zsombor, sandberger\n",
      "400000 words of dimension 300 : the, ,, ., of, ..., kronik, rolonda, zsombor, sandberger\n"
     ]
    }
   ],
   "source": [
    "# GLoVe embedding\n",
    "E = WordEmbedding(\"./embeddings/glove/glove.6B/glove.6B.300d.txt\") # 50, 100, 200, 300 dim are available"
   ]
  },
  {
   "cell_type": "code",
   "execution_count": 10,
   "metadata": {},
   "outputs": [],
   "source": [
    "lean_direction = E1.diff(\"progressives\", \"conservatives\")\n",
    "# apparently this works now?!"
   ]
  },
  {
   "cell_type": "markdown",
   "metadata": {},
   "source": [
    "### Word2Vec - Google News\n"
   ]
  },
  {
   "cell_type": "code",
   "execution_count": 8,
   "metadata": {},
   "outputs": [
    {
     "name": "stdout",
     "output_type": "stream",
     "text": [
      "*** Reading data from ./embeddings/w2v_gnews_small.txt\n",
      "(26423, 300)\n",
      "26423 words of dimension 300 : in, for, that, is, ..., Jay, Leroy, Brad, Jermaine\n"
     ]
    }
   ],
   "source": [
    "E_gn = WordEmbedding(\"./embeddings/w2v_gnews_small.txt\")"
   ]
  },
  {
   "cell_type": "code",
   "execution_count": 10,
   "metadata": {},
   "outputs": [],
   "source": [
    "party_direction = E_gn.diff(\"democrats\", \"republicans\")\n"
   ]
  },
  {
   "cell_type": "code",
   "execution_count": 18,
   "metadata": {},
   "outputs": [
    {
     "name": "stdout",
     "output_type": "stream",
     "text": [
      "Extreme democrats occupations\n",
      "[(0.12040618, u'statesman'), (0.12197713, u'mediator'), (0.122352846, u'deputy'), (0.1242275, u'president'), (0.12576297, u'lawmaker'), (0.12671667, u'legislator'), (0.12747315, u'trumpeter'), (0.12922281, u'businessman'), (0.13203219, u'photojournalist'), (0.13724203, u'observer'), (0.13859749, u'politician'), (0.14104803, u'saxophonist'), (0.14389695, u'violinist'), (0.14713554, u'citizen'), (0.14839262, u'philosopher'), (0.15156949, u'pianist'), (0.1637292, u'sociologist'), (0.16833378, u'cellist'), (0.17439917, u'parliamentarian'), (0.1877171, u'scholar')]\n",
      "\n",
      "\n",
      "Extreme republicans occupations\n",
      "[(-0.14370619, u'constable'), (-0.1407999, u'sheriff'), (-0.13320346, u'ranger'), (-0.12543193, u'barrister'), (-0.123773, u'priest'), (-0.12223902, u'solicitor'), (-0.11973068, u'nun'), (-0.110736944, u'archbishop'), (-0.1001594, u'dad'), (-0.07092281, u'bishop'), (-0.06979415, u'parishioner'), (-0.06726767, u'superintendent'), (-0.06717553, u'stockbroker'), (-0.066206545, u'butler'), (-0.06453305, u'trooper'), (-0.06368769, u'provost'), (-0.057796214, u'chaplain'), (-0.057064652, u'monk'), (-0.055509925, u'saint'), (-0.055193692, u'surveyor')]\n"
     ]
    }
   ],
   "source": [
    "with open(\"./data/professions_gnews.json\", 'r') as f:\n",
    "    professions = json.load(f)\n",
    "profession_words = set([p[0] for p in professions])\n",
    "\n",
    "sp = sorted([(E_gn.v(w).dot(party_direction), w) for w in profession_words])\n",
    "\n",
    "print('Extreme democrats occupations')\n",
    "print(sp[-20:])\n",
    "\n",
    "print('\\n\\nExtreme republicans occupations')\n",
    "print(sp[0:20])"
   ]
  },
  {
   "cell_type": "code",
   "execution_count": 19,
   "metadata": {},
   "outputs": [
    {
     "name": "stdout",
     "output_type": "stream",
     "text": [
      "Extreme he occupations\n",
      "[(0.13590315, u'lieutenant'), (0.13684887, u'pundit'), (0.13718201, u'industrialist'), (0.13782284, u'boss'), (0.14637241, u'magician'), (0.14718866, u'broadcaster'), (0.15001443, u'trumpeter'), (0.16313638, u'warrior'), (0.16702037, u'financier'), (0.16785556, u'architect'), (0.17289859, u'captain'), (0.1769344, u'general'), (0.18073659, u'marksman'), (0.1883635, u'philosopher'), (0.19492392, u'sportsman'), (0.20206758, u'businessman'), (0.20267203, u'protege'), (0.20758669, u'skipper'), (0.21665451, u'statesman'), (0.23798442, u'maestro')]\n",
      "\n",
      "\n",
      "Extreme she occupations\n",
      "[(-0.35965407, u'businesswoman'), (-0.3523514, u'actress'), (-0.3403659, u'housewife'), (-0.3043797, u'homemaker'), (-0.28085968, u'nurse'), (-0.27540293, u'waitress'), (-0.27317625, u'receptionist'), (-0.26647124, u'librarian'), (-0.2571882, u'socialite'), (-0.25276464, u'ballerina'), (-0.24946159, u'paralegal'), (-0.24929333, u'hairdresser'), (-0.24782579, u'nanny'), (-0.24125953, u'nun'), (-0.23776127, u'maid'), (-0.2236317, u'bookkeeper'), (-0.21560374, u'stylist'), (-0.20833439, u'housekeeper'), (-0.1672508, u'dancer'), (-0.16194889, u'clerk')]\n"
     ]
    }
   ],
   "source": [
    "gender_direction = E_gn.diff(\"he\", \"she\")\n",
    "sp = sorted([(E_gn.v(w).dot(gender_direction), w) for w in profession_words])\n",
    "\n",
    "print('Extreme he occupations')\n",
    "print(sp[-20:])\n",
    "\n",
    "print('\\n\\nExtreme she occupations')\n",
    "print(sp[0:20])"
   ]
  },
  {
   "cell_type": "code",
   "execution_count": 20,
   "metadata": {},
   "outputs": [
    {
     "name": "stdout",
     "output_type": "stream",
     "text": [
      "Extreme rich occupations\n",
      "[(0.09045569, u'historian'), (0.09089635, u'designer'), (0.09278592, u'curator'), (0.0965241, u'financier'), (0.099840604, u'planner'), (0.1004485, u'dermatologist'), (0.104970284, u'archaeologist'), (0.107777596, u'restaurateur'), (0.112002715, u'businesswoman'), (0.112884656, u'businessman'), (0.11436337, u'banker'), (0.117535084, u'jeweler'), (0.120025, u'entrepreneur'), (0.13305002, u'geologist'), (0.13377321, u'industrialist'), (0.13585997, u'philanthropist'), (0.13629246, u'collector'), (0.15744661, u'socialite'), (0.16991593, u'tycoon'), (0.22717036, u'baron')]\n",
      "\n",
      "\n",
      "Extreme poor occupations\n",
      "[(-0.12895197, u'undersecretary'), (-0.10781515, u'nun'), (-0.10425636, u'doctor'), (-0.104078785, u'captain'), (-0.10174305, u'goalkeeper'), (-0.100141004, u'general'), (-0.09976843, u'inspector'), (-0.09796616, u'coach'), (-0.09470502, u'skipper'), (-0.092649445, u'physician'), (-0.091430694, u'marksman'), (-0.08806105, u'priest'), (-0.086152926, u'surgeon'), (-0.08557174, u'caretaker'), (-0.084826164, u'worker'), (-0.08104028, u'cameraman'), (-0.08086354, u'technician'), (-0.079090916, u'psychologist'), (-0.07787307, u'understudy'), (-0.07468488, u'chaplain')]\n"
     ]
    }
   ],
   "source": [
    "wealth_direction = E_gn.diff(\"rich\", \"poor\")\n",
    "sp = sorted([(E_gn.v(w).dot(wealth_direction), w) for w in profession_words])\n",
    "\n",
    "print('Extreme rich occupations')\n",
    "print(sp[-20:])\n",
    "\n",
    "print('\\n\\nExtreme poor occupations')\n",
    "print(sp[0:20])"
   ]
  },
  {
   "cell_type": "code",
   "execution_count": 22,
   "metadata": {},
   "outputs": [
    {
     "name": "stdout",
     "output_type": "stream",
     "text": [
      "Extreme white occupations\n",
      "[(0.051265977, u'biologist'), (0.052399747, u'author'), (0.056263827, u'financier'), (0.058824897, u'sportswriter'), (0.05900275, u'neurologist'), (0.05922277, u'guitarist'), (0.060753416, u'naturalist'), (0.062355064, u'painter'), (0.06338275, u'nanny'), (0.06543375, u'priest'), (0.07020265, u'architect'), (0.07052154, u'receptionist'), (0.07061998, u'inventor'), (0.07132337, u'protester'), (0.07680837, u'illustrator'), (0.07765536, u'housekeeper'), (0.078204304, u'salesman'), (0.08089295, u'waiter'), (0.082347535, u'cinematographer'), (0.1251474, u'monk')]\n",
      "\n",
      "\n",
      "Extreme black occupations\n",
      "[(-0.16603313, u'treasurer'), (-0.16180012, u'councilman'), (-0.15271963, u'secretary'), (-0.14631996, u'commissioner'), (-0.1425387, u'jeweler'), (-0.12368178, u'comic'), (-0.12097989, u'minister'), (-0.120916896, u'marshal'), (-0.11328633, u'legislator'), (-0.10580893, u'alderman'), (-0.10404593, u'general'), (-0.10063582, u'surgeon'), (-0.100582115, u'comedian'), (-0.10000951, u'provost'), (-0.09969125, u'artiste'), (-0.09817032, u'chancellor'), (-0.098040305, u'educator'), (-0.09307878, u'councilor'), (-0.09306325, u'gangster'), (-0.092155956, u'congressman')]\n"
     ]
    }
   ],
   "source": [
    "race_direction = E_gn.diff(\"white\", \"black\")\n",
    "sp = sorted([(E_gn.v(w).dot(race_direction), w) for w in profession_words])\n",
    "\n",
    "print('Extreme white occupations')\n",
    "print(sp[-20:])\n",
    "\n",
    "print('\\n\\nExtreme black occupations')\n",
    "print(sp[0:20])"
   ]
  },
  {
   "cell_type": "code",
   "execution_count": 21,
   "metadata": {},
   "outputs": [
    {
     "name": "stdout",
     "output_type": "stream",
     "text": [
      "Extreme young occupations\n",
      "[(0.039002094, u'protege'), (0.039691612, u'cleric'), (0.03980533, u'chaplain'), (0.041071426, u'cinematographer'), (0.050259862, u'psychologist'), (0.050858412, u'barrister'), (0.051465955, u'servant'), (0.052759696, u'advocate'), (0.055377796, u'assassin'), (0.05593425, u'playwright'), (0.056740716, u'athlete'), (0.058330055, u'protagonist'), (0.061162625, u'general'), (0.06591224, u'coach'), (0.06753289, u'sociologist'), (0.06766991, u'lyricist'), (0.072006576, u'comic'), (0.07801673, u'counselor'), (0.095153816, u'narrator'), (0.1556002, u'tutor')]\n",
      "\n",
      "\n",
      "Extreme old occupations\n",
      "[(-0.19255656, u'electrician'), (-0.18189405, u'worker'), (-0.17679167, u'carpenter'), (-0.17161952, u'tycoon'), (-0.17108075, u'technician'), (-0.16731864, u'employee'), (-0.16587996, u'crooner'), (-0.16483733, u'mechanic'), (-0.15937448, u'baron'), (-0.15634106, u'acquaintance'), (-0.15347455, u'housewife'), (-0.15010075, u'salesman'), (-0.1467945, u'accountant'), (-0.14407618, u'homemaker'), (-0.14153698, u'trucker'), (-0.14077654, u'laborer'), (-0.13989902, u'inspector'), (-0.13846816, u'businessman'), (-0.13220417, u'dentist'), (-0.13074145, u'custodian')]\n"
     ]
    }
   ],
   "source": [
    "age_direction = E_gn.diff(\"young\", \"old\")\n",
    "sp = sorted([(E_gn.v(w).dot(age_direction), w) for w in profession_words])\n",
    "\n",
    "print('Extreme young occupations')\n",
    "print(sp[-20:])\n",
    "\n",
    "print('\\n\\nExtreme old occupations')\n",
    "print(sp[0:20])"
   ]
  },
  {
   "cell_type": "code",
   "execution_count": 24,
   "metadata": {},
   "outputs": [
    {
     "name": "stdout",
     "output_type": "stream",
     "text": [
      "Computing neighbors\n",
      "Mean: 10.219808500170306\n",
      "Median: 7.0\n"
     ]
    }
   ],
   "source": [
    "party_analogies = E_gn.best_analogies_dist_thresh(party_direction)"
   ]
  },
  {
   "cell_type": "code",
   "execution_count": 25,
   "metadata": {},
   "outputs": [
    {
     "name": "stdout",
     "output_type": "stream",
     "text": [
      "democrats-republicans\n",
      "democrat-republican\n",
      "cafe-pub\n",
      "federalism-devolution\n",
      "cafes-pubs\n",
      "democracy-peace\n",
      "sects-sectarian\n",
      "lawyer-solicitor\n",
      "ruler-monarch\n",
      "mutation-genetic\n",
      "democratic-peaceful\n",
      "reformers-hard_liners\n",
      "militias-paramilitaries\n",
      "son-dad\n",
      "pluralism-multiculturalism\n",
      "nationalism-nationalists\n",
      "Aisha-Keisha\n",
      "bloc-eurozone\n",
      "Emily-Mary\n",
      "expats-holidaymakers\n",
      "dude-fella\n",
      "rulers-monarchy\n",
      "monorail-tram\n",
      "pragmatic-sensible\n",
      "corruption-criminality\n",
      "striker-gaffer\n",
      "unrest-rioting\n",
      "mothers-mums\n",
      "Brad-Brendan\n",
      "candidate-nominee\n",
      "scholar-historian\n",
      "mln_usd-mln_stg\n",
      "deputies-sheriff\n",
      "yogurt-cheese\n",
      "telecom_operators-broadband\n",
      "stressed-insisted\n",
      "ice_cream-cider\n",
      "goats-lambs\n",
      "currency-loonie\n",
      "cat-squirrel\n",
      "absurd-ludicrous\n",
      "bribery-extortion\n",
      "hurled-hurling\n",
      "tad-wee_bit\n",
      "cargoes-barges\n",
      "orbit-space_shuttle\n",
      "households-householders\n",
      "vodka-whiskey\n",
      "liberalism-bigotry\n",
      "jobless-jobless_benefits\n",
      "consultations-consultation\n",
      "avian_influenza-mad_cow\n",
      "violating-breaching\n",
      "prostitutes-pedophiles\n",
      "mechanisms-pathways\n",
      "delicacies-pies\n",
      "citizens-taxpayers\n",
      "president-chief_executive\n",
      "eggplant-cabbage\n",
      "complaint_alleges-lawsuit_alleges\n",
      "villa-cottage\n",
      "melodies-lyric\n",
      "telephony-conferencing\n",
      "religions-faiths\n",
      "municipal-county\n",
      "premiership-footy\n",
      "counterinsurgency-counter_insurgency\n",
      "mausoleum-shrine\n",
      "pirated-file_sharing\n",
      "sushi-burger\n",
      "believers-atheists\n",
      "ya-fellas\n",
      "reform-tort_reform\n",
      "television-telly\n",
      "pianist-organist\n",
      "institutes-colleges\n",
      "intellectuals-historians\n",
      "discontent-anger\n",
      "emerging_markets-geographies\n",
      "inhabitants-settlers\n",
      "states-counties\n",
      "adherents-devotees\n",
      "stressing-insisting\n",
      "soccer-lacrosse\n",
      "monetary_policy-quantitative_easing\n",
      "avian_flu-flu_pandemic\n",
      "investigators-detectives\n",
      "minnows-jigs\n",
      "qualifiers-regionals\n",
      "immigrant-illegal_immigration\n",
      "orphans-widows\n",
      "populous-sparsely_populated\n",
      "federation-governing_body\n",
      "statutes-statute\n",
      "rice-sugar_cane\n",
      "characters-storylines\n",
      "slander-vile\n",
      "traffickers-drug_cartels\n",
      "bln_usd-bln_stg\n",
      "aggressiveness-physicality\n",
      "dynamism-zest\n",
      "militancy-sectarian_violence\n",
      "dudes-blokes\n",
      "lawmaker-congresswoman\n",
      "negatively_affected-impacted\n",
      "goalless_draw-midweek\n",
      "activists-marchers\n",
      "attaches-attached\n",
      "chickens-cattle\n",
      "neighboring-adjoining\n",
      "violations-breaches\n",
      "dictatorship-communist_regime\n",
      "investigator-examiner\n",
      "cellular_phones-handheld_devices\n",
      "groundless-untrue\n",
      "faction-splinter\n",
      "violation-breach\n",
      "chicken-beef\n",
      "lab-forensic\n",
      "brokerages-mortgage_lenders\n",
      "extremism-extremists\n",
      "liberalization-liberalize\n",
      "donors-fundraising\n",
      "loyalists-loyalist\n",
      "congregation-parish\n",
      "accords-peace_accord\n",
      "economic-financial\n",
      "government-federal\n",
      "waterfowl-elk\n",
      "representative-spokesperson\n",
      "penetration-uptake\n",
      "seats-seating\n",
      "bird_flu-mad_cow_disease\n",
      "cemetery-chapel\n",
      "disarmament-decommissioning\n",
      "painters-murals\n",
      "recounting-detailing\n",
      "forest_fires-bushfire\n",
      "nitrogen-carbon_dioxide\n",
      "residents-ratepayers\n",
      "crunchy-tart\n",
      "crisis-credit_crunch\n",
      "hate_crimes-sexual_assaults\n",
      "shipyard-wharf\n",
      "joblessness-foreclosures\n",
      "woods-campsite\n",
      "unethical-inappropriate\n",
      "discord-feud\n",
      "bribe-extort\n",
      "blogger-pundit\n",
      "pastors-priests\n",
      "authoritarian-communist\n",
      "harassment-sexual_abuse\n",
      "torrential_rains-wind_gusts\n",
      "greenback-kiwi\n",
      "mathematics-maths\n",
      "missionary-priest\n",
      "corresponds-relates\n",
      "grandson-stepmother\n",
      "semifinalist-finalist\n",
      "modernization-refurbishment\n",
      "revolutionaries-anarchists\n",
      "tycoons-baron\n",
      "businessmen-bankers\n",
      "chic-glam\n",
      "ambiguous-explicit\n",
      "guilty_verdict-plea_bargain\n",
      "villas-cottages\n",
      "issuers-broker_dealers\n",
      "pears-pumpkins\n",
      "eatery-tavern\n",
      "cloud_computing-virtualization\n",
      "violators-repeat_offenders\n",
      "co_ordination-co_ordinated\n",
      "businesspeople-businesses\n",
      "cuisine-wines\n",
      "immigrants-illegal_immigrants\n",
      "tax_payers-taxpayer\n",
      "diplomacy-peacemaking\n",
      "catastrophes-hurricanes\n",
      "tumors-nerve_cells\n",
      "enchanting-awe_inspiring\n",
      "oppression-apartheid\n",
      "instill-inspire\n",
      "democracies-nations\n",
      "deported-extradition\n",
      "anesthesia-sedation\n",
      "playmaker-wide_receiver\n",
      "bogey-putt\n",
      "sentenced-plead_guilty\n",
      "snowy-wintry\n",
      "smelter-coal_fired\n",
      "financed-underwrite\n",
      "stimulant-amphetamines\n",
      "chaos-mayhem\n",
      "geologists-geologic\n",
      "sphere-realms\n",
      "lambasted-scathing\n",
      "structural_reforms-austerity\n",
      "indictments-subpoenas\n",
      "east-west\n",
      "ruling-decision\n",
      "drug_addicts-addictions\n",
      "privatized-nationalized\n",
      "abysmal-atrocious\n",
      "mistreated-sexually_abused\n",
      "brokerage-broker_dealer\n",
      "avant_garde-artistically\n",
      "policeman-constable\n",
      "subordinates-superiors\n",
      "computed-compute\n",
      "reforms-overhaul\n",
      "centrist-bipartisanship\n",
      "elections-referendum\n",
      "stagnation-recession\n",
      "photojournalist-photographer\n",
      "migratory_birds-wildlife\n",
      "pepper-peppers\n",
      "emphasizes-underpins\n",
      "sands-sandstone\n",
      "reckless_driving-drunken_driving\n",
      "upheaval-tumultuous\n",
      "roasted-roasting\n",
      "cub-cougar\n",
      "worrisome-distressing\n",
      "gay_marriage-assisted_suicide\n",
      "frameworks-methodologies\n",
      "heirs-estate\n",
      "emission-emissions\n",
      "lunch-lunchtime\n",
      "agriculture-horticulture\n",
      "singers-sing\n",
      "deceived-misled\n",
      "noodles-deep_fried\n",
      "understaffed-staffing\n",
      "importers-sellers\n",
      "lender-mortgage\n",
      "sociologist-lecturer\n",
      "lyricist-songwriting\n",
      "nightmarish-horrific\n",
      "pavilion-grandstand\n",
      "grappling-coping\n",
      "peculiar-bizarre\n",
      "omnipresent-inescapable\n",
      "smashes-smash\n",
      "kidney_stones-blood_clots\n",
      "harassed-bullied\n",
      "regards-relation\n",
      "flour-potatoes\n",
      "fraud-identity_theft\n",
      "silk-lace\n",
      "overview-detailed\n",
      "roommate-ex_boyfriend\n",
      "labor_unions-unions\n",
      "villager-monk\n",
      "coordination-co_ordinate\n",
      "pretends-refuses\n",
      "warlords-insurgents\n",
      "faucet-hose\n",
      "paintings-stained_glass\n",
      "preoccupation-obsession\n",
      "congregants-parishioners\n",
      "bloggers-columnists\n",
      "frequencies-frequency\n",
      "enterprises-enterprise\n",
      "market-pricing\n",
      "couture-wedding_dress\n",
      "prostitution-sexual\n",
      "air_conditioner-radiator\n",
      "logistic-logistical\n",
      "turtles-sea_lions\n",
      "indignant-incensed\n",
      "countries-continents\n",
      "xenophobia-racist\n",
      "secession-statehood\n",
      "parsley-celery\n",
      "miracle-miraculous\n",
      "coordinating-co_ordinating\n",
      "catastrophe-catastrophic\n",
      "machine_guns-mortars\n",
      "orchestra-marching_band\n",
      "mayoral_candidate-councilors\n",
      "skateboarding-mountain_biking\n",
      "adherence-compliance\n",
      "cautiously-sensibly\n",
      "quarterfinals-semifinals\n",
      "blogs-podcasts\n",
      "transit-streetcar\n",
      "sustainable-carbon_neutral\n",
      "synagogue-church\n",
      "keyboardist-bandmates\n",
      "reelected-reappointed\n",
      "shady-dodgy\n",
      "e_commerce-ecommerce\n",
      "decoration-decorating\n",
      "macroeconomic-commodity_prices\n",
      "figurines-replicas\n",
      "villagers-tribals\n",
      "skillfully-intelligently\n",
      "parasites-bacteria\n",
      "situation-circumstances\n",
      "emphasized-adamant\n",
      "brown-dark_colored\n",
      "tigers-tiger\n",
      "civil_rights-desegregation\n",
      "splendor-majesty\n",
      "courtyard-walkway\n",
      "troupe-musical\n",
      "renovated-redeveloped\n",
      "shrimp-scallops\n",
      "lawyers-solicitors\n",
      "e_mailed-e_mailing\n",
      "indoor-outdoor\n",
      "hypocritical-outrageous\n",
      "reformist-hardline\n",
      "guy-bloke\n",
      "choreographers-choreographed\n",
      "shampoo-soap\n",
      "housewife-schoolgirl\n",
      "refrigerator-fridge\n",
      "tariffs-excise_duty\n",
      "democratization-decentralization\n",
      "speculations-speculation\n",
      "kilogram-pound\n",
      "seminar-workshops\n",
      "department-departmental\n",
      "leg-rib\n",
      "mainly-chiefly\n",
      "dike-levee\n",
      "maestro-legend\n",
      "shameless-gratuitous\n",
      "infections-ulcers\n",
      "stabilization-recovery\n",
      "economy-housing_slump\n",
      "globalization-offshoring\n",
      "farmland-parkland\n",
      "indictment-grand_jury\n",
      "condensate-bitumen\n",
      "manipulating-fabricating\n",
      "policemen-paramilitary\n",
      "odyssey-journeys\n",
      "pro_democracy-dissidents\n",
      "equalized-volley\n",
      "repression-torture\n",
      "grouping-grouped\n",
      "bureaucracy-red_tape\n",
      "turtle-whale\n",
      "telecommunication-fiber_optic\n",
      "disgrace-disgraceful\n",
      "framework-blueprint\n",
      "wife-estranged_wife\n",
      "nonpartisan-partisan\n",
      "narcotics-cocaine\n",
      "badminton-netball\n",
      "capitalists-greed\n",
      "happiest-scariest\n",
      "stabilizes-accelerates\n",
      "acupuncture-chronic_pain\n",
      "pleading-plea\n",
      "representation-representations\n",
      "election-electioneering\n",
      "detained-arrests\n",
      "unfolding-unfolded\n",
      "precincts-precinct\n",
      "investment_banker-stockbroker\n",
      "vanguard-forefront\n",
      "slaves-colonists\n",
      "Matthew-John\n",
      "cab-limo\n",
      "perspectives-insight\n",
      "subsidies-rebate\n",
      "municipality-borough\n",
      "backline-ruck\n",
      "ponds-creeks\n",
      "league-season\n",
      "ballet-rehearsals\n",
      "fraudulently-unauthorized\n",
      "fatally_shot-shootings\n",
      "daycare-childcare\n",
      "pep_talk-motivational\n",
      "grainy-stills\n",
      "ah-yeah\n",
      "crackdowns-raids\n",
      "stricter-tighter\n",
      "gold_medals-trophies\n",
      "noncommittal-tight_lipped\n",
      "asset_allocation-superannuation\n",
      "union-picket_lines\n",
      "parks-campsites\n",
      "currencies-precious_metals\n",
      "repressive-draconian\n",
      "carnival-parades\n",
      "worth_mentioning-noteworthy\n",
      "scolded-mocked\n",
      "skillful-skill\n",
      "sacking-axing\n",
      "embroidered-embellished\n",
      "indigenous_peoples-aboriginal\n",
      "kings-queen\n",
      "clinic-outpatient\n",
      "headmaster-headteacher\n",
      "professors-provost\n",
      "cashier-teller\n",
      "state-commonwealth\n",
      "currents-tidal\n",
      "dismal-horrid\n",
      "dispensary-dispensaries\n",
      "soloists-choirs\n",
      "jurist-justices\n",
      "cellist-choral\n",
      "shale_gas-carbon_capture\n",
      "inflation-borrowing_costs\n",
      "classical_music-bluegrass\n",
      "blockbusters-blockbuster\n",
      "cargo_ship-lifeboat\n",
      "biased-prejudicial\n",
      "flash_floods-flash_flooding\n",
      "explained-understood\n",
      "illustrious-storied\n",
      "rabies-seasonal_flu\n",
      "misinformed-inaccurate\n",
      "pragmatism-humility\n",
      "bicycle-bike\n",
      "jihadists-insurgent\n",
      "vigor-gusto\n",
      "narcotic-meth\n",
      "potable_water-sewerage\n",
      "concerning-relating\n",
      "elaborated-outlined\n",
      "landmines-roadside_bombs\n",
      "telecom-wireline\n",
      "truly-quite_frankly\n",
      "constitution-treaty\n",
      "philosopher-biographer\n",
      "sociology-biology\n",
      "metropolis-environs\n",
      "artifacts-memorabilia\n",
      "cats-critters\n",
      "hopelessly-spectacularly\n",
      "longing-heartbreak\n",
      "composers-musicals\n",
      "greenery-wildflowers\n",
      "op_ed-column\n",
      "defenders-downfield\n",
      "biologist-ranger\n",
      "devaluation-devalue\n",
      "headcount-redundancies\n",
      "council-trustees\n",
      "constantly-continually\n",
      "sons-grandkids\n",
      "pornographic-sexually_explicit\n",
      "populism-cynicism\n",
      "wandering-walking\n",
      "reunited-reunion\n",
      "specifying-specific\n",
      "safeties-wide_receivers\n",
      "antivirus-spyware\n",
      "syrup-rum\n",
      "alpha-beta\n",
      "disastrous-dreadful\n",
      "testimonies-recollections\n",
      "ideological-theological\n",
      "leagues-baseball\n",
      "minorities-blacks\n",
      "apartments-bungalows\n",
      "portraits-photographs\n",
      "osteoarthritis-arthritis\n",
      "briefing-briefings\n",
      "generals-commanders\n",
      "congratulates-celebrates\n",
      "enriching-enrichment\n",
      "imprisoned-prisoners\n",
      "joint_ventures-wholly_owned\n",
      "singles-grand_slam\n",
      "entourage-motorcade\n",
      "infielder-outfielder\n",
      "surrendered-surrender\n",
      "mt-tonnes\n",
      "sexually_abusing-molestation\n",
      "fractious-acrimonious\n",
      "ally-confidant\n",
      "moviegoers-goers\n",
      "defeats-losing_streak\n",
      "vice_versa-either\n",
      "attempted_robbery-robbery\n",
      "water_polo-rowing\n",
      "kidney_failure-emphysema\n",
      "adopts-accepts\n",
      "subprime-subprime_mortgage\n",
      "economist-forecaster\n",
      "emergence-resurgence\n",
      "et-de_la\n",
      "humorous-light_hearted\n",
      "congratulated-paid_tribute\n",
      "smartphone-desktop\n",
      "renovate-redevelop\n",
      "disks-disk\n",
      "variance-variances\n",
      "princes-royal\n",
      "pediatrics-cardiology\n"
     ]
    }
   ],
   "source": [
    "for (a,b,c) in party_analogies:\n",
    "    print(a+\"-\"+b)"
   ]
  },
  {
   "cell_type": "code",
   "execution_count": null,
   "metadata": {},
   "outputs": [],
   "source": []
  },
  {
   "cell_type": "markdown",
   "metadata": {},
   "source": [
    "### RANE Embeddings\n"
   ]
  },
  {
   "cell_type": "code",
   "execution_count": 2,
   "metadata": {},
   "outputs": [
    {
     "name": "stdout",
     "output_type": "stream",
     "text": [
      "*** Reading data from ./embeddings/RANE/RANE_300d_english_50k.txt\n",
      "(50000, 300)\n",
      "50000 words of dimension 300 : the, to, of, and, ..., prin, synchronise, dissertations, mammography\n",
      "50000 words of dimension 300 : the, to, of, and, ..., prin, synchronise, dissertations, mammography\n"
     ]
    }
   ],
   "source": [
    "E_rn = WordEmbedding(\"./embeddings/RANE/RANE_300d_english_50k.txt\")"
   ]
  },
  {
   "cell_type": "code",
   "execution_count": 3,
   "metadata": {},
   "outputs": [],
   "source": [
    "party_direction_rn = E_rn.diff(\"democrats\", \"republicans\")\n",
    "\n"
   ]
  },
  {
   "cell_type": "code",
   "execution_count": 11,
   "metadata": {},
   "outputs": [
    {
     "name": "stdout",
     "output_type": "stream",
     "text": [
      "Extreme democrats occupations\n",
      "[(0.12082663, u'statesman'), (0.12266756, u'advocate'), (0.123006314, u'prosecutor'), (0.123864174, u'councilor'), (0.12693208, u'artist'), (0.12819286, u'researcher'), (0.12829801, u'campaigner'), (0.13046439, u'citizen'), (0.14091158, u'bishop'), (0.14352775, u'minister'), (0.14783715, u'sociologist'), (0.14796092, u'butler'), (0.15273172, u'parliamentarian'), (0.15324928, u'scientist'), (0.15771252, u'chancellor'), (0.16413482, u'pollster'), (0.17110509, u'ambassador'), (0.17263769, u'psychologist'), (0.17882782, u'broadcaster'), (0.19477884, u'worker')]\n",
      "\n",
      "\n",
      "Extreme republicans occupations\n",
      "[(-0.115713686, u'salesman'), (-0.09136012, u'patrolman'), (-0.08587069, u'surveyor'), (-0.083656095, u'bureaucrat'), (-0.07820036, u'parishioner'), (-0.076154895, u'banker'), (-0.075789444, u'welder'), (-0.07322409, u'broker'), (-0.073092476, u'surgeon'), (-0.07281778, u'assassin'), (-0.07067402, u'gangster'), (-0.07032648, u'negotiator'), (-0.06426053, u'physician'), (-0.06394691, u'fisherman'), (-0.05911014, u'monk'), (-0.05522154, u'constable'), (-0.054657925, u'mechanic'), (-0.05454031, u'sergeant'), (-0.05311291, u'baron'), (-0.05255483, u'saint')]\n"
     ]
    }
   ],
   "source": [
    "with open(\"./data/professions_rane_50k.json\", 'r') as f:\n",
    "    professions = json.load(f)\n",
    "profession_words = set([p for p in professions])\n",
    "\n",
    "sp = sorted([(E_rn.v(w).dot(party_direction_rn), w) for w in profession_words])\n",
    "\n",
    "print('Extreme democrats occupations')\n",
    "print(sp[-20:])\n",
    "\n",
    "print('\\n\\nExtreme republicans occupations')\n",
    "print(sp[0:20])"
   ]
  },
  {
   "cell_type": "code",
   "execution_count": 13,
   "metadata": {},
   "outputs": [
    {
     "name": "stdout",
     "output_type": "stream",
     "text": [
      "Extreme democrats occupations\n",
      "[(0.14365672, u'strategist'), (0.14451265, u'diplomat'), (0.14955162, u'treasurer'), (0.14984553, u'statesman'), (0.15087163, u'envoy'), (0.1585497, u'lieutenant'), (0.16257007, u'trader'), (0.16285233, u'baron'), (0.16733637, u'negotiator'), (0.17219761, u'industrialist'), (0.17440619, u'colonel'), (0.1779283, u'captain'), (0.17931902, u'goalkeeper'), (0.18822497, u'protege'), (0.19238442, u'tycoon'), (0.19697638, u'midfielder'), (0.20182301, u'skipper'), (0.2022596, u'commander'), (0.25411597, u'businessman'), (0.2854199, u'president')]\n",
      "\n",
      "\n",
      "Extreme republicans occupations\n",
      "[(-0.3793034, u'housewife'), (-0.361195, u'stylist'), (-0.3415939, u'nurse'), (-0.33843955, u'maid'), (-0.33530203, u'ballerina'), (-0.30303526, u'waitress'), (-0.3022211, u'businesswoman'), (-0.29847607, u'actress'), (-0.29729667, u'nanny'), (-0.29351145, u'housekeeper'), (-0.29249573, u'therapist'), (-0.28125584, u'homemaker'), (-0.2578871, u'receptionist'), (-0.2503878, u'hairdresser'), (-0.24646065, u'dancer'), (-0.24043949, u'pediatrician'), (-0.23889352, u'socialite'), (-0.22505707, u'dermatologist'), (-0.2091002, u'student'), (-0.20381601, u'librarian')]\n"
     ]
    }
   ],
   "source": [
    "gender_direction_rn = E_rn.diff(\"he\", \"she\")\n",
    "sp = sorted([(E_rn.v(w).dot(gender_direction_rn), w) for w in profession_words])\n",
    "\n",
    "print('Extreme democrats occupations')\n",
    "print(sp[-20:])\n",
    "\n",
    "print('\\n\\nExtreme republicans occupations')\n",
    "print(sp[0:20])"
   ]
  },
  {
   "cell_type": "code",
   "execution_count": 14,
   "metadata": {},
   "outputs": [
    {
     "name": "stdout",
     "output_type": "stream",
     "text": [
      "Extreme young occupations\n",
      "[(0.01961986, u'counselor'), (0.021565117, u'author'), (0.023843754, u'vocalist'), (0.023956161, u'cinematographer'), (0.027479118, u'warrior'), (0.033011176, u'marksman'), (0.033772882, u'ballerina'), (0.034621187, u'screenwriter'), (0.037008025, u'performer'), (0.03829402, u'tutor'), (0.039300278, u'student'), (0.042411085, u'dancer'), (0.046603933, u'choreographer'), (0.051722318, u'soloist'), (0.054277953, u'protagonist'), (0.054421507, u'writer'), (0.07032334, u'lyricist'), (0.09087765, u'character'), (0.09641288, u'comic'), (0.102443695, u'advocate')]\n",
      "\n",
      "\n",
      "Extreme old occupations\n",
      "[(-0.20846419, u'electrician'), (-0.1636398, u'technician'), (-0.1561918, u'archaeologist'), (-0.15554833, u'patrolman'), (-0.15456821, u'mechanic'), (-0.15248741, u'chemist'), (-0.15087104, u'inventor'), (-0.1505394, u'landlord'), (-0.15047847, u'shopkeeper'), (-0.14891379, u'aide'), (-0.1409571, u'clerk'), (-0.1403457, u'dentist'), (-0.13851097, u'acquaintance'), (-0.13783461, u'salesman'), (-0.13713741, u'councilman'), (-0.13329281, u'collector'), (-0.1327715, u'trader'), (-0.13196273, u'carpenter'), (-0.12980196, u'neurosurgeon'), (-0.12630147, u'policeman')]\n"
     ]
    }
   ],
   "source": [
    "age_direction_rn = E_rn.diff(\"young\", \"old\")\n",
    "sp = sorted([(E_rn.v(w).dot(age_direction_rn), w) for w in profession_words])\n",
    "\n",
    "print('Extreme young occupations')\n",
    "print(sp[-20:])\n",
    "\n",
    "print('\\n\\nExtreme old occupations')\n",
    "print(sp[0:20])"
   ]
  },
  {
   "cell_type": "code",
   "execution_count": 15,
   "metadata": {},
   "outputs": [
    {
     "name": "stdout",
     "output_type": "stream",
     "text": [
      "Extreme rich occupations\n",
      "[(0.15575743, u'chef'), (0.15590642, u'scholar'), (0.15669237, u'biologist'), (0.15952732, u'illustrator'), (0.16034842, u'statesman'), (0.16396448, u'inventor'), (0.16523658, u'entrepreneur'), (0.16697508, u'sculptor'), (0.16801833, u'astronomer'), (0.16911359, u'crooner'), (0.17299612, u'restaurateur'), (0.178872, u'adventurer'), (0.1822221, u'businessman'), (0.18448257, u'philanthropist'), (0.18698002, u'painter'), (0.19076973, u'curator'), (0.19150656, u'historian'), (0.20095134, u'physicist'), (0.21231501, u'baron'), (0.2148785, u'industrialist')]\n",
      "\n",
      "\n",
      "Extreme poor occupations\n",
      "[(-0.20346625, u'worker'), (-0.17818123, u'employee'), (-0.17216268, u'radiologist'), (-0.15136094, u'physician'), (-0.14123532, u'inspector'), (-0.14064099, u'nurse'), (-0.13208503, u'doctor'), (-0.12928598, u'psychiatrist'), (-0.121658236, u'firefighter'), (-0.11959249, u'medic'), (-0.11493914, u'cardiologist'), (-0.09991795, u'chancellor'), (-0.09803933, u'pediatrician'), (-0.09694094, u'caretaker'), (-0.09603677, u'trucker'), (-0.09523685, u'surgeon'), (-0.09338064, u'pathologist'), (-0.09198451, u'solicitor'), (-0.09154694, u'student'), (-0.0908699, u'technician')]\n"
     ]
    }
   ],
   "source": [
    "wealth_direction_rn = E_rn.diff(\"rich\", \"poor\")\n",
    "sp = sorted([(E_rn.v(w).dot(wealth_direction_rn), w) for w in profession_words])\n",
    "\n",
    "print('Extreme rich occupations')\n",
    "print(sp[-20:])\n",
    "\n",
    "print('\\n\\nExtreme poor occupations')\n",
    "print(sp[0:20])"
   ]
  },
  {
   "cell_type": "code",
   "execution_count": 16,
   "metadata": {},
   "outputs": [
    {
     "name": "stdout",
     "output_type": "stream",
     "text": [
      "Extreme white occupations\n",
      "[(0.11836443, u'caretaker'), (0.12156924, u'senator'), (0.13299818, u'prosecutor'), (0.13340312, u'undersecretary'), (0.13704985, u'ambassador'), (0.14099863, u'lawyer'), (0.14173837, u'chancellor'), (0.14304243, u'counselor'), (0.14483933, u'consultant'), (0.15547138, u'negotiator'), (0.15926255, u'attorney'), (0.17025198, u'solicitor'), (0.18116407, u'mediator'), (0.1859518, u'baker'), (0.18632424, u'diplomat'), (0.18720727, u'envoy'), (0.20266934, u'chaplain'), (0.20470433, u'secretary'), (0.23098114, u'aide'), (0.24896337, u'president')]\n",
      "\n",
      "\n",
      "Extreme black occupations\n",
      "[(-0.1383244, u'crooner'), (-0.122965, u'assassin'), (-0.114785776, u'farmer'), (-0.11017609, u'drummer'), (-0.09960004, u'warrior'), (-0.08255394, u'sailor'), (-0.07726715, u'fireman'), (-0.07631561, u'ranger'), (-0.0757678, u'trumpeter'), (-0.07335169, u'trucker'), (-0.0708275, u'maestro'), (-0.06964882, u'comic'), (-0.06872596, u'inventor'), (-0.066908255, u'musician'), (-0.06445114, u'fisherman'), (-0.064160265, u'detective'), (-0.06354058, u'dad'), (-0.062279977, u'dancer'), (-0.061633952, u'confesses'), (-0.060284335, u'student')]\n"
     ]
    }
   ],
   "source": [
    "race_direction_rn = E_rn.diff(\"white\", \"black\")\n",
    "sp = sorted([(E_rn.v(w).dot(race_direction_rn), w) for w in profession_words])\n",
    "\n",
    "print('Extreme white occupations')\n",
    "print(sp[-20:])\n",
    "\n",
    "print('\\n\\nExtreme black occupations')\n",
    "print(sp[0:20])"
   ]
  },
  {
   "cell_type": "code",
   "execution_count": null,
   "metadata": {
    "scrolled": true
   },
   "outputs": [
    {
     "name": "stdout",
     "output_type": "stream",
     "text": [
      "Computing neighbors\n"
     ]
    }
   ],
   "source": [
    "party_analogies_rn = E_rn.best_analogies_dist_thresh(party_direction_rn)"
   ]
  },
  {
   "cell_type": "code",
   "execution_count": null,
   "metadata": {},
   "outputs": [],
   "source": [
    "for (a,b,c) in party_analogies_rn:\n",
    "    print(a+\"-\"+b)"
   ]
  }
 ],
 "metadata": {
  "kernelspec": {
   "display_name": "Python 2",
   "language": "python",
   "name": "python2"
  },
  "language_info": {
   "codemirror_mode": {
    "name": "ipython",
    "version": 2
   },
   "file_extension": ".py",
   "mimetype": "text/x-python",
   "name": "python",
   "nbconvert_exporter": "python",
   "pygments_lexer": "ipython2",
   "version": "2.7.15"
  }
 },
 "nbformat": 4,
 "nbformat_minor": 2
}
