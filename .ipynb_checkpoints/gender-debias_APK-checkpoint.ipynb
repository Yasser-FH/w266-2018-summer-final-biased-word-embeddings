{
 "cells": [
  {
   "cell_type": "code",
   "execution_count": 1,
   "metadata": {},
   "outputs": [],
   "source": [
    "from __future__ import print_function, division\n",
    "%matplotlib inline\n",
    "from matplotlib import pyplot as plt\n",
    "import json\n",
    "import random\n",
    "import numpy as np\n",
    "import debiaswe as dwe\n",
    "import debiaswe.we as we\n",
    "from debiaswe.we import WordEmbedding\n",
    "from debiaswe.debias import debias\n",
    "from sklearn.decomposition import PCA"
   ]
  },
  {
   "cell_type": "markdown",
   "metadata": {},
   "source": [
    "## Replicate gender debias using Google News"
   ]
  },
  {
   "cell_type": "code",
   "execution_count": 34,
   "metadata": {},
   "outputs": [
    {
     "name": "stdout",
     "output_type": "stream",
     "text": [
      "*** Reading data from ./embeddings/w2v_gnews_small.txt\n",
      "(26423, 300)\n",
      "26423 words of dimension 300 : in, for, that, is, ..., Jay, Leroy, Brad, Jermaine\n"
     ]
    }
   ],
   "source": [
    "# load subset of word embedding trained on Google News text\n",
    "# E = WordEmbedding(\"./embeddings/GoogleNews-vectors-negative300-hard-debiased.bin\")\n",
    "E = WordEmbedding(\"./embeddings/w2v_gnews_small.txt\")"
   ]
  },
  {
   "cell_type": "code",
   "execution_count": 35,
   "metadata": {
    "scrolled": true
   },
   "outputs": [
    {
     "name": "stdout",
     "output_type": "stream",
     "text": [
      "Computing neighbors\n",
      "Mean: 10.2198085002\n",
      "Median: 7.0\n"
     ]
    }
   ],
   "source": [
    "# she−he gender direction on g2vNEWS\n",
    "gender_direction = E.diff(\"she\", \"he\")\n",
    "\n",
    "# appendix A: generating analogies\n",
    "gender_analogies = E.best_analogies_dist_thresh(gender_direction)"
   ]
  },
  {
   "cell_type": "code",
   "execution_count": 47,
   "metadata": {},
   "outputs": [
    {
     "name": "stdout",
     "output_type": "stream",
     "text": [
      "she-he\n",
      "herself-himself\n",
      "her-his\n",
      "woman-man\n",
      "daughter-son\n",
      "businesswoman-businessman\n",
      "girl-boy\n",
      "actress-actor\n",
      "chairwoman-chairman\n",
      "heroine-hero\n",
      "mother-father\n",
      "spokeswoman-spokesman\n",
      "sister-brother\n",
      "girls-boys\n",
      "sisters-brothers\n",
      "queen-king\n",
      "niece-nephew\n",
      "councilwoman-councilman\n",
      "motherhood-fatherhood\n",
      "women-men\n"
     ]
    }
   ],
   "source": [
    "# print gender analogies\n",
    "for (a,b,c) in gender_analogies[:20]:\n",
    "# for (a,b,c) in gender_analogies:\n",
    "    print(a+\"-\"+b)"
   ]
  },
  {
   "cell_type": "code",
   "execution_count": 5,
   "metadata": {},
   "outputs": [],
   "source": [
    "# load professions file\n",
    "with open(\"./data/professions.json\", 'r') as f:\n",
    "    professions = json.load(f)"
   ]
  },
  {
   "cell_type": "code",
   "execution_count": 6,
   "metadata": {
    "scrolled": true
   },
   "outputs": [
    {
     "name": "stdout",
     "output_type": "stream",
     "text": [
      "Extreme she occupations\n",
      "[(0.19714224, u'interior_designer'), (0.20833439, u'housekeeper'), (0.21560375, u'stylist'), (0.2236317, u'bookkeeper'), (0.23776126, u'maid'), (0.24125955, u'nun'), (0.24782579, u'nanny'), (0.24929334, u'hairdresser'), (0.24946158, u'paralegal'), (0.25276464, u'ballerina'), (0.25718823, u'socialite'), (0.26647124, u'librarian'), (0.27317622, u'receptionist'), (0.27540293, u'waitress'), (0.28085968, u'nurse'), (0.3042623, u'registered_nurse'), (0.3043797, u'homemaker'), (0.3403659, u'housewife'), (0.3523514, u'actress'), (0.35965404, u'businesswoman')]\n",
      "\n",
      "\n",
      "Extreme he occupations\n",
      "[(-0.23798442, u'maestro'), (-0.21665451, u'statesman'), (-0.20758669, u'skipper'), (-0.20267202, u'protege'), (-0.2020676, u'businessman'), (-0.19492392, u'sportsman'), (-0.18836352, u'philosopher'), (-0.1807366, u'marksman'), (-0.1728986, u'captain'), (-0.16785555, u'architect'), (-0.16702037, u'financier'), (-0.16313636, u'warrior'), (-0.15280862, u'major_leaguer'), (-0.15001445, u'trumpeter'), (-0.14718868, u'broadcaster'), (-0.14637242, u'magician'), (-0.14401694, u'fighter_pilot'), (-0.13782285, u'boss'), (-0.137182, u'industrialist'), (-0.13684885, u'pundit')]\n"
     ]
    }
   ],
   "source": [
    "# show gender bias in word vectors associated with professions\n",
    "# sort by projection score in the direction of gender\n",
    "# equivalent to Fig 1\n",
    "gender_bias_projection_score = sorted([(E.v(w).dot(gender_direction), w) for w in professions])\n",
    "\n",
    "print('Extreme she occupations')\n",
    "print(gender_bias_projection_score[-20:])\n",
    "\n",
    "print('\\n\\nExtreme he occupations')\n",
    "print(gender_bias_projection_score[0:20])"
   ]
  },
  {
   "cell_type": "markdown",
   "metadata": {},
   "source": [
    "### 5.2 direct bias"
   ]
  },
  {
   "cell_type": "code",
   "execution_count": 7,
   "metadata": {},
   "outputs": [],
   "source": [
    "# direct bias\n",
    "# identify gender-neutral words\n",
    "with open('./data/definitional_pairs.json', \"r\") as f:\n",
    "    definitional = json.load(f)"
   ]
  },
  {
   "cell_type": "code",
   "execution_count": 8,
   "metadata": {},
   "outputs": [],
   "source": [
    "vector_differences = []\n",
    "for a, b in definitional:\n",
    "    center = (E.v(a) + E.v(b))/2\n",
    "    vector_differences.append(E.v(a) - center)\n",
    "    vector_differences.append(E.v(b) - center)\n",
    "vector_differences = np.array(vector_differences)"
   ]
  },
  {
   "cell_type": "code",
   "execution_count": 9,
   "metadata": {},
   "outputs": [],
   "source": [
    "pca = PCA(n_components=10)\n",
    "result = pca.fit_transform(vector_differences)"
   ]
  },
  {
   "cell_type": "code",
   "execution_count": 10,
   "metadata": {},
   "outputs": [
    {
     "data": {
      "text/plain": [
       "<BarContainer object of 10 artists>"
      ]
     },
     "execution_count": 10,
     "metadata": {},
     "output_type": "execute_result"
    },
    {
     "data": {
      "image/png": "[encoded data removed]",
      "text/plain": [
       "<Figure size 432x288 with 1 Axes>"
      ]
     },
     "metadata": {},
     "output_type": "display_data"
    }
   ],
   "source": [
    "plt.bar(range(result.shape[1]),pca.explained_variance_ratio_)"
   ]
  },
  {
   "cell_type": "markdown",
   "metadata": {},
   "source": [
    "### 5.3 indirect bias"
   ]
  },
  {
   "cell_type": "code",
   "execution_count": 11,
   "metadata": {},
   "outputs": [],
   "source": [
    "# plot created using R \n",
    "# export \"gender_bias_projection_score\" as file\n",
    "\n",
    "# library(ggplot2)\n",
    "# library(ggrepel)\n",
    "\n",
    "# small_set <- read.table(\"~/Documents/berkeley/W266/w266-2018-summer-final-biased-word-embeddings/data/gender_profession_subset-5.3.txt\", header = F, stringsAsFactors = F)\n",
    "# gender_bias_projection_score <- read.csv(\"~/Documents/berkeley/W266/w266-2018-summer-final-biased-word-embeddings/data/gender_bias_projection_score-5.3.txt\", header = F, stringsAsFactors = F )\n",
    "# gender_bias_projection_score <- subset(gender_bias_projection_score, V2 %in% small_set$V1)\n",
    "# png('~/Documents/berkeley/W266/w266-2018-summer-final-biased-word-embeddings/r-plots/gender_bias_projection_score-5.3.png', units=\"in\", width=4, height=2.6, res=500)\n",
    "# ggplot(data = gender_bias_projection_score, aes(x = V1, y = 0)) +\n",
    "#   geom_vline(xintercept = 0, size=0.2, linetype = \"dashed\", colour = \"red\") +\n",
    "#   # geom_hline(yintercept = 0, size=0.1, colour = \"grey\") +\n",
    "#   geom_text_repel(aes(label = V2), direction = \"y\", size=1.5,\n",
    "#                   box.padding = unit(0.1, \"lines\"),\n",
    "#                   color = \"black\", segment.alpha=0) +\n",
    "#   theme_bw() +\n",
    "#   theme(axis.title.y=element_blank(),\n",
    "#         axis.text.y=element_blank(),\n",
    "#         axis.ticks.y=element_blank(),\n",
    "#         axis.title.x=element_blank(),\n",
    "#         axis.text.x=element_blank(),\n",
    "#         axis.ticks.x=element_blank(),\n",
    "#         panel.grid.major = element_blank(),\n",
    "#         panel.grid.minor = element_blank(),\n",
    "#         panel.border = element_blank(),\n",
    "#         panel.background = element_blank(),\n",
    "#         legend.position=\"none\"\n",
    "#   )\n",
    "# dev.off()  \n"
   ]
  },
  {
   "cell_type": "markdown",
   "metadata": {},
   "source": [
    "![caption](./r-plots/gender_bias_projection_score-5.3.png)"
   ]
  },
  {
   "cell_type": "markdown",
   "metadata": {},
   "source": [
    "### 6 debiasing algorithm"
   ]
  },
  {
   "cell_type": "code",
   "execution_count": 11,
   "metadata": {},
   "outputs": [],
   "source": [
    "# 7 Determining gender neutral words\n",
    "with open('./data/equalize_pairs.json', \"r\") as f:\n",
    "    equalize = json.load(f)\n",
    "\n",
    "with open('./data/gender_specific_full.json', \"r\") as f:\n",
    "    gender_specific = json.load(f)"
   ]
  },
  {
   "cell_type": "code",
   "execution_count": 12,
   "metadata": {},
   "outputs": [
    {
     "name": "stdout",
     "output_type": "stream",
     "text": [
      "26423 words of dimension 300 : in, for, that, is, ..., Jay, Leroy, Brad, Jermaine\n",
      "set([(u'Dad', u'Mom'), (u'fathers', u'mothers'), (u'Gelding', u'Mare'), (u'twin_brother', u'twin_sister'), (u'HIMSELF', u'HERSELF'), (u'GRANDSONS', u'GRANDDAUGHTERS'), (u'KING', u'QUEEN'), (u'FRATERNITY', u'SORORITY'), (u'prince', u'princess'), (u'men', u'women'), (u'FATHERHOOD', u'MOTHERHOOD'), (u'Dudes', u'Gals'), (u'DADS', u'MOMS'), (u'BOYS', u'GIRLS'), (u'nephew', u'niece'), (u'Father', u'Mother'), (u'He', u'She'), (u'Grandfather', u'Grandmother'), (u'Spokesman', u'Spokeswoman'), (u'Brother', u'Sister'), (u'FATHERS', u'MOTHERS'), (u'UNCLE', u'AUNT'), (u'gelding', u'mare'), (u'Himself', u'Herself'), (u'his', u'her'), (u'Son', u'Daughter'), (u'prostate_cancer', u'ovarian_cancer'), (u'BROTHER', u'SISTER'), (u'chairman', u'chairwoman'), (u'MEN', u'WOMEN'), (u'gentlemen', u'ladies'), (u'SON', u'DAUGHTER'), (u'king', u'queen'), (u'Colt', u'Filly'), (u'councilman', u'councilwoman'), (u'SPOKESMAN', u'SPOKESWOMAN'), (u'testosterone', u'estrogen'), (u'BOY', u'GIRL'), (u'ex_girlfriend', u'ex_boyfriend'), (u'SCHOOLBOY', u'SCHOOLGIRL'), (u'Boys', u'Girls'), (u'PROSTATE_CANCER', u'OVARIAN_CANCER'), (u'WIVES', u'HUSBANDS'), (u'Chairman', u'Chairwoman'), (u'Men', u'Women'), (u'uncle', u'aunt'), (u'CATHOLIC_PRIEST', u'NUN'), (u'GRANDSON', u'GRANDDAUGHTER'), (u'Grandsons', u'Granddaughters'), (u'monastery', u'convent'), (u'BUSINESSMAN', u'BUSINESSWOMAN'), (u'dad', u'mom'), (u'males', u'females'), (u'TESTOSTERONE', u'ESTROGEN'), (u'Fathers', u'Mothers'), (u'His', u'Her'), (u'MAN', u'WOMAN'), (u'COLT', u'FILLY'), (u'Gentlemen', u'Ladies'), (u'GRANDPA', u'GRANDMA'), (u'Dads', u'Moms'), (u'Boy', u'Girl'), (u'Fella', u'Granny'), (u'dudes', u'gals'), (u'GELDING', u'MARE'), (u'schoolboy', u'schoolgirl'), (u'grandsons', u'granddaughters'), (u'HIS', u'HER'), (u'wives', u'husbands'), (u'fatherhood', u'motherhood'), (u'Testosterone', u'Estrogen'), (u'FELLA', u'GRANNY'), (u'DUDES', u'GALS'), (u'catholic_priest', u'nun'), (u'dads', u'moms'), (u'spokesman', u'spokeswoman'), (u'COUNCILMAN', u'COUNCILWOMAN'), (u'NEPHEW', u'NIECE'), (u'Man', u'Woman'), (u'HE', u'SHE'), (u'Sons', u'Daughters'), (u'fraternity', u'sorority'), (u'fella', u'granny'), (u'colt', u'filly'), (u'Catholic_Priest', u'Nun'), (u'Nephew', u'Niece'), (u'Prostate_Cancer', u'Ovarian_Cancer'), (u'he', u'she'), (u'Wives', u'Husbands'), (u'businessman', u'businesswoman'), (u'DAD', u'MOM'), (u'Males', u'Females'), (u'Grandson', u'Granddaughter'), (u'kings', u'queens'), (u'grandpa', u'grandma'), (u'brothers', u'sisters'), (u'son', u'daughter'), (u'grandfather', u'grandmother'), (u'sons', u'daughters'), (u'Prince', u'Princess'), (u'PRINCE', u'PRINCESS'), (u'EX_GIRLFRIEND', u'EX_BOYFRIEND'), (u'congressman', u'congresswoman'), (u'TWIN_BROTHER', u'TWIN_SISTER'), (u'grandson', u'granddaughter'), (u'FATHER', u'MOTHER'), (u'King', u'Queen'), (u'GRANDFATHER', u'GRANDMOTHER'), (u'SONS', u'DAUGHTERS'), (u'Uncle', u'Aunt'), (u'Kings', u'Queens'), (u'Ex_Girlfriend', u'Ex_Boyfriend'), (u'Brothers', u'Sisters'), (u'Twin_Brother', u'Twin_Sister'), (u'himself', u'herself'), (u'boys', u'girls'), (u'Male', u'Female'), (u'brother', u'sister'), (u'gentleman', u'lady'), (u'Fraternity', u'Sorority'), (u'CHAIRMAN', u'CHAIRWOMAN'), (u'MALE', u'FEMALE'), (u'father', u'mother'), (u'CONGRESSMAN', u'CONGRESSWOMAN'), (u'male', u'female'), (u'MALES', u'FEMALES'), (u'GENTLEMEN', u'LADIES'), (u'Councilman', u'Councilwoman'), (u'man', u'woman'), (u'Gentleman', u'Lady'), (u'Grandpa', u'Grandma'), (u'KINGS', u'QUEENS'), (u'boy', u'girl'), (u'MONASTERY', u'CONVENT'), (u'Fatherhood', u'Motherhood'), (u'BROTHERS', u'SISTERS'), (u'Businessman', u'Businesswoman'), (u'Schoolboy', u'Schoolgirl'), (u'GENTLEMAN', u'LADY'), (u'Monastery', u'Convent'), (u'Congressman', u'Congresswoman')])\n",
      "26423 words of dimension 300 : in, for, that, is, ..., Jay, Leroy, Brad, Jermaine\n"
     ]
    }
   ],
   "source": [
    "# perform debiasing\n",
    "debias(E, gender_specific, definitional, equalize)"
   ]
  },
  {
   "cell_type": "markdown",
   "metadata": {},
   "source": [
    "### 8 debiasing results"
   ]
  },
  {
   "cell_type": "code",
   "execution_count": 13,
   "metadata": {},
   "outputs": [
    {
     "name": "stdout",
     "output_type": "stream",
     "text": [
      "Extreme she occupations\n",
      "[(0.033643793, u'student'), (0.03403571, u'illustrator'), (0.034525253, u'patrolman'), (0.034747534, u'hairdresser'), (0.037651695, u'foreman'), (0.0377223, u'carpenter'), (0.037771206, u'pastor'), (0.038419843, u'nanny'), (0.04051316, u'janitor'), (0.043088164, u'firefighter'), (0.047822054, u'wrestler'), (0.06411566, u'teenager'), (0.23776129, u'maid'), (0.24125956, u'nun'), (0.25276467, u'ballerina'), (0.25718823, u'socialite'), (0.27540293, u'waitress'), (0.34036583, u'housewife'), (0.3523514, u'actress'), (0.4058326, u'businesswoman')]\n",
      "\n",
      "\n",
      "Extreme he occupations\n",
      "[(-0.4154882, u'congressman'), (-0.4115872, u'businessman'), (-0.32975563, u'councilman'), (-0.2997815, u'dad'), (-0.21665451, u'statesman'), (-0.11345412, u'salesman'), (-0.073004864, u'monk'), (-0.072163954, u'handyman'), (-0.041478336, u'commander'), (-0.04051176, u'minister'), (-0.037369348, u'skipper'), (-0.036916208, u'commissioner'), (-0.03343007, u'observer'), (-0.032828867, u'manager'), (-0.032105114, u'firebrand'), (-0.031202465, u'surgeon'), (-0.03115207, u'citizen'), (-0.031070886, u'archbishop'), (-0.029434491, u'bishop'), (-0.02937157, u'captain')]\n"
     ]
    }
   ],
   "source": [
    "# check again for gender bias in professions after debiasing\n",
    "gender_debiased_projection_score = sorted([(E.v(w).dot(gender_direction), w) for w in professions])\n",
    "\n",
    "print('Extreme she occupations')\n",
    "print(gender_debiased_projection_score[-20:])\n",
    "\n",
    "print('\\n\\nExtreme he occupations')\n",
    "print(gender_debiased_projection_score[0:20])"
   ]
  },
  {
   "cell_type": "markdown",
   "metadata": {},
   "source": [
    "### verify debias by word projection on x axis"
   ]
  },
  {
   "cell_type": "code",
   "execution_count": null,
   "metadata": {},
   "outputs": [],
   "source": [
    "# plot created using R \n",
    "# export \"gender_debiased_projection_score\" as file\n",
    "\n",
    "# library(ggplot2)\n",
    "# library(ggrepel)\n",
    "\n",
    "# small_set <- read.table(\"~/Documents/berkeley/W266/w266-2018-summer-final-biased-word-embeddings/data/gender_profession_subset-5.3.txt\", header = F, stringsAsFactors = F)\n",
    "# gender_debiased_projection_score <- read.csv(\"~/Documents/berkeley/W266/w266-2018-summer-final-biased-word-embeddings/data/gender_debiased_projection_score-5.3.txt\", header = F)\n",
    "# gender_debiased_projection_score <- subset(gender_debiased_projection_score, V2 %in% small_set$V1)\n",
    "# png('~/Documents/berkeley/W266/w266-2018-summer-final-biased-word-embeddings/r-plots/gender_debiased_projection_score-5.3.png', units=\"in\", width=4, height=2.6, res=500)\n",
    "# ggplot(data = gender_debiased_projection_score, aes(x = V1, y = 0)) +\n",
    "#   geom_vline(xintercept = 0, size=0.2, linetype = \"dashed\", colour = \"red\") +\n",
    "#   # geom_hline(yintercept = 0, size=0.1, colour = \"grey\") +\n",
    "#   geom_text_repel(aes(label = V2), direction = \"y\", size=1.5,\n",
    "#                   box.padding = unit(0.1, \"lines\"),\n",
    "#                   color = \"black\", segment.alpha=0) +\n",
    "#   theme_bw() +\n",
    "#   theme(axis.title.y=element_blank(),\n",
    "#         axis.text.y=element_blank(),\n",
    "#         axis.ticks.y=element_blank(),\n",
    "#         axis.title.x=element_blank(),\n",
    "#         axis.text.x=element_blank(),\n",
    "#         axis.ticks.x=element_blank(),\n",
    "#         panel.grid.major = element_blank(),\n",
    "#         panel.grid.minor = element_blank(),\n",
    "#         panel.border = element_blank(),\n",
    "#         panel.background = element_blank(),\n",
    "#         legend.position=\"none\"\n",
    "#   )\n",
    "# dev.off()   \n"
   ]
  },
  {
   "cell_type": "markdown",
   "metadata": {},
   "source": [
    "![caption](./r-plots/gender_debiased_projection_score-5.3.png)"
   ]
  },
  {
   "cell_type": "markdown",
   "metadata": {},
   "source": [
    "## Politics debias using Jenni's embeddings"
   ]
  },
  {
   "cell_type": "code",
   "execution_count": 2,
   "metadata": {
    "scrolled": true
   },
   "outputs": [
    {
     "name": "stdout",
     "output_type": "stream",
     "text": [
      "*** Reading data from ./embeddings/RANE_300d_english_50k.txt\n",
      "(50000, 300)\n",
      "50000 words of dimension 300 : the, to, of, and, ..., prin, synchronise, dissertations, mammography\n",
      "50000 words of dimension 300 : the, to, of, and, ..., prin, synchronise, dissertations, mammography\n"
     ]
    }
   ],
   "source": [
    "E2 = WordEmbedding(\"./embeddings/RANE_300d_english_50k.txt\")"
   ]
  },
  {
   "cell_type": "code",
   "execution_count": 3,
   "metadata": {},
   "outputs": [
    {
     "name": "stdout",
     "output_type": "stream",
     "text": [
      "Computing neighbors\n",
      "Mean: 126.01516\n",
      "Median: 26.0\n"
     ]
    }
   ],
   "source": [
    "# \"democrats-republicans on Jenni's embeddings\n",
    "politics_direction = E2.diff(\"democrats\", \"republicans\")\n",
    "\n",
    "# appendix A: generating analogies\n",
    "politics_analogies = E2.best_analogies_dist_thresh(politics_direction)"
   ]
  },
  {
   "cell_type": "code",
   "execution_count": 4,
   "metadata": {},
   "outputs": [
    {
     "name": "stdout",
     "output_type": "stream",
     "text": [
      "democrats-republicans\n",
      "democratic-republican\n",
      "cohesion-coherence\n",
      "mores-materialism\n",
      "democrat-congressman\n",
      "darwinism-determinism\n",
      "phobias-afflictions\n",
      "civitas-ineludible\n",
      "conservatism-hubris\n",
      "stratification-inequalities\n",
      "leveller-gatsby\n",
      "outcast-anachronism\n",
      "ills-maladies\n",
      "networks-routers\n",
      "phobia-delusions\n",
      "fabric-metallic\n",
      "democracy-authoritarian\n",
      "psycho-slapstick\n",
      "anthropology-biochemistry\n",
      "outcasts-hippies\n",
      "kathleen-larry\n",
      "frau-erst\n",
      "bedford-bridgewater\n",
      "medial-perforation\n",
      "uca-tormenta\n",
      "engineering-aeronautical\n",
      "archibald-keats\n",
      "norm-commonplace\n",
      "minister-minster\n",
      "determinants-indicators\n",
      "psychologist-cardiologist\n",
      "felicity-garth\n",
      "woodruff-huff\n",
      "worker-employee\n",
      "andrea-cecilia\n",
      "psychologists-professionals\n",
      "conservatives-lawmakers\n",
      "rochelle-darin\n",
      "cathy-brett\n",
      "leftwing-technocrats\n",
      "hampshire-connecticut\n",
      "leftists-westerners\n",
      "hierarchies-doctrines\n",
      "injustice-ignorance\n",
      "lynx-tortoise\n",
      "sundae-concoctions\n",
      "guinea-madagascar\n",
      "miro-termino\n",
      "arizona-tallahassee\n",
      "reformer-pragmatist\n",
      "satire-melodramatic\n",
      "upheavals-turbulence\n",
      "psychology-genetics\n",
      "archives-artefacts\n",
      "homme-mille\n",
      "markus-siegfried\n",
      "enterprise-enterprises\n",
      "governments-regulators\n",
      "curator-conservator\n",
      "unabashedly-braggadocio\n",
      "entrepreneur-salesman\n",
      "astrophysics-physicists\n",
      "alienation-visceral\n",
      "lapels-cloaks\n",
      "christian-mormon\n",
      "taboos-superstition\n",
      "red-blue\n",
      "brunswick-saskatoon\n",
      "meningitis-pneumonia\n",
      "butler-jagger\n",
      "disintegration-stasis\n",
      "enterprises-companies\n",
      "humanities-professors\n",
      "valencia-santiago\n",
      "senator-corker\n",
      "tawny-snake\n",
      "harmony-contentment\n",
      "artist-painter\n",
      "statesman-disciple\n",
      "amanda-billy\n",
      "illiberal-dictatorial\n",
      "mari-shoji\n",
      "caroline-phil\n",
      "albuquerque-tulsa\n",
      "socialists-loyalists\n",
      "mosaic-frescoes\n",
      "taipei-hanoi\n",
      "luciana-quebracho\n",
      "polarization-partisanship\n",
      "populist-protectionist\n",
      "greens-moderates\n",
      "coordinator-consultant\n",
      "influx-outflow\n",
      "beata-nieves\n",
      "justicia-asse\n",
      "secularist-sunni\n",
      "electorates-jurisdictions\n",
      "wafd-abed\n",
      "cleavages-animosities\n",
      "neuroscience-radiology\n",
      "asha-babu\n",
      "wolves-poachers\n",
      "rosalie-elwood\n",
      "currie-kanas\n",
      "sociologist-thaler\n",
      "antonio-juan\n",
      "mobility-connectivity\n",
      "plaid-rimmed\n",
      "marchand-malkin\n",
      "fantastic-magical\n",
      "hillier-beshear\n",
      "bohemia-deus\n",
      "bishop-parishioner\n",
      "glaciologist-samani\n",
      "chowder-pickling\n",
      "topless-paparazzi\n",
      "criminology-tufts\n",
      "welcoming-hospitable\n",
      "downer-tinkler\n",
      "neves-electo\n",
      "chevalier-jager\n",
      "germany-japan\n",
      "protestant-monastic\n",
      "spiralling-spiraling\n",
      "autism-sufferers\n",
      "waffles-gnocchi\n",
      "anarchism-metaphysics\n",
      "lawrie-wren\n",
      "entrants-consolidators\n",
      "majlis-mohammad\n",
      "pendant-inlaid\n",
      "nipissing-kootenay\n",
      "reformers-skeptics\n",
      "paediatric-itai\n",
      "batman-wolverine\n",
      "ovary-gastric\n",
      "mna-brunet\n",
      "ridings-districts\n",
      "unrest-bloodshed\n",
      "sizzling-frothy\n",
      "leader-leaders\n",
      "orbited-asteroids\n",
      "german-japanese\n",
      "dern-boba\n",
      "caledonia-delhi\n",
      "riesling-citrus\n",
      "youth-youngsters\n",
      "erica-lenny\n",
      "pluralistic-polity\n",
      "hens-fish\n",
      "movements-fluctuations\n",
      "bonding-intimacy\n",
      "rhineland-malwa\n",
      "network-optic\n",
      "constance-smithers\n",
      "adelina-montes\n",
      "externe-partie\n",
      "briggs-percival\n",
      "neurobiology-interventional\n",
      "interaction-familiarity\n",
      "synagogue-congregants\n",
      "helen-harold\n",
      "bert-galen\n",
      "plural-prakrit\n",
      "interface-device\n",
      "louise-marilyn\n",
      "phones-devices\n",
      "chocolatier-distiller\n",
      "flo-elvis\n",
      "ymca-manor\n",
      "chastity-sati\n",
      "rejoin-reimpose\n",
      "shan-dorje\n",
      "kidnapping-banditry\n",
      "economy-inflation\n",
      "parti-seri\n",
      "sturt-longwood\n",
      "squires-doty\n",
      "basketballer-newsman\n",
      "bread-spices\n",
      "embraced-upended\n",
      "politician-bureaucrat\n",
      "constructs-universes\n",
      "lipstick-dryer\n",
      "belinda-bobby\n",
      "homes-homeowners\n",
      "papua-indonesia\n",
      "yorker-newsweek\n",
      "gabriel-casanova\n",
      "duet-guitarists\n",
      "breed-breeds\n",
      "horner-sauter\n",
      "gemma-liv\n",
      "detention-interrogation\n",
      "dressage-thoroughbred\n",
      "kisses-growls\n",
      "shepherds-gardeners\n",
      "burka-hosepipe\n",
      "southeastern-mountainous\n",
      "urbanism-modernist\n",
      "egg-prawns\n",
      "samaj-rajput\n",
      "squat-proverbial\n",
      "sebastian-rafael\n",
      "telfer-mudd\n",
      "hamburg-frankfurt\n",
      "gluck-bashaw\n",
      "fabian-seba\n",
      "alliance-pact\n",
      "pickles-tamarind\n",
      "economic-geopolitical\n",
      "parsnip-mange\n",
      "attitudes-ambivalence\n",
      "biathlon-skiers\n",
      "norms-frameworks\n",
      "greeting-heartily\n",
      "yellows-wilted\n",
      "unholy-anachronistic\n",
      "manada-espada\n",
      "concha-mesa\n",
      "lubricant-residue\n",
      "inscription-buddha\n",
      "minnesota-florida\n",
      "wicks-tarry\n",
      "unseeded-spaniard\n",
      "hibernian-kilmarnock\n",
      "petrie-dales\n",
      "pollster-pollsters\n",
      "ultraviolet-radiation\n",
      "realism-perfection\n",
      "tutela-extender\n",
      "butterfly-spiders\n",
      "huskies-sabres\n",
      "lars-wim\n",
      "bate-protocolar\n",
      "injustices-indignities\n",
      "upheaval-shakeout\n",
      "italians-britons\n",
      "platforms-providers\n",
      "scientist-neurosurgeon\n",
      "austria-switzerland\n",
      "inventing-mastering\n",
      "tolu-woolsey\n",
      "parliamentary-legislative\n",
      "plump-mellow\n",
      "suzanne-hank\n",
      "blain-lacker\n",
      "governance-policymaking\n",
      "streetcars-commuters\n",
      "ecology-fauna\n",
      "tanya-noel\n",
      "ferrier-godfrey\n",
      "exploitative-irrational\n",
      "shelter-evacuees\n",
      "trounced-outmaneuvered\n",
      "playwright-lear\n",
      "compact-crossovers\n",
      "palsy-cerebral\n",
      "tate-bradbury\n",
      "shiny-ghostly\n",
      "ambassadors-envoys\n",
      "morals-honesty\n",
      "laura-eliot\n",
      "crowd-onlookers\n",
      "skills-skill\n",
      "acceptability-desirability\n",
      "antoinette-amour\n",
      "ahmed-abu\n",
      "minerva-escudero\n",
      "guerillas-sepoys\n",
      "willy-mario\n",
      "individualist-abrasive\n",
      "moroccans-indonesians\n",
      "deprive-undo\n",
      "holland-whitworth\n",
      "unseated-filibustered\n",
      "danish-british\n",
      "protestants-tibetans\n",
      "endometriosis-bronchitis\n",
      "habitan-embargos\n",
      "organizations-firms\n",
      "bourgeoisie-despots\n",
      "generalidad-trinchera\n",
      "allergen-allergens\n",
      "foxy-snoopy\n",
      "krona-zlotys\n",
      "outrage-incredulity\n",
      "screamed-screams\n",
      "chocolate-cacao\n",
      "incubate-commercialize\n",
      "stickers-seashells\n",
      "projet-titres\n",
      "enthusiastic-sanguine\n",
      "housing-rental\n",
      "geophysical-atmospheric\n",
      "invent-imitate\n",
      "godmother-fable\n",
      "desirability-opacity\n",
      "adrienne-roscoe\n",
      "inequities-deficiencies\n",
      "instability-uncertainties\n",
      "camara-kojima\n",
      "appealed-lobbied\n",
      "delinquents-offenders\n",
      "johanna-beryl\n",
      "awkwardness-boredom\n",
      "egalitarian-interventionist\n",
      "firebirds-kiwis\n",
      "leninist-despotic\n",
      "shirt-briefcase\n",
      "infante-designado\n",
      "lingerie-stylists\n",
      "libertarian-neoconservative\n",
      "ostracism-deprivation\n",
      "spearheaded-stymied\n",
      "tartan-bearskin\n",
      "firstborn-deathbed\n",
      "philanthropist-gambler\n",
      "rightist-americanism\n",
      "murderers-assassins\n",
      "brittany-charley\n",
      "demographer-lardy\n",
      "sabin-murthy\n",
      "supports-ignores\n",
      "grocer-shoppers\n",
      "shilling-rials\n",
      "papier-loin\n",
      "accusations-speculations\n",
      "caudal-tendido\n",
      "renwick-clary\n",
      "spaces-courtyards\n",
      "lotions-whitening\n",
      "ancestor-sapiens\n",
      "welcomed-heralded\n",
      "gannets-saiga\n",
      "collard-leech\n",
      "invigorate-liberalize\n",
      "pantsuit-grayish\n",
      "netherlands-bermuda\n",
      "cassy-pam\n",
      "skate-paddle\n",
      "buses-passengers\n",
      "walker-dudley\n",
      "escolar-alerta\n",
      "olaf-carsten\n",
      "sprout-germinate\n",
      "rhine-piedmont\n",
      "antisemite-intruder\n",
      "volunteers-locals\n",
      "distributing-selling\n",
      "broadcaster-rte\n",
      "angry-jaded\n",
      "ralf-kazuhiro\n",
      "kumari-nanda\n",
      "mocking-consoling\n",
      "wild-snakes\n",
      "bistro-pho\n",
      "lall-jain\n",
      "platform-software\n",
      "lentil-tapioca\n",
      "colleagues-aides\n",
      "machete-bullets\n",
      "sandra-otis\n",
      "realist-bluster\n",
      "adriatic-gangetic\n",
      "conscience-moral\n",
      "malts-whiskeys\n",
      "hungarians-cubans\n",
      "bogey-putts\n",
      "petri-flavorful\n",
      "adores-chuckles\n",
      "pensioners-savers\n",
      "frontbencher-wran\n",
      "addictions-addicts\n",
      "austrian-argentine\n",
      "roam-wander\n",
      "suggested-speculated\n",
      "paws-canines\n",
      "cady-tennyson\n",
      "metis-haida\n",
      "manuel-carlos\n",
      "gesellschaft-etwas\n",
      "stephanie-monica\n",
      "feisty-pleasingly\n",
      "disorder-psychotic\n",
      "livery-limousines\n",
      "griff-leith\n",
      "digs-seeps\n",
      "sash-conical\n",
      "contract-contractual\n",
      "victories-disappointments\n",
      "venture-sequoia\n",
      "androgynous-naturalistic\n",
      "schnell-adorno\n",
      "pamphlets-fliers\n",
      "secularists-autocrats\n",
      "siberian-leopards\n",
      "robin-jon\n",
      "pavan-slavin\n",
      "comer-cantar\n",
      "fries-steaks\n",
      "philosopher-philosophers\n",
      "wheat-soybeans\n",
      "sisters-disciples\n",
      "cervix-gallbladder\n",
      "technologies-products\n",
      "burnet-greenstone\n",
      "meningococcal-legionnaires\n",
      "triangle-horseshoe\n",
      "consortium-conglomerate\n",
      "lidia-basso\n",
      "sandals-mannequins\n",
      "nets-sharks\n",
      "sang-hum\n",
      "additions-revisions\n",
      "staffer-staffers\n",
      "shocking-baffling\n",
      "plover-pine\n",
      "coburg-rockaway\n",
      "junction-ghat\n",
      "outputs-inputs\n",
      "pratique-livraison\n",
      "cubicle-bathtub\n",
      "sylvia-teng\n",
      "bulgarians-egyptians\n",
      "blouse-scruffy\n",
      "macron-abe\n",
      "crucifix-tombstones\n",
      "danube-ganges\n",
      "ecologist-biologists\n",
      "outfit-headpiece\n",
      "adorn-stately\n",
      "disrespect-recklessness\n",
      "sultana-sahib\n",
      "infiltrate-evade\n",
      "ambrose-bowyer\n",
      "pl-sess\n",
      "vacuous-contrived\n",
      "coombs-fink\n",
      "czechoslovakia-shogunate\n",
      "gull-sparrows\n",
      "enslavement-cannibalism\n",
      "palmira-montevideo\n",
      "selected-graded\n",
      "religion-buddhists\n",
      "unionism-reflation\n",
      "socialites-listers\n",
      "stylish-luxurious\n",
      "wali-shah\n",
      "bedraggled-disheveled\n",
      "mascara-grating\n",
      "morality-humility\n",
      "affiliate-acquirer\n",
      "exclusion-exclusions\n",
      "underlined-underscoring\n",
      "socialite-hemingway\n",
      "south-north\n",
      "sem-bcd\n",
      "multicultural-diverse\n",
      "party-parties\n",
      "rainbow-serpent\n",
      "ensemble-melodic\n",
      "mussolini-tyrannical\n",
      "patriarchal-superstitious\n",
      "grande-hondo\n",
      "coalitions-factions\n",
      "psychotherapist-tradesman\n",
      "political-partisan\n",
      "julia-cormac\n",
      "duping-hoodwinked\n",
      "echuca-scone\n",
      "enslaved-nomadic\n",
      "chairwoman-chairmen\n",
      "komi-tonto\n",
      "traffics-spouted\n",
      "army-marines\n",
      "defamed-corroborated\n",
      "pontus-lalo\n",
      "laborers-filipinos\n",
      "clarissa-popeye\n",
      "kingmaker-technocrat\n",
      "artiste-tangos\n",
      "cabaret-vaudeville\n",
      "sunna-sufi\n",
      "kern-coolidge\n",
      "reds-batsmen\n",
      "promotes-underlies\n",
      "fishers-growers\n",
      "konrad-schelling\n",
      "immunologist-urologist\n",
      "reactionary-militaristic\n",
      "site-quarry\n",
      "equestrian-mountaineering\n",
      "accel-cerberus\n",
      "athletics-athletes\n",
      "anarchist-elitist\n",
      "danzig-alban\n",
      "midwife-surgeon\n",
      "creations-sayings\n",
      "bannock-coconuts\n"
     ]
    }
   ],
   "source": [
    "# print gender analogies\n",
    "# for (a,b,c) in politics_analogies:\n",
    "for (a,b,c) in politics_analogies[:20]:\n",
    "    print(a+'-'+b)"
   ]
  },
  {
   "cell_type": "code",
   "execution_count": 17,
   "metadata": {},
   "outputs": [],
   "source": [
    "# load professions file for Jenni's embeddings\n",
    "with open(\"./data/professions_jenni.json\", 'r') as f:\n",
    "    professions_j = json.load(f)"
   ]
  },
  {
   "cell_type": "code",
   "execution_count": 18,
   "metadata": {},
   "outputs": [
    {
     "name": "stdout",
     "output_type": "stream",
     "text": [
      "Extreme democrats occupations\n",
      "[(0.12082663, u'statesman'), (0.12266756, u'advocate'), (0.12300631, u'prosecutor'), (0.12386417, u'councilor'), (0.12693208, u'artist'), (0.12819286, u'researcher'), (0.12829801, u'campaigner'), (0.13046439, u'citizen'), (0.14091158, u'bishop'), (0.14352775, u'minister'), (0.14783715, u'sociologist'), (0.14796092, u'butler'), (0.15273172, u'parliamentarian'), (0.15324928, u'scientist'), (0.15771252, u'chancellor'), (0.16413482, u'pollster'), (0.17110509, u'ambassador'), (0.17263769, u'psychologist'), (0.17882782, u'broadcaster'), (0.19477884, u'worker')]\n",
      "\n",
      "\n",
      "Extreme republicans occupations\n",
      "[(-0.11571369, u'salesman'), (-0.091360122, u'patrolman'), (-0.085870691, u'surveyor'), (-0.083656095, u'bureaucrat'), (-0.078200363, u'parishioner'), (-0.076154895, u'banker'), (-0.075789444, u'welder'), (-0.07322409, u'broker'), (-0.073092476, u'surgeon'), (-0.07281778, u'assassin'), (-0.070674017, u'gangster'), (-0.070326477, u'negotiator'), (-0.064260527, u'physician'), (-0.06394691, u'fisherman'), (-0.059110139, u'monk'), (-0.055221539, u'constable'), (-0.054657925, u'mechanic'), (-0.05454031, u'sergeant'), (-0.053112909, u'baron'), (-0.052554831, u'saint')]\n"
     ]
    }
   ],
   "source": [
    "political_bias_projection_score = sorted([(E2.v(w).dot(politics_direction), w) for w in professions_j])\n",
    "\n",
    "print('Extreme democrats occupations')\n",
    "print(political_bias_projection_score[-20:])\n",
    "\n",
    "print('\\n\\nExtreme republicans occupations')\n",
    "print(political_bias_projection_score[0:20])"
   ]
  },
  {
   "cell_type": "markdown",
   "metadata": {},
   "source": [
    "### 5.2 direct bias"
   ]
  },
  {
   "cell_type": "code",
   "execution_count": 37,
   "metadata": {},
   "outputs": [],
   "source": [
    "# direct bias\n",
    "with open('./data/definitional_pairs_jenni.json', \"r\") as f:\n",
    "    definitional_j = json.load(f)"
   ]
  },
  {
   "cell_type": "code",
   "execution_count": 38,
   "metadata": {},
   "outputs": [],
   "source": [
    "vector_differences_j = []\n",
    "for a, b in definitional_j:\n",
    "    center = (E2.v(a) + E2.v(b))/2\n",
    "    vector_differences_j.append(E2.v(a) - center)\n",
    "    vector_differences_j.append(E2.v(b) - center)\n",
    "vector_differences_j = np.array(vector_differences_j)"
   ]
  },
  {
   "cell_type": "code",
   "execution_count": 39,
   "metadata": {},
   "outputs": [],
   "source": [
    "pca_j = PCA(n_components=10)\n",
    "result_j = pca_j.fit_transform(vector_differences_j)"
   ]
  },
  {
   "cell_type": "code",
   "execution_count": 40,
   "metadata": {},
   "outputs": [
    {
     "data": {
      "text/plain": [
       "<BarContainer object of 10 artists>"
      ]
     },
     "execution_count": 40,
     "metadata": {},
     "output_type": "execute_result"
    },
    {
     "data": {
      "image/png": "[encoded data removed]",
      "text/plain": [
       "<Figure size 432x288 with 1 Axes>"
      ]
     },
     "metadata": {},
     "output_type": "display_data"
    }
   ],
   "source": [
    "plt.bar(range(result_j.shape[1]),pca_j.explained_variance_ratio_)"
   ]
  },
  {
   "cell_type": "markdown",
   "metadata": {},
   "source": [
    "### 5.3 indirect bias"
   ]
  },
  {
   "cell_type": "code",
   "execution_count": null,
   "metadata": {},
   "outputs": [],
   "source": [
    "# plot created using R \n",
    "# export \"political_bias_projection_score\" as file\n",
    "\n",
    "# library(ggplot2)\n",
    "# library(ggrepel)\n",
    "\n",
    "# political_bias_projection_score <- read.csv(\"~/Documents/berkeley/W266/w266-2018-summer-final-biased-word-embeddings/data/political_bias_projection_score-5.3.txt\", header = F, stringsAsFactors = F )\n",
    "# # political_bias_projection_score <- subset(political_bias_projection_score, V2 %in% small_set$V1)\n",
    "# # png('~/Documents/berkeley/W266/w266-2018-summer-final-biased-word-embeddings/r-plots/political_bias_projection_score-5.3.png', units=\"in\", width=4, height=2.6, res=500)\n",
    "# png('~/Documents/berkeley/W266/w266-2018-summer-final-biased-word-embeddings/r-plots/political_bias_projection_score-5.3.png', units=\"in\", width=8, height=5.2, res=500)\n",
    "\n",
    "# ggplot(data = political_bias_projection_score, aes(x = V1, y = 0)) +\n",
    "#   geom_vline(xintercept = 0, size=0.2, linetype = \"dashed\", colour = \"red\") +\n",
    "#   # geom_hline(yintercept = 0, size=0.1, colour = \"grey\") +\n",
    "#   geom_text_repel(aes(label = V2), direction = \"y\", size=1.5,\n",
    "#                   box.padding = unit(0.1, \"lines\"),\n",
    "#                   color = \"black\", segment.alpha=0) +\n",
    "#   theme_bw() +\n",
    "#   theme(axis.title.y=element_blank(),\n",
    "#         axis.text.y=element_blank(),\n",
    "#         axis.ticks.y=element_blank(),\n",
    "#         axis.title.x=element_blank(),\n",
    "#         axis.text.x=element_blank(),\n",
    "#         axis.ticks.x=element_blank(),\n",
    "#         panel.grid.major = element_blank(),\n",
    "#         panel.grid.minor = element_blank(),\n",
    "#         panel.border = element_blank(),\n",
    "#         panel.background = element_blank(),\n",
    "#         legend.position=\"none\"\n",
    "#   )\n",
    "# dev.off()  \n"
   ]
  },
  {
   "cell_type": "markdown",
   "metadata": {},
   "source": [
    "![caption](./r-plots/political_bias_projection_score-5.3.png)"
   ]
  },
  {
   "cell_type": "code",
   "execution_count": 43,
   "metadata": {},
   "outputs": [],
   "source": [
    "# 7 Determining gender neutral words\n",
    "with open('./data/equalize_pairs_jenni.json', \"r\") as f:\n",
    "    equalize_j = json.load(f)\n",
    "\n",
    "with open('./data/political_specific.json', \"r\") as f:\n",
    "    politics_specific = json.load(f)"
   ]
  },
  {
   "cell_type": "code",
   "execution_count": 44,
   "metadata": {},
   "outputs": [
    {
     "name": "stdout",
     "output_type": "stream",
     "text": [
      "50000 words of dimension 300 : the, to, of, and, ..., prin, synchronise, dissertations, mammography\n",
      "set([(u'Christian', u'Mormon'), (u'NORM', u'COMMONPLACE'), (u'phobias', u'afflictions'), (u'anthropology', u'biochemistry'), (u'curator', u'conservator'), (u'illiberal', u'dictatorial'), (u'Satire', u'Melodramatic'), (u'mores', u'materialism'), (u'markus', u'siegfried'), (u'VALENCIA', u'SANTIAGO'), (u'TAWNY', u'SNAKE'), (u'DEMOCRACY', u'AUTHORITARIAN'), (u'harmony', u'contentment'), (u'woodruff', u'huff'), (u'brunswick', u'saskatoon'), (u'GUINEA', u'MADAGASCAR'), (u'democrat', u'congressman'), (u'Senator', u'Corker'), (u'reformer', u'pragmatist'), (u'LEVELLER', u'GATSBY'), (u'Kathleen', u'Larry'), (u'medial', u'perforation'), (u'Darwinism', u'Determinism'), (u'Tawny', u'Snake'), (u'Networks', u'Routers'), (u'Phobia', u'Delusions'), (u'hampshire', u'connecticut'), (u'SUNDAE', u'CONCOCTIONS'), (u'minister', u'minster'), (u'leftists', u'westerners'), (u'PHOBIAS', u'AFFLICTIONS'), (u'RED', u'BLUE'), (u'Statesman', u'Disciple'), (u'guinea', u'madagascar'), (u'KATHLEEN', u'LARRY'), (u'Fabric', u'Metallic'), (u'Mores', u'Materialism'), (u'ILLIBERAL', u'DICTATORIAL'), (u'Markus', u'Siegfried'), (u'outcasts', u'hippies'), (u'Taboos', u'Superstition'), (u'UNABASHEDLY', u'BRAGGADOCIO'), (u'sundae', u'concoctions'), (u'Outcast', u'Anachronism'), (u'Disintegration', u'Stasis'), (u'Entrepreneur', u'Salesman'), (u'Guinea', u'Madagascar'), (u'REFORMER', u'PRAGMATIST'), (u'leveller', u'gatsby'), (u'MIRO', u'TERMINO'), (u'DARWINISM', u'DETERMINISM'), (u'Rochelle', u'Darin'), (u'Illiberal', u'Dictatorial'), (u'LEFTWING', u'TECHNOCRATS'), (u'upheavals', u'turbulence'), (u'ARIZONA', u'TALLAHASSEE'), (u'norm', u'commonplace'), (u'psychology', u'genetics'), (u'Lynx', u'Tortoise'), (u'Democratic', u'Republican'), (u'hierarchies', u'doctrines'), (u'democrats', u'republicans'), (u'STATESMAN', u'DISCIPLE'), (u'UCA', u'TORMENTA'), (u'Miro', u'Termino'), (u'andrea', u'cecilia'), (u'archives', u'artefacts'), (u'FABRIC', u'METALLIC'), (u'MORES', u'MATERIALISM'), (u'statesman', u'disciple'), (u'Civitas', u'Ineludible'), (u'psycho', u'slapstick'), (u'Butler', u'Jagger'), (u'Ills', u'Maladies'), (u'Unabashedly', u'Braggadocio'), (u'PSYCHO', u'SLAPSTICK'), (u'governments', u'regulators'), (u'uca', u'tormenta'), (u'stratification', u'inequalities'), (u'Medial', u'Perforation'), (u'darwinism', u'determinism'), (u'DEMOCRAT', u'CONGRESSMAN'), (u'Meningitis', u'Pneumonia'), (u'Psychologists', u'Professionals'), (u'Psychology', u'Genetics'), (u'CURATOR', u'CONSERVATOR'), (u'DEMOCRATIC', u'REPUBLICAN'), (u'Democracy', u'Authoritarian'), (u'networks', u'routers'), (u'SENATOR', u'CORKER'), (u'HARMONY', u'CONTENTMENT'), (u'unabashedly', u'braggadocio'), (u'SATIRE', u'MELODRAMATIC'), (u'FRAU', u'ERST'), (u'tawny', u'snake'), (u'ANDREA', u'CECILIA'), (u'Leftwing', u'Technocrats'), (u'felicity', u'garth'), (u'Democrats', u'Republicans'), (u'Cohesion', u'Coherence'), (u'outcast', u'anachronism'), (u'Amanda', u'Billy'), (u'disintegration', u'stasis'), (u'Brunswick', u'Saskatoon'), (u'astrophysics', u'physicists'), (u'Norm', u'Commonplace'), (u'homme', u'mille'), (u'psychologist', u'cardiologist'), (u'Stratification', u'Inequalities'), (u'Archibald', u'Keats'), (u'kathleen', u'larry'), (u'amanda', u'billy'), (u'meningitis', u'pneumonia'), (u'conservatism', u'hubris'), (u'OUTCASTS', u'HIPPIES'), (u'injustice', u'ignorance'), (u'enterprise', u'enterprises'), (u'Enterprises', u'Companies'), (u'PSYCHOLOGY', u'GENETICS'), (u'Minister', u'Minster'), (u'democratic', u'republican'), (u'TABOOS', u'SUPERSTITION'), (u'LEFTISTS', u'WESTERNERS'), (u'alienation', u'visceral'), (u'Hampshire', u'Connecticut'), (u'Lapels', u'Cloaks'), (u'artist', u'painter'), (u'fabric', u'metallic'), (u'Enterprise', u'Enterprises'), (u'ROCHELLE', u'DARIN'), (u'DEMOCRATS', u'REPUBLICANS'), (u'valencia', u'santiago'), (u'democracy', u'authoritarian'), (u'DISINTEGRATION', u'STASIS'), (u'lapels', u'cloaks'), (u'Democrat', u'Congressman'), (u'Uca', u'Tormenta'), (u'Hierarchies', u'Doctrines'), (u'archibald', u'keats'), (u'Curator', u'Conservator'), (u'CATHY', u'BRETT'), (u'ENTERPRISE', u'ENTERPRISES'), (u'rochelle', u'darin'), (u'determinants', u'indicators'), (u'Valencia', u'Santiago'), (u'FELICITY', u'GARTH'), (u'PSYCHOLOGISTS', u'PROFESSIONALS'), (u'Psychologist', u'Cardiologist'), (u'ENTERPRISES', u'COMPANIES'), (u'christian', u'mormon'), (u'Anthropology', u'Biochemistry'), (u'ILLS', u'MALADIES'), (u'GOVERNMENTS', u'REGULATORS'), (u'Alienation', u'Visceral'), (u'DETERMINANTS', u'INDICATORS'), (u'Sundae', u'Concoctions'), (u'miro', u'termino'), (u'MARKUS', u'SIEGFRIED'), (u'MINISTER', u'MINSTER'), (u'leftwing', u'technocrats'), (u'lynx', u'tortoise'), (u'UPHEAVALS', u'TURBULENCE'), (u'WORKER', u'EMPLOYEE'), (u'Outcasts', u'Hippies'), (u'red', u'blue'), (u'cohesion', u'coherence'), (u'WOODRUFF', u'HUFF'), (u'BRUNSWICK', u'SASKATOON'), (u'Governments', u'Regulators'), (u'satire', u'melodramatic'), (u'arizona', u'tallahassee'), (u'senator', u'corker'), (u'Artist', u'Painter'), (u'Injustice', u'Ignorance'), (u'ARCHIBALD', u'KEATS'), (u'conservatives', u'lawmakers'), (u'Determinants', u'Indicators'), (u'CIVITAS', u'INELUDIBLE'), (u'Conservatism', u'Hubris'), (u'Astrophysics', u'Physicists'), (u'INJUSTICE', u'IGNORANCE'), (u'Frau', u'Erst'), (u'enterprises', u'companies'), (u'AMANDA', u'BILLY'), (u'Leftists', u'Westerners'), (u'MENINGITIS', u'PNEUMONIA'), (u'cathy', u'brett'), (u'worker', u'employee'), (u'CHRISTIAN', u'MORMON'), (u'BUTLER', u'JAGGER'), (u'Archives', u'Artefacts'), (u'MEDIAL', u'PERFORATION'), (u'HOMME', u'MILLE'), (u'Felicity', u'Garth'), (u'civitas', u'ineludible'), (u'bedford', u'bridgewater'), (u'taboos', u'superstition'), (u'Harmony', u'Contentment'), (u'BEDFORD', u'BRIDGEWATER'), (u'Cathy', u'Brett'), (u'Red', u'Blue'), (u'NETWORKS', u'ROUTERS'), (u'Reformer', u'Pragmatist'), (u'ARTIST', u'PAINTER'), (u'phobia', u'delusions'), (u'Conservatives', u'Lawmakers'), (u'HIERARCHIES', u'DOCTRINES'), (u'CONSERVATISM', u'HUBRIS'), (u'ASTROPHYSICS', u'PHYSICISTS'), (u'PSYCHOLOGIST', u'CARDIOLOGIST'), (u'humanities', u'professors'), (u'COHESION', u'COHERENCE'), (u'Psycho', u'Slapstick'), (u'ills', u'maladies'), (u'ALIENATION', u'VISCERAL'), (u'Phobias', u'Afflictions'), (u'ANTHROPOLOGY', u'BIOCHEMISTRY'), (u'Worker', u'Employee'), (u'entrepreneur', u'salesman'), (u'butler', u'jagger'), (u'frau', u'erst'), (u'engineering', u'aeronautical'), (u'ENGINEERING', u'AERONAUTICAL'), (u'Bedford', u'Bridgewater'), (u'Homme', u'Mille'), (u'OUTCAST', u'ANACHRONISM'), (u'Woodruff', u'Huff'), (u'LYNX', u'TORTOISE'), (u'ENTREPRENEUR', u'SALESMAN'), (u'LAPELS', u'CLOAKS'), (u'psychologists', u'professionals'), (u'Humanities', u'Professors'), (u'HAMPSHIRE', u'CONNECTICUT'), (u'STRATIFICATION', u'INEQUALITIES'), (u'ARCHIVES', u'ARTEFACTS'), (u'HUMANITIES', u'PROFESSORS'), (u'CONSERVATIVES', u'LAWMAKERS'), (u'Andrea', u'Cecilia'), (u'Engineering', u'Aeronautical'), (u'Upheavals', u'Turbulence'), (u'Arizona', u'Tallahassee'), (u'Leveller', u'Gatsby'), (u'PHOBIA', u'DELUSIONS')])\n",
      "50000 words of dimension 300 : the, to, of, and, ..., prin, synchronise, dissertations, mammography\n"
     ]
    }
   ],
   "source": [
    "# perform debiasing\n",
    "debias(E2, politics_specific, definitional_j, equalize_j)"
   ]
  },
  {
   "cell_type": "code",
   "execution_count": 45,
   "metadata": {},
   "outputs": [
    {
     "name": "stdout",
     "output_type": "stream",
     "text": [
      "Extreme democrats occupations\n",
      "[(0.080144882, u'prosecutor'), (0.081020989, u'firebrand'), (0.081697561, u'playwright'), (0.089022525, u'parliamentarian'), (0.093516253, u'protege'), (0.11753055, u'politician'), (0.13662589, u'ambassador'), (0.14091158, u'bishop'), (0.14783715, u'sociologist'), (0.15324928, u'scientist'), (0.16413482, u'pollster'), (0.25139281, u'minister'), (0.25258863, u'artist'), (0.28688699, u'psychologist'), (0.30235606, u'worker'), (0.30485007, u'entrepreneur'), (0.3097344, u'curator'), (0.34037367, u'senator'), (0.34416002, u'statesman'), (0.37134981, u'butler')]\n",
      "\n",
      "\n",
      "Extreme republicans occupations\n",
      "[(-0.35698417, u'employee'), (-0.35371637, u'salesman'), (-0.26201048, u'cardiologist'), (-0.23252317, u'congressman'), (-0.22673379, u'painter'), (-0.083891921, u'constable'), (-0.083656095, u'bureaucrat'), (-0.079088449, u'stockbroker'), (-0.07820037, u'parishioner'), (-0.073404059, u'firefighter'), (-0.068853676, u'mobster'), (-0.0675736, u'sergeant'), (-0.062459003, u'broker'), (-0.060378056, u'saint'), (-0.057722252, u'performer'), (-0.056469262, u'patrolman'), (-0.053788539, u'monk'), (-0.053327873, u'priest'), (-0.052931383, u'correspondent'), (-0.049223065, u'comic')]\n"
     ]
    }
   ],
   "source": [
    "political_debiased_projection_score = sorted([(E2.v(w).dot(politics_direction), w) for w in professions_j])\n",
    "\n",
    "print('Extreme democrats occupations')\n",
    "print(political_debiased_projection_score[-20:])\n",
    "\n",
    "print('\\n\\nExtreme republicans occupations')\n",
    "print(political_debiased_projection_score[0:20])"
   ]
  },
  {
   "cell_type": "markdown",
   "metadata": {},
   "source": [
    "![caption](./r-plots/political_debiased_projection_score-5.3.png)"
   ]
  },
  {
   "cell_type": "code",
   "execution_count": null,
   "metadata": {},
   "outputs": [],
   "source": []
  }
 ],
 "metadata": {
  "kernelspec": {
   "display_name": "Python 2",
   "language": "python",
   "name": "python2"
  },
  "language_info": {
   "codemirror_mode": {
    "name": "ipython",
    "version": 2
   },
   "file_extension": ".py",
   "mimetype": "text/x-python",
   "name": "python",
   "nbconvert_exporter": "python",
   "pygments_lexer": "ipython2",
   "version": "2.7.15"
  }
 },
 "nbformat": 4,
 "nbformat_minor": 2
}
