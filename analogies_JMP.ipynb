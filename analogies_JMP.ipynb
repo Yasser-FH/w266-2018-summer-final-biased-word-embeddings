{
 "cells": [
  {
   "cell_type": "markdown",
   "metadata": {},
   "source": [
    "### Initialize"
   ]
  },
  {
   "cell_type": "code",
   "execution_count": 1,
   "metadata": {},
   "outputs": [
    {
     "name": "stderr",
     "output_type": "stream",
     "text": [
      "/Users/jenniferpodracky/anaconda3/lib/python3.6/site-packages/h5py/__init__.py:36: FutureWarning: Conversion of the second argument of issubdtype from `float` to `np.floating` is deprecated. In future, it will be treated as `np.float64 == np.dtype(float).type`.\n",
      "  from ._conv import register_converters as _register_converters\n"
     ]
    }
   ],
   "source": [
    "# Install a few python packages using pip\n",
    "from w266_common import utils\n",
    "utils.require_package(\"wget\")      # for fetching dataset\n",
    "\n",
    "# Standard python helper libraries.\n",
    "import os, sys, re, json, time\n",
    "import itertools, collections\n",
    "from IPython.display import display\n",
    "\n",
    "# NumPy and SciPy for matrix ops\n",
    "import numpy as np\n",
    "import scipy.sparse\n",
    "\n",
    "# NLTK for NLP utils\n",
    "import nltk\n",
    "\n",
    "from importlib import reload\n",
    "\n",
    "# Helper libraries\n",
    "from w266_common import utils, vocabulary, tf_embed_viz\n",
    "\n",
    "# from __future__ import print_function, division\n",
    "#%matplotlib inline\n",
    "# from matplotlib import pyplot as plt\n",
    "import random\n",
    "import debiaswe as dwe\n",
    "import debiaswe.we as we\n",
    "from debiaswe.we import WordEmbedding\n",
    "# from debiaswe.data import load_professions\n",
    "\n",
    "from gensim.models import Word2Vec\n",
    "import gensim.utils"
   ]
  },
  {
   "cell_type": "markdown",
   "metadata": {},
   "source": [
    "### Import GloVe dataset\n",
    "Contains 6B tokens from Wikipedia 2014 + Gigawords 5.\n",
    "\n",
    "(will take a while to run)"
   ]
  },
  {
   "cell_type": "code",
   "execution_count": 9,
   "metadata": {},
   "outputs": [
    {
     "name": "stdout",
     "output_type": "stream",
     "text": [
      "Loading vectors from data/glove/glove.6B.zip\n",
      "Parsing file: data/glove/glove.6B.zip:glove.6B.300d.txt\n",
      "Found 400,000 words.\n",
      "Parsing vectors... Done! (W.shape = (400003, 300))\n"
     ]
    }
   ],
   "source": [
    "import glove_helper; reload(glove_helper)\n",
    "\n",
    "hands = glove_helper.Hands(ndim=300)"
   ]
  },
  {
   "cell_type": "code",
   "execution_count": 13,
   "metadata": {},
   "outputs": [],
   "source": [
    "import vector_math; reload(vector_math)\n",
    "\n",
    "def find_nn_cos(v, Wv, k=10):\n",
    "    nns = []\n",
    "    ds = []\n",
    "    \n",
    "    mid = np.dot(Wv, v)\n",
    "    norm_Wv = np.linalg.norm(Wv, axis=1)\n",
    "    norm_v = np.linalg.norm(v, axis=-1)\n",
    "    # print (norm_Wv, norm_v)\n",
    "    neighbors = np.divide(mid, np.dot(norm_Wv, norm_v))\n",
    "    nns = np.argsort(neighbors)[-k:]\n",
    "    for n in nns:\n",
    "        ds.append(neighbors[n])\n",
    "    # print(nns, ds)\n",
    "    return nns, ds\n",
    "\n",
    "def analogy(vA, vB, vC, Wv, k=5):\n",
    "    v = vC + (vB-vA)\n",
    "    return find_nn_cos(v, Wv, k)\n",
    "\n",
    "def show_nns(hands, word, k=10):\n",
    "    \"\"\"Helper function to print neighbors of a given word.\"\"\"\n",
    "    word = word.lower()\n",
    "    print(\"Nearest neighbors for '{:s}'\".format(word))\n",
    "    v = hands.get_vector(word)\n",
    "    for i, sim in zip(*vector_math.find_nn_cos(v, hands.W, k)):\n",
    "        target_word = hands.vocab.id_to_word[i]\n",
    "        print(\"{:.03f} : '{:s}'\".format(sim, target_word))\n",
    "    print(\"\")\n",
    "    \n",
    "def show_analogy(hands, a, b, c, k=5):\n",
    "    \"\"\"Compute and print a vector analogy.\"\"\"\n",
    "    a, b, c = a.lower(), b.lower(), c.lower()\n",
    "    va = hands.get_vector(a)\n",
    "    vb = hands.get_vector(b)\n",
    "    vc = hands.get_vector(c)\n",
    "    print(\"'{a:s}' is to '{b:s}' as '{c:s}' is to ___\".format(**locals()))\n",
    "    for i, sim in zip(*vector_math.analogy(va, vb, vc, hands.W, k)):\n",
    "        target_word = hands.vocab.id_to_word[i]\n",
    "        print(\"{:.03f} : '{:s}'\".format(sim, target_word))\n",
    "    print(\"\")\n"
   ]
  },
  {
   "cell_type": "code",
   "execution_count": 14,
   "metadata": {},
   "outputs": [
    {
     "name": "stdout",
     "output_type": "stream",
     "text": [
      "Nearest neighbors for 'democrat'\n",
      "0.610 : 'incumbent'\n",
      "0.616 : 'senate'\n",
      "0.642 : 'congressman'\n",
      "0.661 : 'rep.'\n",
      "0.699 : 'sen.'\n",
      "0.711 : 'democrats'\n",
      "0.720 : 'republican'\n",
      "0.736 : 'democratic'\n",
      "0.739 : 'senator'\n",
      "1.000 : 'democrat'\n",
      "\n"
     ]
    }
   ],
   "source": [
    "show_nns(hands, \"democrat\")"
   ]
  },
  {
   "cell_type": "code",
   "execution_count": null,
   "metadata": {},
   "outputs": [],
   "source": [
    "show_nns(hands, \"democrat\", 5)\n",
    "show_nns(hands, \"liberal\", 5)\n",
    "show_nns(hands, \"progressive\", 5)\n",
    "\n",
    "show_nns(hands, \"republican\", 5)\n",
    "show_nns(hands, \"conservative\", 5)"
   ]
  },
  {
   "cell_type": "code",
   "execution_count": 15,
   "metadata": {},
   "outputs": [
    {
     "name": "stdout",
     "output_type": "stream",
     "text": [
      "'democrat' is to 'republican' as 'liberal' is to ___\n",
      "0.618 : 'gop'\n",
      "0.662 : 'conservatives'\n",
      "0.682 : 'republican'\n",
      "0.731 : 'conservative'\n",
      "0.764 : 'liberal'\n",
      "\n",
      "'democrat' is to 'republican' as 'liberalism' is to ___\n",
      "0.486 : 'nationalism'\n",
      "0.492 : 'ideology'\n",
      "0.586 : 'republicanism'\n",
      "0.687 : 'conservatism'\n",
      "0.747 : 'liberalism'\n",
      "\n",
      "'democrat' is to 'republican' as 'progressive' is to ___\n",
      "0.442 : 'party'\n",
      "0.485 : 'conservative'\n",
      "0.497 : 'gop'\n",
      "0.539 : 'republican'\n",
      "0.770 : 'progressive'\n",
      "\n",
      "'democrat' is to 'republican' as 'anti-federalist' is to ___\n",
      "0.355 : 'adams-clay'\n",
      "0.357 : 'anticlerical'\n",
      "0.366 : 'anti-masonic'\n",
      "0.368 : 'anti-clericalism'\n",
      "0.780 : 'anti-federalist'\n",
      "\n",
      "'democrat' is to 'republican' as 'left-wing' is to ___\n",
      "0.462 : 'anti-communist'\n",
      "0.464 : 'far-left'\n",
      "0.554 : 'far-right'\n",
      "0.685 : 'right-wing'\n",
      "0.771 : 'left-wing'\n",
      "\n",
      "'democrat' is to 'republican' as 'left-of-center' is to ___\n",
      "0.355 : 'folkeparti'\n",
      "0.356 : 'pro-republican'\n",
      "0.362 : 'pro-serbian'\n",
      "0.365 : 'gryf'\n",
      "0.713 : 'left-of-center'\n",
      "\n",
      "'democrat' is to 'republican' as 'left-leaning' is to ___\n",
      "0.454 : 'far-left'\n",
      "0.488 : 'far-right'\n",
      "0.518 : 'right-wing'\n",
      "0.558 : 'left-wing'\n",
      "0.664 : 'left-leaning'\n",
      "\n",
      "'democrat' is to 'republican' as 'far-left' is to ___\n",
      "0.423 : 'marxist-leninist'\n",
      "0.424 : 'right-wing'\n",
      "0.453 : 'left-wing'\n",
      "0.551 : 'far-right'\n",
      "0.772 : 'far-left'\n",
      "\n"
     ]
    }
   ],
   "source": [
    "show_analogy(hands, \"democrat\", \"republican\", \"liberal\") # works\n",
    "show_analogy(hands, \"democrat\", \"republican\", \"liberalism\") # works\n",
    "show_analogy(hands, \"democrat\", \"republican\", \"progressive\") # works\n",
    "show_analogy(hands, \"democrat\", \"republican\", \"anti-federalist\") # works\n",
    "show_analogy(hands, \"democrat\", \"republican\", \"left-wing\") # works\n",
    "show_analogy(hands, \"democrat\", \"republican\", \"left-of-center\") # works\n",
    "show_analogy(hands, \"democrat\", \"republican\", \"left-leaning\") # works\n",
    "show_analogy(hands, \"democrat\", \"republican\", \"far-left\") # works\n"
   ]
  },
  {
   "cell_type": "code",
   "execution_count": 16,
   "metadata": {},
   "outputs": [
    {
     "name": "stdout",
     "output_type": "stream",
     "text": [
      "'democrat' is to 'republican' as 'higher-education' is to ___\n",
      "0.343 : 'deposit-taking'\n",
      "0.343 : 'ottoman-era'\n",
      "0.346 : 'teacher-training'\n",
      "0.354 : 'agronomical'\n",
      "0.766 : 'higher-education'\n",
      "\n",
      "'democrat' is to 'republican' as 'college' is to ___\n",
      "0.522 : 'graduate'\n",
      "0.551 : 'university'\n",
      "0.552 : 'colleges'\n",
      "0.573 : 'school'\n",
      "0.803 : 'college'\n",
      "\n",
      "'democrat' is to 'republican' as 'university' is to ___\n",
      "0.536 : 'graduate'\n",
      "0.564 : 'professor'\n",
      "0.573 : 'faculty'\n",
      "0.584 : 'college'\n",
      "0.809 : 'university'\n",
      "\n",
      "'democrat' is to 'republican' as 'intelligent' is to ___\n",
      "0.451 : 'articulate'\n",
      "0.460 : 'sophisticated'\n",
      "0.486 : 'thoughtful'\n",
      "0.488 : 'smart'\n",
      "0.725 : 'intelligent'\n",
      "\n",
      "'democrat' is to 'republican' as 'scholar' is to ___\n",
      "0.446 : 'literature'\n",
      "0.452 : 'professor'\n",
      "0.478 : 'historian'\n",
      "0.541 : 'scholars'\n",
      "0.756 : 'scholar'\n",
      "\n",
      "'democrat' is to 'republican' as 'phd' is to ___\n",
      "0.625 : 'doctorate'\n",
      "0.667 : 'doctoral'\n",
      "0.681 : 'ph.d'\n",
      "0.723 : 'ph.d.'\n",
      "0.789 : 'phd'\n",
      "\n",
      "'democrat' is to 'republican' as 'blue-collar' is to ___\n",
      "0.372 : 'collar'\n",
      "0.446 : 'middle-class'\n",
      "0.467 : 'white-collar'\n",
      "0.498 : 'working-class'\n",
      "0.730 : 'blue-collar'\n",
      "\n",
      "'democrat' is to 'republican' as 'employed' is to ___\n",
      "0.443 : 'used'\n",
      "0.453 : 'employees'\n",
      "0.559 : 'employ'\n",
      "0.574 : 'employing'\n",
      "0.730 : 'employed'\n",
      "\n",
      "'democrat' is to 'republican' as 'elitist' is to ___\n",
      "0.404 : 'hypocritical'\n",
      "0.409 : 'arrogant'\n",
      "0.410 : 'condescending'\n",
      "0.410 : 'insensitive'\n",
      "0.742 : 'elitist'\n",
      "\n",
      "'democrat' is to 'republican' as 'union' is to ___\n",
      "0.474 : 'membership'\n",
      "0.480 : 'leaders'\n",
      "0.499 : 'workers'\n",
      "0.542 : 'unions'\n",
      "0.791 : 'union'\n",
      "\n",
      "'republican' is to 'democrat' as 'uneducated' is to ___\n",
      "0.443 : 'unschooled'\n",
      "0.462 : 'undereducated'\n",
      "0.518 : 'illiterate'\n",
      "0.545 : 'ignorant'\n",
      "0.762 : 'uneducated'\n",
      "\n",
      "'republican' is to 'democrat' as 'uneducated' is to ___\n",
      "0.443 : 'unschooled'\n",
      "0.462 : 'undereducated'\n",
      "0.518 : 'illiterate'\n",
      "0.545 : 'ignorant'\n",
      "0.762 : 'uneducated'\n",
      "\n"
     ]
    }
   ],
   "source": [
    "# education\n",
    "show_analogy(hands, \"democrat\", \"republican\", \"higher-education\")\n",
    "show_analogy(hands, \"democrat\", \"republican\", \"college\")\n",
    "show_analogy(hands, \"democrat\", \"republican\", \"university\")\n",
    "show_analogy(hands, \"democrat\", \"republican\", \"intelligent\")\n",
    "show_analogy(hands, \"democrat\", \"republican\", \"scholar\")\n",
    "show_analogy(hands, \"democrat\", \"republican\", \"phd\")\n",
    "show_analogy(hands, \"democrat\", \"republican\", \"blue-collar\") # !!\n",
    "show_analogy(hands, \"democrat\", \"republican\", \"employed\")\n",
    "show_analogy(hands, \"democrat\", \"republican\", \"elitist\") # !!!\n",
    "show_analogy(hands, \"democrat\", \"republican\", \"union\")\n",
    "show_analogy(hands, \"republican\", \"democrat\", \"uneducated\")\n",
    "show_analogy(hands, \"republican\", \"democrat\", \"uneducated\")"
   ]
  },
  {
   "cell_type": "code",
   "execution_count": 18,
   "metadata": {},
   "outputs": [
    {
     "name": "stdout",
     "output_type": "stream",
     "text": [
      "'democrat' is to 'republican' as 'african-american' is to ___\n",
      "0.427 : 'female'\n",
      "0.436 : 'latino'\n",
      "0.467 : 'african-americans'\n",
      "0.480 : 'hispanic'\n",
      "0.760 : 'african-american'\n",
      "\n",
      "'democrat' is to 'republican' as 'black' is to ___\n",
      "0.433 : 'republican'\n",
      "0.436 : 'blue'\n",
      "0.448 : 'red'\n",
      "0.650 : 'white'\n",
      "0.768 : 'black'\n",
      "\n",
      "'democrat' is to 'republican' as 'latino' is to ___\n",
      "0.437 : 'gop'\n",
      "0.525 : 'hispanics'\n",
      "0.537 : 'latinos'\n",
      "0.750 : 'hispanic'\n",
      "0.809 : 'latino'\n",
      "\n",
      "'democrat' is to 'republican' as 'hispanic' is to ___\n",
      "0.506 : 'gop'\n",
      "0.551 : 'latinos'\n",
      "0.594 : 'hispanics'\n",
      "0.722 : 'latino'\n",
      "0.814 : 'hispanic'\n",
      "\n",
      "'democrat' is to 'republican' as 'oppressed' is to ___\n",
      "0.463 : 'oppression'\n",
      "0.485 : 'marginalized'\n",
      "0.503 : 'disenfranchised'\n",
      "0.521 : 'persecuted'\n",
      "0.774 : 'oppressed'\n",
      "\n",
      "'democrat' is to 'republican' as 'immigrants' is to ___\n",
      "0.544 : 'immigration'\n",
      "0.582 : 'undocumented'\n",
      "0.633 : 'immigrant'\n",
      "0.640 : 'migrants'\n",
      "0.792 : 'immigrants'\n",
      "\n",
      "'democrat' is to 'republican' as 'minorities' is to ___\n",
      "0.441 : 'muslims'\n",
      "0.477 : 'ethnic'\n",
      "0.487 : 'hispanics'\n",
      "0.555 : 'minority'\n",
      "0.788 : 'minorities'\n",
      "\n"
     ]
    }
   ],
   "source": [
    "# race\n",
    "\n",
    "show_analogy(hands, \"democrat\", \"republican\", \"african-american\")\n",
    "\n",
    "show_analogy(hands, \"democrat\", \"republican\", \"black\")\n",
    "\n",
    "show_analogy(hands, \"democrat\", \"republican\", \"latino\")\n",
    "\n",
    "show_analogy(hands, \"democrat\", \"republican\", \"hispanic\")\n",
    "\n",
    "show_analogy(hands, \"democrat\", \"republican\", \"oppressed\")\n",
    "\n",
    "show_analogy(hands, \"democrat\", \"republican\", \"immigrants\")\n",
    "\n",
    "show_analogy(hands, \"democrat\", \"republican\", \"minorities\")"
   ]
  },
  {
   "cell_type": "code",
   "execution_count": 19,
   "metadata": {},
   "outputs": [
    {
     "name": "stdout",
     "output_type": "stream",
     "text": [
      "'democrat' is to 'republican' as 'woman' is to ___\n",
      "0.536 : 'women'\n",
      "0.545 : 'man'\n",
      "0.563 : 'female'\n",
      "0.576 : 'girl'\n",
      "0.738 : 'woman'\n",
      "\n",
      "'republican' is to 'democrat' as 'redneck' is to ___\n",
      "0.395 : 'bumpkin'\n",
      "0.398 : 'snooty'\n",
      "0.410 : 'proto'\n",
      "0.410 : 'hillbilly'\n",
      "0.747 : 'redneck'\n",
      "\n",
      "'republican' is to 'democrat' as 'southern' is to ___\n",
      "0.496 : 'southwestern'\n",
      "0.499 : 'eastern'\n",
      "0.501 : 'northern'\n",
      "0.505 : 'south'\n",
      "0.730 : 'southern'\n",
      "\n",
      "'republican' is to 'democrat' as 'pro-life' is to ___\n",
      "0.393 : 'lgbt'\n",
      "0.414 : 'macovei'\n",
      "0.454 : 'anti-abortion'\n",
      "0.595 : 'pro-choice'\n",
      "0.761 : 'pro-life'\n",
      "\n",
      "'republican' is to 'democrat' as 'elderly' is to ___\n",
      "0.407 : 'woman'\n",
      "0.422 : 'sick'\n",
      "0.450 : 'frail'\n",
      "0.452 : 'infirm'\n",
      "0.717 : 'elderly'\n",
      "\n",
      "'republican' is to 'democrat' as 'older' is to ___\n",
      "0.443 : 'siblings'\n",
      "0.460 : 'sister'\n",
      "0.466 : 'age'\n",
      "0.568 : 'younger'\n",
      "0.715 : 'older'\n",
      "\n"
     ]
    }
   ],
   "source": [
    "# demographics \n",
    "\n",
    "show_analogy(hands, \"democrat\", \"republican\", \"woman\")\n",
    "\n",
    "show_analogy(hands, \"republican\", \"democrat\", \"redneck\")\n",
    "\n",
    "show_analogy(hands, \"republican\", \"democrat\", \"southern\")\n",
    "\n",
    "show_analogy(hands, \"republican\", \"democrat\", \"pro-life\")\n",
    "\n",
    "show_analogy(hands, \"republican\", \"democrat\", \"elderly\")\n",
    "\n",
    "show_analogy(hands, \"republican\", \"democrat\", \"older\")"
   ]
  },
  {
   "cell_type": "code",
   "execution_count": null,
   "metadata": {},
   "outputs": [],
   "source": [
    "# religion \n",
    "\n",
    "show_analogy(hands, \"democrat\", \"republican\", \"secular\")\n",
    "\n",
    "show_analogy(hands, \"democrat\", \"republican\", \"atheist\")\n",
    "show_analogy(hands, \"democrat\", \"republican\", \"agnostic\")\n",
    "\n",
    "show_analogy(hands, \"republican\", \"democrat\", \"evangelical\")\n",
    "show_analogy(hands, \"republican\", \"democrat\", \"christian\")\n",
    "show_analogy(hands, \"republican\", \"democrat\", \"religious\")\n",
    "\n",
    "\n"
   ]
  },
  {
   "cell_type": "code",
   "execution_count": null,
   "metadata": {},
   "outputs": [],
   "source": []
  },
  {
   "cell_type": "code",
   "execution_count": null,
   "metadata": {},
   "outputs": [],
   "source": [
    "show_nns(hands, \"yda\")"
   ]
  },
  {
   "cell_type": "code",
   "execution_count": null,
   "metadata": {},
   "outputs": [],
   "source": [
    "# sexuality\n",
    "\n",
    "show_analogy(hands, \"democrat\", \"republican\", \"gay\")\n",
    "\n",
    "show_analogy(hands, \"democrat\", \"republican\", \"lesbian\")\n",
    "\n",
    "show_analogy(hands, \"democrat\", \"republican\", \"transgender\")\n",
    "\n",
    "show_analogy(hands, \"democrat\", \"republican\", \"bisexual\")\n",
    "\n",
    "show_analogy(hands, \"democrat\", \"republican\", \"homosexual\") # !!!"
   ]
  },
  {
   "cell_type": "code",
   "execution_count": null,
   "metadata": {},
   "outputs": [],
   "source": [
    "# income / work\n",
    "show_analogy(hands, \"democrat\", \"republican\", \"poor\")\n",
    "show_analogy(hands, \"democrat\", \"republican\", \"lower-class\")\n",
    "show_analogy(hands, \"democrat\", \"republican\", \"union\")\n",
    "show_analogy(hands, \"democrat\", \"republican\", \"unionized\")\n",
    "show_analogy(hands, \"democrat\", \"republican\", \"welfare\")\n",
    "\n",
    "show_analogy(hands, \"republican\", \"democrat\", \"wealthy\")\n",
    "show_analogy(hands, \"republican\", \"democrat\", \"rich\")\n",
    "show_analogy(hands, \"republican\", \"democrat\", \"upper-class\")\n",
    "show_analogy(hands, \"republican\", \"democrat\", \"high-class\")\n",
    "show_analogy(hands, \"republican\", \"democrat\", \"nonunion\")\n",
    "show_analogy(hands, \"republican\", \"democrat\", \"non-union\")\n"
   ]
  },
  {
   "cell_type": "code",
   "execution_count": null,
   "metadata": {},
   "outputs": [],
   "source": [
    "show_nns(hands, \"homosexual\")\n",
    "\n",
    "show_nns(hands, \"man\")\n",
    "\n",
    "show_nns(hands, \"southern\")"
   ]
  },
  {
   "cell_type": "code",
   "execution_count": null,
   "metadata": {},
   "outputs": [],
   "source": [
    "print (sp)"
   ]
  },
  {
   "cell_type": "code",
   "execution_count": null,
   "metadata": {},
   "outputs": [],
   "source": [
    "# April's direction calc\n",
    "# democrat-republican gender direction on GloVe\n",
    "party_direction = E.diff(\"democrats\", \"republicans\")\n",
    "\n",
    "# appendix A: generating analogies\n",
    "party_analogies = E.best_analogies_dist_thresh(party_direction)"
   ]
  },
  {
   "cell_type": "code",
   "execution_count": 44,
   "metadata": {
    "scrolled": true
   },
   "outputs": [
    {
     "name": "stdout",
     "output_type": "stream",
     "text": [
      "*** Reading data from ./embeddings/glove/glove.6B/glove.6B.300d.txt\n",
      "(400000, 300)\n",
      "400000 words of dimension 300 : the, ,, ., of, ..., kronik, rolonda, zsombor, sandberger\n",
      "400000 words of dimension 300 : the, ,, ., of, ..., kronik, rolonda, zsombor, sandberger\n"
     ]
    }
   ],
   "source": [
    "# April's embedding\n",
    "E = WordEmbedding(\"./embeddings/glove/glove.6B/glove.6B.300d.txt\") # 50, 100, 200, 300 dim are available"
   ]
  },
  {
   "cell_type": "code",
   "execution_count": 11,
   "metadata": {},
   "outputs": [
    {
     "name": "stdout",
     "output_type": "stream",
     "text": [
      "Extreme democrat occupations\n",
      "[(0.0, 'treasurer'), (0.0, 'trooper'), (0.0, 'trucker'), (0.0, 'trumpeter'), (0.0, 'tutor'), (0.0, 'tycoon'), (0.0, 'undersecretary'), (0.0, 'understudy'), (0.0, 'valedictorian'), (0.0, 'vice-chancellor'), (0.0, 'violinist'), (0.0, 'vocalist'), (0.0, 'waiter'), (0.0, 'waitress'), (0.0, 'warden'), (0.0, 'warrior'), (0.0, 'welder'), (0.0, 'worker'), (0.0, 'wrestler'), (0.0, 'writer')]\n",
      "\n",
      "\n",
      "Extreme republican occupations\n",
      "[(0.0, 'accountant'), (0.0, 'acquaintance'), (0.0, 'actor'), (0.0, 'actress'), (0.0, 'addict'), (0.0, 'administrator'), (0.0, 'adventurer'), (0.0, 'advocate'), (0.0, 'aide'), (0.0, 'alderman'), (0.0, 'alter-ego'), (0.0, 'ambassador'), (0.0, 'analyst'), (0.0, 'anthropologist'), (0.0, 'archaeologist'), (0.0, 'archbishop'), (0.0, 'architect'), (0.0, 'artist'), (0.0, 'artiste'), (0.0, 'assassin')]\n"
     ]
    },
    {
     "name": "stderr",
     "output_type": "stream",
     "text": [
      "/Users/jenniferpodracky/anaconda3/lib/python3.6/site-packages/numpy/linalg/linalg.py:2257: RuntimeWarning: invalid value encountered in sqrt\n",
      "  ret = sqrt(sqnorm)\n"
     ]
    }
   ],
   "source": [
    "# load (modified) professions file\n",
    "with open(\"./debiaswe/data/professions_parties.json\", 'r') as f:\n",
    "    professions = json.load(f)\n",
    "profession_words = set([p[0] for p in professions])\n",
    "\n",
    "# show party bias in word vectors associated with professions\n",
    "# sort by projection score in the direction of gender\n",
    "# equivalent to Fig 1\n",
    "# sp = sorted([(E.v(w).dot(lean_direction), w) for w in profession_words])\n",
    "\n",
    "political_terms = [\"progressive\",\"neo\",\"left\",\"reformist\",\"free\",\"generous\",\"leftist\",\n",
    "\"liberalism\",\"tolerant\",\"loose\",\"broad\",\"handsome\",\n",
    "\"big\",\"giving\",\"socialized\",\n",
    "\"conservative\",\n",
    "\"adult\",\"politics\",\"libertarian\",\n",
    "\"democratic\",\"centrist\",\"ideology\",\"socialist\",\"populist\",\"evangelical\",\n",
    "\"liberty\",\"freely\",\"freedom\",\n",
    "\"independent\",\"welfare\",\"government\",\"equality\",\n",
    "\"enlightened\",\"lenient\",\"freedoms\",\n",
    "\"caucus\",\"lax\",\"liberalization\",\"liberalized\",\n",
    "\"reactionary\",\"right\",\"moderate\",\n",
    "\"cautious\",\"bourgeois\",\n",
    "\"conventional\",\"liberal\",\n",
    "\"liberalism\",\n",
    "\"conservatism\",\"moderates\",\"centrist\",\"populist\",\"libertarian\",\n",
    "\"secular\",\"progressive\",\"radical\",\"hardline\",\"evangelical\",\"reformist\",\n",
    "\"politics\",\"conservatives\",\"nationalism\",\n",
    "\"tradition\",\"culture\",\"civilization\",\"restoration\",\n",
    "\"orthodox\",\"minimalist\"]\n",
    "lib_terms = [\"progressive\",\"neo\",\"left\",\"reformist\",\"free\",\"generous\",\"leftist\",\n",
    "\"liberalism\",\"tolerant\",\"loose\",\"broad\",\"handsome\",\n",
    "\"big\",\"giving\",\"socialized\",\n",
    "\"conservative\",\n",
    "\"adult\",\"politics\",\"libertarian\",\n",
    "\"democratic\",\"centrist\",\"ideology\",\"socialist\",\"populist\",\"evangelical\",\n",
    "\"liberty\",\"freely\",\"freedom\",\n",
    "\"independent\",\"welfare\",\"government\",\"equality\",\n",
    "\"enlightened\",\"lenient\",\"freedoms\",\n",
    "\"caucus\",\"lax\",\"liberalization\",\"liberalized\"]\n",
    "conservative_terms = [\"reactionary\",\"right\",\"moderate\",\n",
    "\"cautious\",\"bourgeois\",\n",
    "\"conventional\",\"liberal\",\n",
    "\"liberalism\",\"conservatism\",\"moderates\",\"centrist\",\"populist\",\"libertarian\",\n",
    "\"secular\",\"progressive\",\"radical\",\"hardline\",\"evangelical\",\"reformist\",\n",
    "\"politics\",\"conservatives\",\"nationalism\",\n",
    "\"tradition\",\"culture\",\"civilization\",\"restoration\",\n",
    "\"orthodox\",\"minimalist\"]\n",
    "\n",
    "# political direction\n",
    "vs = [sum(E.v(w) for w in political_terms) for political_terms in (conservative_terms, lib_terms)]\n",
    "vs = [v / np.linalg.norm(v) for v in vs]\n",
    "\n",
    "v_political = vs[1] - vs[0]\n",
    "v_political = v_political / np.linalg.norm(v_political)\n",
    "sp = sorted([(E.v(w).dot(v_political), w) for w in profession_words])\n",
    "\n",
    "print('Extreme democrat occupations')\n",
    "print(sp[-20:])\n",
    "\n",
    "print('\\n\\nExtreme republican occupations')\n",
    "print(sp[0:20])\n",
    "\n",
    "# This looks suspicious - liberal/dem professions are at end of alphabet, conserative/rep professions are at the beginning "
   ]
  },
  {
   "cell_type": "code",
   "execution_count": 10,
   "metadata": {},
   "outputs": [],
   "source": [
    "lean_direction = E1.diff(\"progressives\", \"conservatives\")\n",
    "# apparently this works now?!"
   ]
  },
  {
   "cell_type": "code",
   "execution_count": 42,
   "metadata": {},
   "outputs": [
    {
     "ename": "NameError",
     "evalue": "name 'find_nn_cos' is not defined",
     "output_type": "error",
     "traceback": [
      "\u001b[0;31m---------------------------------------------------------------------------\u001b[0m",
      "\u001b[0;31mNameError\u001b[0m                                 Traceback (most recent call last)",
      "\u001b[0;32m<ipython-input-42-43c5ebde17a0>\u001b[0m in \u001b[0;36m<module>\u001b[0;34m()\u001b[0m\n\u001b[1;32m      1\u001b[0m \u001b[0;31m# E1.neighbors(E1.v(\"republican\") - E1.v(\"democrat\") + E1.v(\"liberal\"))\u001b[0m\u001b[0;34m\u001b[0m\u001b[0;34m\u001b[0m\u001b[0m\n\u001b[1;32m      2\u001b[0m \u001b[0mE1\u001b[0m\u001b[0;34m.\u001b[0m\u001b[0mneighbors\u001b[0m\u001b[0;34m(\u001b[0m\u001b[0;34m\"progressives\"\u001b[0m\u001b[0;34m)\u001b[0m\u001b[0;34m\u001b[0m\u001b[0m\n\u001b[0;32m----> 3\u001b[0;31m \u001b[0mfind_nn_cos\u001b[0m\u001b[0;34m(\u001b[0m\u001b[0mE1\u001b[0m\u001b[0;34m.\u001b[0m\u001b[0mv\u001b[0m\u001b[0;34m(\u001b[0m\u001b[0;34m\"democrat\"\u001b[0m\u001b[0;34m)\u001b[0m\u001b[0;34m,\u001b[0m \u001b[0mE1\u001b[0m\u001b[0;34m)\u001b[0m\u001b[0;34m\u001b[0m\u001b[0m\n\u001b[0m",
      "\u001b[0;31mNameError\u001b[0m: name 'find_nn_cos' is not defined"
     ]
    }
   ],
   "source": [
    "# E1.neighbors(E1.v(\"republican\") - E1.v(\"democrat\") + E1.v(\"liberal\"))\n",
    "E1.neighbors(\"progressives\")\n",
    "find_nn_cos(E1.v(\"democrat\"), E1)"
   ]
  },
  {
   "cell_type": "markdown",
   "metadata": {},
   "source": [
    "#### Word2Vec - Google News\n"
   ]
  },
  {
   "cell_type": "code",
   "execution_count": null,
   "metadata": {},
   "outputs": [],
   "source": []
  }
 ],
 "metadata": {
  "kernelspec": {
   "display_name": "Python 3",
   "language": "python",
   "name": "python3"
  },
  "language_info": {
   "codemirror_mode": {
    "name": "ipython",
    "version": 3
   },
   "file_extension": ".py",
   "mimetype": "text/x-python",
   "name": "python",
   "nbconvert_exporter": "python",
   "pygments_lexer": "ipython3",
   "version": "3.6.4"
  }
 },
 "nbformat": 4,
 "nbformat_minor": 2
}
