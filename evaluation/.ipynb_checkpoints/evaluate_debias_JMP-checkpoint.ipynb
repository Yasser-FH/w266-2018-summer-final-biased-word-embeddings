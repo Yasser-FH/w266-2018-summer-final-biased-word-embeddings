{
 "cells": [
  {
   "cell_type": "code",
   "execution_count": 10,
   "metadata": {},
   "outputs": [],
   "source": [
    "import unittest\n",
    "import csv\n",
    "import pandas as pd\n",
    "import numpy as np\n",
    "from nltk.corpus import stopwords \n",
    "from nltk import tokenize\n",
    "import nltk\n",
    "from gensim.models import Word2Vec\n",
    "import gensim.utils\n",
    "import re\n",
    "import datetime\n",
    "import os"
   ]
  },
  {
   "cell_type": "code",
   "execution_count": 12,
   "metadata": {},
   "outputs": [
    {
     "name": "stdout",
     "output_type": "stream",
     "text": [
      "gender_debiased_rane_projection_score-5.3.txt 8.082660209019 0.02816257912550174\n",
      "political_debiased_gnews_projection_score-5.3.txt 9.553340053395699 0.029947774462055484\n",
      "gender_bias_rane_projection_score-5.3.txt 25.64523735605 0.08935622772142857\n",
      "political_bias_rane_projection_score-5.3.txt 14.242606580210001 0.04962580689968642\n",
      "political_debiased_rane_projection_score-5.3.txt 12.04485659543 0.04196814144749129\n",
      "political_bias_gnews_projection_score-5.3.txt 17.18523818972 0.05387222003047022\n"
     ]
    }
   ],
   "source": [
    "directory = \"../r-plots/data/\"\n",
    "\n",
    "for filename in os.listdir(directory):\n",
    "    if \"_score\" in filename: \n",
    "        if bias in filename and source in filename and method in filename:\n",
    "            df = pd.read_csv(directory + filename)\n",
    "            df.columns = ['score', 'profession']\n",
    "            scores = np.abs(df[\"score\"].values)\n",
    "            sum_scores = np.sum(scores)\n",
    "            avg_scores = np.average(scores)\n",
    "            print(filename, sum_scores, avg_scores)\n",
    "        \n",
    "    else:\n",
    "        continue"
   ]
  }
 ],
 "metadata": {
  "kernelspec": {
   "display_name": "Python 3",
   "language": "python",
   "name": "python3"
  },
  "language_info": {
   "codemirror_mode": {
    "name": "ipython",
    "version": 3
   },
   "file_extension": ".py",
   "mimetype": "text/x-python",
   "name": "python",
   "nbconvert_exporter": "python",
   "pygments_lexer": "ipython3",
   "version": "3.6.4"
  }
 },
 "nbformat": 4,
 "nbformat_minor": 2
}
