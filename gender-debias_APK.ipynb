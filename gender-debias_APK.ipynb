{
 "cells": [
  {
   "cell_type": "code",
   "execution_count": 1,
   "metadata": {},
   "outputs": [],
   "source": [
    "from __future__ import print_function, division\n",
    "%matplotlib inline\n",
    "from matplotlib import pyplot as plt\n",
    "import json\n",
    "import random\n",
    "import numpy as np\n",
    "import debiaswe as dwe\n",
    "import debiaswe.we as we\n",
    "from debiaswe.we import WordEmbedding\n",
    "from debiaswe.debias import debias\n",
    "from sklearn.decomposition import PCA"
   ]
  },
  {
   "cell_type": "markdown",
   "metadata": {},
   "source": [
    "## Gender - Google News"
   ]
  },
  {
   "cell_type": "code",
   "execution_count": 2,
   "metadata": {},
   "outputs": [
    {
     "name": "stdout",
     "output_type": "stream",
     "text": [
      "*** Reading data from ./embeddings/w2v_gnews_small.txt\n",
      "26423 words of dimension 300\n"
     ]
    }
   ],
   "source": [
    "# load subset of word embedding trained on Google News text\n",
    "# E = WordEmbedding(\"./embeddings/GoogleNews-vectors-negative300-hard-debiased.bin\")\n",
    "E = WordEmbedding(\"./embeddings/w2v_gnews_small.txt\")"
   ]
  },
  {
   "cell_type": "code",
   "execution_count": 3,
   "metadata": {
    "scrolled": true
   },
   "outputs": [
    {
     "name": "stdout",
     "output_type": "stream",
     "text": [
      "Computing neighbors\n",
      "Mean: 10.2198085002\n",
      "Median: 7.0\n"
     ]
    }
   ],
   "source": [
    "# she−he gender direction on g2vNEWS\n",
    "gender_direction = E.diff(\"she\", \"he\")\n",
    "\n",
    "# appendix A: generating analogies\n",
    "gender_analogies = E.best_analogies_dist_thresh(gender_direction)"
   ]
  },
  {
   "cell_type": "code",
   "execution_count": 4,
   "metadata": {},
   "outputs": [
    {
     "name": "stdout",
     "output_type": "stream",
     "text": [
      "she-he\n",
      "herself-himself\n",
      "her-his\n",
      "woman-man\n",
      "daughter-son\n",
      "businesswoman-businessman\n",
      "girl-boy\n",
      "actress-actor\n",
      "chairwoman-chairman\n",
      "heroine-hero\n",
      "mother-father\n",
      "spokeswoman-spokesman\n",
      "sister-brother\n",
      "girls-boys\n",
      "sisters-brothers\n",
      "queen-king\n",
      "niece-nephew\n",
      "councilwoman-councilman\n",
      "motherhood-fatherhood\n",
      "women-men\n"
     ]
    }
   ],
   "source": [
    "# print gender analogies\n",
    "for (a,b,c) in gender_analogies[:20]:\n",
    "# for (a,b,c) in gender_analogies:\n",
    "    print(a+\"-\"+b)"
   ]
  },
  {
   "cell_type": "code",
   "execution_count": 9,
   "metadata": {},
   "outputs": [],
   "source": [
    "# load professions file\n",
    "with open(\"./data/professions.json\", 'r') as f:\n",
    "    professions = json.load(f)"
   ]
  },
  {
   "cell_type": "code",
   "execution_count": 6,
   "metadata": {
    "scrolled": true
   },
   "outputs": [
    {
     "name": "stdout",
     "output_type": "stream",
     "text": [
      "Extreme she occupations\n",
      "[(0.19714224, u'interior_designer'), (0.20833439, u'housekeeper'), (0.21560374, u'stylist'), (0.22363169, u'bookkeeper'), (0.23776127, u'maid'), (0.24125953, u'nun'), (0.24782579, u'nanny'), (0.24929333, u'hairdresser'), (0.24946159, u'paralegal'), (0.25276464, u'ballerina'), (0.2571882, u'socialite'), (0.26647124, u'librarian'), (0.27317625, u'receptionist'), (0.27540293, u'waitress'), (0.28085968, u'nurse'), (0.30426234, u'registered_nurse'), (0.3043797, u'homemaker'), (0.34036589, u'housewife'), (0.3523514, u'actress'), (0.35965407, u'businesswoman')]\n",
      "\n",
      "\n",
      "Extreme he occupations\n",
      "[(-0.23798442, u'maestro'), (-0.21665451, u'statesman'), (-0.20758669, u'skipper'), (-0.20267203, u'protege'), (-0.20206758, u'businessman'), (-0.19492392, u'sportsman'), (-0.18836351, u'philosopher'), (-0.18073659, u'marksman'), (-0.17289859, u'captain'), (-0.16785556, u'architect'), (-0.16702037, u'financier'), (-0.16313638, u'warrior'), (-0.15280862, u'major_leaguer'), (-0.15001443, u'trumpeter'), (-0.14718866, u'broadcaster'), (-0.14637241, u'magician'), (-0.14401694, u'fighter_pilot'), (-0.13782284, u'boss'), (-0.13718201, u'industrialist'), (-0.13684887, u'pundit')]\n"
     ]
    }
   ],
   "source": [
    "# show gender bias in word vectors associated with professions\n",
    "# sort by projection score in the direction of gender\n",
    "# equivalent to Fig 1\n",
    "gender_bias_projection_score = sorted([(E.v(w).dot(gender_direction), w) for w in professions])\n",
    "\n",
    "print('Extreme she occupations')\n",
    "print(gender_bias_projection_score[-20:])\n",
    "\n",
    "print('\\n\\nExtreme he occupations')\n",
    "print(gender_bias_projection_score[0:20])"
   ]
  },
  {
   "cell_type": "markdown",
   "metadata": {},
   "source": [
    "### 5.2 direct bias"
   ]
  },
  {
   "cell_type": "code",
   "execution_count": 7,
   "metadata": {},
   "outputs": [],
   "source": [
    "# direct bias\n",
    "# identify gender-neutral words\n",
    "with open('./data/gnews_gender/definitional_pairs.json', \"r\") as f:\n",
    "    definitional_gender_gnews = json.load(f)"
   ]
  },
  {
   "cell_type": "code",
   "execution_count": 8,
   "metadata": {},
   "outputs": [],
   "source": [
    "vector_differences_gender_gnews = []\n",
    "for a, b in definitional_gender_gnews:\n",
    "    center = (E.v(a) + E.v(b))/2\n",
    "    vector_differences_gender_gnews.append(E.v(a) - center)\n",
    "    vector_differences_gender_gnews.append(E.v(b) - center)\n",
    "vector_differences_gender_gnews = np.array(vector_differences_gender_gnews)"
   ]
  },
  {
   "cell_type": "code",
   "execution_count": 9,
   "metadata": {},
   "outputs": [],
   "source": [
    "pca_gender_gnews = PCA(n_components=10)\n",
    "result = pca_gender_gnews.fit_transform(vector_differences_gender_gnews)"
   ]
  },
  {
   "cell_type": "code",
   "execution_count": 10,
   "metadata": {},
   "outputs": [
    {
     "data": {
      "text/plain": [
       "<BarContainer object of 10 artists>"
      ]
     },
     "execution_count": 10,
     "metadata": {},
     "output_type": "execute_result"
    },
    {
     "data": {
      "image/png": "[encoded data removed]",
      "text/plain": [
       "<Figure size 432x288 with 1 Axes>"
      ]
     },
     "metadata": {},
     "output_type": "display_data"
    }
   ],
   "source": [
    "plt.bar(range(result.shape[1]),pca_gender_gnews.explained_variance_ratio_)"
   ]
  },
  {
   "cell_type": "markdown",
   "metadata": {},
   "source": [
    "### 5.3 indirect bias"
   ]
  },
  {
   "cell_type": "code",
   "execution_count": 11,
   "metadata": {},
   "outputs": [],
   "source": [
    "# plot created using R \n",
    "# export \"gender_bias_projection_score\" as file\n",
    "\n",
    "# library(ggplot2)\n",
    "# library(ggrepel)\n",
    "\n",
    "# small_set <- read.table(\"~/Documents/berkeley/W266/w266-2018-summer-final-biased-word-embeddings/r-plots/data/gender_profession_subset-5.3.txt\", header = F, stringsAsFactors = F)\n",
    "# gender_bias_projection_score <- read.csv(\"~/Documents/berkeley/W266/w266-2018-summer-final-biased-word-embeddings/r-plots/data/gender_bias_projection_score-5.3.txt\", header = F, stringsAsFactors = F )\n",
    "# gender_bias_projection_score <- subset(gender_bias_projection_score, V2 %in% small_set$V1)\n",
    "# png('~/Documents/berkeley/W266/w266-2018-summer-final-biased-word-embeddings/r-plots/plots/gender_bias_projection_score-5.3.png', units=\"in\", width=4, height=2.6, res=500)\n",
    "# ggplot(data = gender_bias_projection_score, aes(x = -(V1), y = 0)) +\n",
    "#   geom_vline(xintercept = 0, size=0.2, linetype = \"dashed\", colour = \"red\") +\n",
    "#   geom_text(aes(x = -(max(V1))+((max(V1)/4)), y = 0, label = 'extreme \"she\" occupations'), hjust = 1, size = 1, color = \"red\") +\n",
    "#   geom_text(aes(x = -(min(V1)), y = 0, label = 'extreme \"he\" occupations'), hjust = 1, size = 1, color = \"red\") +\n",
    "#   geom_text_repel(aes(label = V2), direction = \"y\", size=1.5,\n",
    "#                   box.padding = unit(0.1, \"lines\"),\n",
    "#                   color = \"black\", segment.alpha=0) +\n",
    "#   theme_bw() +\n",
    "#   theme(axis.title.y=element_blank(),\n",
    "#         axis.text.y=element_blank(),\n",
    "#         axis.ticks.y=element_blank(),\n",
    "#         axis.title.x=element_blank(),\n",
    "#         axis.text.x=element_blank(),\n",
    "#         axis.ticks.x=element_blank(),\n",
    "#         panel.grid.major = element_blank(),\n",
    "#         panel.grid.minor = element_blank(),\n",
    "#         panel.border = element_blank(),\n",
    "#         panel.background = element_blank(),\n",
    "#         legend.position=\"none\"\n",
    "#   )\n",
    "# dev.off()   \n"
   ]
  },
  {
   "cell_type": "markdown",
   "metadata": {},
   "source": [
    "![caption](./r-plots/plots/gender_bias_projection_score-5.3.png)"
   ]
  },
  {
   "cell_type": "markdown",
   "metadata": {},
   "source": [
    "### 6 debiasing algorithm"
   ]
  },
  {
   "cell_type": "code",
   "execution_count": 16,
   "metadata": {},
   "outputs": [],
   "source": [
    "# Determining gender neutral words\n",
    "with open('./data/gnews_gender/equalize_pairs.json', \"r\") as f:\n",
    "    equalize_gender_gnews = json.load(f)\n",
    "\n",
    "with open('./data/gnews_gender/gender_specific_seed.json', \"r\") as f:\n",
    "    gender_specific_gender_gnews = json.load(f)"
   ]
  },
  {
   "cell_type": "code",
   "execution_count": 13,
   "metadata": {},
   "outputs": [
    {
     "name": "stdout",
     "output_type": "stream",
     "text": [
      "26423 words of dimension 300\n",
      "26423 words of dimension 300\n"
     ]
    }
   ],
   "source": [
    "# perform debiasing\n",
    "debias(E, gender_specific_gender_gnews, definitional_gender_gnews, equalize_gender_gnews)"
   ]
  },
  {
   "cell_type": "markdown",
   "metadata": {},
   "source": [
    "### 8 debiasing results"
   ]
  },
  {
   "cell_type": "code",
   "execution_count": 14,
   "metadata": {},
   "outputs": [
    {
     "name": "stdout",
     "output_type": "stream",
     "text": [
      "Extreme she occupations\n",
      "[(0.033466972, u'drummer'), (0.033643764, u'student'), (0.034035705, u'illustrator'), (0.034525327, u'patrolman'), (0.034747459, u'hairdresser'), (0.037651747, u'foreman'), (0.037722327, u'carpenter'), (0.037771177, u'pastor'), (0.038419813, u'nanny'), (0.038888887, u'teenager'), (0.040513169, u'janitor'), (0.043088194, u'firefighter'), (0.047822051, u'wrestler'), (0.2377613, u'maid'), (0.24125955, u'nun'), (0.25276467, u'ballerina'), (0.27540293, u'waitress'), (0.34036583, u'housewife'), (0.3523514, u'actress'), (0.40583247, u'businesswoman')]\n",
      "\n",
      "\n",
      "Extreme he occupations\n",
      "[(-0.41548821, u'congressman'), (-0.41158709, u'businessman'), (-0.32975566, u'councilman'), (-0.29978153, u'dad'), (-0.21665451, u'statesman'), (-0.11345413, u'salesman'), (-0.073004857, u'monk'), (-0.072163939, u'handyman'), (-0.041478299, u'commander'), (-0.040511761, u'minister'), (-0.037369266, u'skipper'), (-0.036916204, u'commissioner'), (-0.033430077, u'observer'), (-0.032828867, u'manager'), (-0.032105118, u'firebrand'), (-0.03120245, u'surgeon'), (-0.031152084, u'citizen'), (-0.031070888, u'archbishop'), (-0.029434485, u'bishop'), (-0.029371528, u'captain')]\n"
     ]
    }
   ],
   "source": [
    "# check again for gender bias in professions after debiasing\n",
    "gender_debiased_projection_score = sorted([(E.v(w).dot(gender_direction), w) for w in professions])\n",
    "\n",
    "print('Extreme she occupations')\n",
    "print(gender_debiased_projection_score[-20:])\n",
    "\n",
    "print('\\n\\nExtreme he occupations')\n",
    "print(gender_debiased_projection_score[0:20])"
   ]
  },
  {
   "cell_type": "markdown",
   "metadata": {},
   "source": [
    "### verify debias by word projection on x axis"
   ]
  },
  {
   "cell_type": "code",
   "execution_count": null,
   "metadata": {},
   "outputs": [],
   "source": [
    "# plot created using R \n",
    "# export \"gender_debiased_projection_score\" as file\n",
    "\n",
    "# library(ggplot2)\n",
    "# library(ggrepel)\n",
    "\n",
    "# small_set <- read.table(\"~/Documents/berkeley/W266/w266-2018-summer-final-biased-word-embeddings/r-plots/data/gender_profession_subset-5.3.txt\", header = F, stringsAsFactors = F)\n",
    "# gender_debiased_projection_score <- read.csv(\"~/Documents/berkeley/W266/w266-2018-summer-final-biased-word-embeddings/r-plots/data/gender_debiased_projection_score-5.3.txt\", header = F)\n",
    "# gender_debiased_projection_score <- subset(gender_debiased_projection_score, V2 %in% small_set$V1)\n",
    "# png('~/Documents/berkeley/W266/w266-2018-summer-final-biased-word-embeddings/r-plots/plots/gender_debiased_projection_score-5.3.png', units=\"in\", width=4, height=2.6, res=500)\n",
    "# ggplot(data = gender_debiased_projection_score, aes(x = -(V1), y = 0)) +\n",
    "#   geom_vline(xintercept = 0, size=0.2, linetype = \"dashed\", colour = \"red\") +\n",
    "#   geom_text(aes(x = -(max(V1))+((max(V1)/4)), y = 0, label = 'extreme \"she\" occupations'), hjust = 1, size = 1, color = \"red\") +\n",
    "#   geom_text(aes(x = -(min(V1)), y = 0, label = 'extreme \"he\" occupations'), hjust = 1, size = 1, color = \"red\") +\n",
    "#   geom_text_repel(aes(label = V2), direction = \"y\", size=1.2,\n",
    "#                   box.padding = unit(0.15, \"lines\"),\n",
    "#                   color = \"black\", segment.alpha=0) +\n",
    "#   theme_bw() +\n",
    "#   theme(axis.title.y=element_blank(),\n",
    "#         axis.text.y=element_blank(),\n",
    "#         axis.ticks.y=element_blank(),\n",
    "#         axis.title.x=element_blank(),\n",
    "#         axis.text.x=element_blank(),\n",
    "#         axis.ticks.x=element_blank(),\n",
    "#         panel.grid.major = element_blank(),\n",
    "#         panel.grid.minor = element_blank(),\n",
    "#         panel.border = element_blank(),\n",
    "#         panel.background = element_blank(),\n",
    "#         legend.position=\"none\"\n",
    "#   )\n",
    "# dev.off()  \n"
   ]
  },
  {
   "cell_type": "markdown",
   "metadata": {},
   "source": [
    "![caption](./r-plots/plots/gender_debiased_projection_score-5.3.png)"
   ]
  },
  {
   "cell_type": "markdown",
   "metadata": {},
   "source": [
    "## Political - Google News"
   ]
  },
  {
   "cell_type": "code",
   "execution_count": 5,
   "metadata": {},
   "outputs": [
    {
     "name": "stdout",
     "output_type": "stream",
     "text": [
      "*** Reading data from ./embeddings/w2v_gnews_small.txt\n",
      "26423 words of dimension 300\n"
     ]
    }
   ],
   "source": [
    "# reload \"biased\" Google News embeddings\n",
    "E = WordEmbedding(\"./embeddings/w2v_gnews_small.txt\")"
   ]
  },
  {
   "cell_type": "code",
   "execution_count": 6,
   "metadata": {},
   "outputs": [
    {
     "name": "stdout",
     "output_type": "stream",
     "text": [
      "Computing neighbors\n",
      "Mean: 10.2198085002\n",
      "Median: 7.0\n"
     ]
    }
   ],
   "source": [
    "# she−he gender direction on g2vNEWS\n",
    "politics_direction_gnews = E.diff(\"democrats\", \"republicans\")\n",
    "\n",
    "# appendix A: generating analogies\n",
    "politics_analogies_gnews = E.best_analogies_dist_thresh(politics_direction_gnews)"
   ]
  },
  {
   "cell_type": "code",
   "execution_count": 7,
   "metadata": {},
   "outputs": [
    {
     "name": "stdout",
     "output_type": "stream",
     "text": [
      "democrats-republicans\n",
      "democrat-republican\n",
      "cafe-pub\n",
      "federalism-devolution\n",
      "cafes-pubs\n",
      "democracy-peace\n",
      "sects-sectarian\n",
      "lawyer-solicitor\n",
      "ruler-monarch\n",
      "mutation-genetic\n",
      "democratic-peaceful\n",
      "reformers-hard_liners\n",
      "militias-paramilitaries\n",
      "son-dad\n",
      "pluralism-multiculturalism\n",
      "nationalism-nationalists\n",
      "Aisha-Keisha\n",
      "bloc-eurozone\n",
      "Emily-Mary\n",
      "expats-holidaymakers\n"
     ]
    }
   ],
   "source": [
    "# print analogies\n",
    "for (a,b,c) in politics_analogies_gnews[:20]:\n",
    "    print(a+\"-\"+b)"
   ]
  },
  {
   "cell_type": "code",
   "execution_count": 10,
   "metadata": {},
   "outputs": [
    {
     "name": "stdout",
     "output_type": "stream",
     "text": [
      "Extreme she occupations\n",
      "[(0.12040618, u'statesman'), (0.12197713, u'mediator'), (0.12235285, u'deputy'), (0.1242275, u'president'), (0.12576297, u'lawmaker'), (0.12671667, u'legislator'), (0.12747315, u'trumpeter'), (0.12922281, u'businessman'), (0.13203219, u'photojournalist'), (0.13724203, u'observer'), (0.13859749, u'politician'), (0.14104803, u'saxophonist'), (0.14389695, u'violinist'), (0.14713554, u'citizen'), (0.14839262, u'philosopher'), (0.15156949, u'pianist'), (0.16372921, u'sociologist'), (0.16833378, u'cellist'), (0.17439917, u'parliamentarian'), (0.1877171, u'scholar')]\n",
      "\n",
      "\n",
      "Extreme he occupations\n",
      "[(-0.14370619, u'constable'), (-0.13320346, u'ranger'), (-0.12543193, u'barrister'), (-0.123773, u'priest'), (-0.12223902, u'solicitor'), (-0.11973068, u'nun'), (-0.11073694, u'archbishop'), (-0.10667094, u'solicitor_general'), (-0.1001594, u'dad'), (-0.097678468, u'sheriff_deputy'), (-0.070922807, u'bishop'), (-0.070511483, u'athletic_director'), (-0.069794148, u'parishioner'), (-0.067267671, u'superintendent'), (-0.06717553, u'stockbroker'), (-0.066206545, u'butler'), (-0.064533047, u'trooper'), (-0.06368769, u'provost'), (-0.057796214, u'chaplain'), (-0.057064652, u'monk')]\n"
     ]
    }
   ],
   "source": [
    "# show gender bias in word vectors associated with professions\n",
    "# sort by projection score in the direction of gender\n",
    "# equivalent to Fig 1\n",
    "political_bias_projection_score = sorted([(E.v(w).dot(politics_direction_gnews), w) for w in professions])\n",
    "\n",
    "print('Extreme she occupations')\n",
    "print(political_bias_projection_score[-20:])\n",
    "\n",
    "print('\\n\\nExtreme he occupations')\n",
    "print(political_bias_projection_score[0:20])"
   ]
  },
  {
   "cell_type": "code",
   "execution_count": 11,
   "metadata": {},
   "outputs": [],
   "source": [
    "# direct bias\n",
    "with open('./data/gnews_political/definitional_pairs_political_googlenews.json', \"r\") as f:\n",
    "    definitional_political_gnews = json.load(f)"
   ]
  },
  {
   "cell_type": "code",
   "execution_count": 12,
   "metadata": {},
   "outputs": [],
   "source": [
    "vector_differences_political_gnews = []\n",
    "for a, b in definitional_political_gnews:\n",
    "    center = (E.v(a) + E.v(b))/2\n",
    "    vector_differences_political_gnews.append(E.v(a) - center)\n",
    "    vector_differences_political_gnews.append(E.v(b) - center)\n",
    "vector_differences_political_gnews = np.array(vector_differences_political_gnews)"
   ]
  },
  {
   "cell_type": "code",
   "execution_count": 13,
   "metadata": {},
   "outputs": [],
   "source": [
    "pca_political_gnews = PCA(n_components=10)\n",
    "result_political_gnews = pca_political_gnews.fit_transform(vector_differences_political_gnews)"
   ]
  },
  {
   "cell_type": "code",
   "execution_count": 14,
   "metadata": {
    "scrolled": false
   },
   "outputs": [
    {
     "data": {
      "text/plain": [
       "<BarContainer object of 10 artists>"
      ]
     },
     "execution_count": 14,
     "metadata": {},
     "output_type": "execute_result"
    },
    {
     "data": {
      "image/png": "[encoded data removed]",
      "text/plain": [
       "<Figure size 432x288 with 1 Axes>"
      ]
     },
     "metadata": {},
     "output_type": "display_data"
    }
   ],
   "source": [
    "plt.bar(range(result_political_gnews.shape[1]),pca_political_gnews.explained_variance_ratio_)"
   ]
  },
  {
   "cell_type": "markdown",
   "metadata": {},
   "source": [
    "### 5.3 indirect bias"
   ]
  },
  {
   "cell_type": "code",
   "execution_count": 21,
   "metadata": {},
   "outputs": [],
   "source": [
    "# plot created using R \n",
    "# export \"political_bias_projection_score\" as file\n",
    "\n",
    "# library(ggplot2)\n",
    "# library(ggrepel)\n",
    "# small_set <- read.table(\"~/Documents/berkeley/W266/w266-2018-summer-final-biased-word-embeddings/r-plots/data/political_profession_gnews_subset-5.3.txt\", header = F, stringsAsFactors = F)\n",
    "# political_bias_gnews_projection_score <- read.csv(\"~/Documents/berkeley/W266/w266-2018-summer-final-biased-word-embeddings/r-plots/data/political_bias_gnews_projection_score-5.3.txt\", header = F, stringsAsFactors = F )\n",
    "# political_bias_gnews_projection_score <- subset(political_bias_gnews_projection_score, V2 %in% small_set$V1)\n",
    "# png('~/Documents/berkeley/W266/w266-2018-summer-final-biased-word-embeddings/r-plots/plots/political_bias_gnews_projection_score-5.3.png', units=\"in\", width=4, height=2.6, res=500)\n",
    "# ggplot(data = political_bias_gnews_projection_score, aes(x = -(V1), y = 0)) +\n",
    "#   geom_vline(xintercept = 0, size=0.2, linetype = \"dashed\", colour = \"red\") +\n",
    "#   geom_text(aes(x = -(max(V1))+((max(V1)/4)), y = 0, label = 'extreme \"democratic\" occupations'), hjust = 1, size = 1, color = \"red\") +\n",
    "#   geom_text(aes(x = -(min(V1)), y = 0, label = 'extreme \"republican\" occupations'), hjust = 1, size = 1, color = \"red\") +\n",
    "#   geom_text_repel(aes(label = V2), direction = \"y\", size=1.5,\n",
    "#                   box.padding = unit(0.1, \"lines\"),\n",
    "#                   color = \"black\", segment.alpha=0) +\n",
    "#   theme_bw() +\n",
    "#   theme(axis.title.y=element_blank(),\n",
    "#         axis.text.y=element_blank(),\n",
    "#         axis.ticks.y=element_blank(),\n",
    "#         axis.title.x=element_blank(),\n",
    "#         axis.text.x=element_blank(),\n",
    "#         axis.ticks.x=element_blank(),\n",
    "#         panel.grid.major = element_blank(),\n",
    "#         panel.grid.minor = element_blank(),\n",
    "#         panel.border = element_blank(),\n",
    "#         panel.background = element_blank(),\n",
    "#         legend.position=\"none\"\n",
    "#   )\n",
    "# dev.off()  \n"
   ]
  },
  {
   "cell_type": "markdown",
   "metadata": {},
   "source": [
    "![caption](./r-plots/plots/political_bias_gnews_projection_score-5.3.png)"
   ]
  },
  {
   "cell_type": "markdown",
   "metadata": {},
   "source": [
    "### 6 debiasing algorithm"
   ]
  },
  {
   "cell_type": "code",
   "execution_count": 17,
   "metadata": {},
   "outputs": [],
   "source": [
    "# Determining party neutral words\n",
    "with open('./data/gnews_political/equalize_pairs_political_googlenews.json', \"r\") as f:\n",
    "    equalize_political_gnews = json.load(f)\n",
    "\n",
    "with open('./data/gnews_political/political_specific.json', \"r\") as f:\n",
    "    political_specific_political_gnews = json.load(f)"
   ]
  },
  {
   "cell_type": "code",
   "execution_count": 18,
   "metadata": {},
   "outputs": [
    {
     "name": "stdout",
     "output_type": "stream",
     "text": [
      "26423 words of dimension 300\n",
      "26423 words of dimension 300\n"
     ]
    }
   ],
   "source": [
    "# perform debiasing\n",
    "debias(E, political_specific_political_gnews, definitional_political_gnews, equalize_political_gnews)"
   ]
  },
  {
   "cell_type": "code",
   "execution_count": 19,
   "metadata": {
    "scrolled": true
   },
   "outputs": [
    {
     "name": "stdout",
     "output_type": "stream",
     "text": [
      "Extreme she occupations\n",
      "[(0.048531082, u'captain'), (0.04855711, u'pollster'), (0.052678179, u'fireman'), (0.052896164, u'landlord'), (0.056234397, u'waiter'), (0.058940083, u'cellist'), (0.060230978, u'skipper'), (0.062349945, u'midfielder'), (0.063155986, u'deputy'), (0.063276008, u'ambassador'), (0.064466804, u'footballer'), (0.064846814, u'caretaker'), (0.067332596, u'goalkeeper'), (0.071969643, u'hitman'), (0.073853865, u'nanny'), (0.080945261, u'marksman'), (0.080945335, u'councilor'), (0.099750601, u'parliamentarian'), (0.27658609, u'lawyer'), (0.29726231, u'historian')]\n",
      "\n",
      "\n",
      "Extreme he occupations\n",
      "[(-0.33388692, u'scholar'), (-0.29611313, u'dad'), (-0.28366122, u'solicitor'), (-0.10057015, u'evangelist'), (-0.088976167, u'nun'), (-0.084431693, u'solicitor_general'), (-0.07595849, u'associate_dean'), (-0.069550283, u'publicist'), (-0.068463027, u'columnist'), (-0.068180151, u'educator'), (-0.064994715, u'saint'), (-0.060843941, u'alter_ego'), (-0.059680864, u'preacher'), (-0.059465759, u'priest'), (-0.059032869, u'guidance_counselor'), (-0.058650061, u'homemaker'), (-0.05859093, u'freelance_writer'), (-0.057871956, u'administrator'), (-0.057598844, u'advocate'), (-0.057118036, u'congressman')]\n"
     ]
    }
   ],
   "source": [
    "# check again for political bias in professions after debiasing\n",
    "political_debiased_projection_score = sorted([(E.v(w).dot(politics_direction_gnews), w) for w in professions])\n",
    "\n",
    "print('Extreme she occupations')\n",
    "print(political_debiased_projection_score[-20:])\n",
    "\n",
    "print('\\n\\nExtreme he occupations')\n",
    "print(political_debiased_projection_score[0:20])"
   ]
  },
  {
   "cell_type": "markdown",
   "metadata": {},
   "source": [
    "### verify debias by word projection on x axis"
   ]
  },
  {
   "cell_type": "code",
   "execution_count": null,
   "metadata": {},
   "outputs": [],
   "source": [
    "# plot created using R \n",
    "# export \"political_debiased_projection_score\" as file\n",
    "\n",
    "# library(ggplot2)\n",
    "# library(ggrepel)\n",
    "# small_set <- read.table(\"~/Documents/berkeley/W266/w266-2018-summer-final-biased-word-embeddings/r-plots/data/political_profession_gnews_subset-5.3.txt\", header = F, stringsAsFactors = F)\n",
    "# political_debiased_projection_score <- read.csv(\"~/Documents/berkeley/W266/w266-2018-summer-final-biased-word-embeddings/r-plots/data/political_debiased_gnews_projection_score-5.3.txt\", header = F)\n",
    "# political_debiased_projection_score <- subset(political_debiased_projection_score, V2 %in% small_set$V1)\n",
    "# png('~/Documents/berkeley/W266/w266-2018-summer-final-biased-word-embeddings/r-plots/plots/political_debiased_projection_score-5.3.png', units=\"in\", width=4, height=2.6, res=500)\n",
    "# ggplot(data = political_debiased_projection_score, aes(x = -(V1), y = 0)) +\n",
    "#   geom_vline(xintercept = 0, size=0.2, linetype = \"dashed\", colour = \"red\") +\n",
    "#   geom_text(aes(x = -(max(V1))+((max(V1)/4)), y = 0, label = 'extreme \"democratic\" occupations'), hjust = 1, size = 1, color = \"red\") +\n",
    "#   geom_text(aes(x = -(min(V1)), y = 0, label = 'extreme \"republican\" occupations'), hjust = 1, size = 1, color = \"red\") +\n",
    "#   geom_text_repel(aes(label = V2), direction = \"y\", size=1.2,\n",
    "#                   box.padding = unit(0.15, \"lines\"),\n",
    "#                   color = \"black\", segment.alpha=0) +\n",
    "#   theme_bw() +\n",
    "#   theme(axis.title.y=element_blank(),\n",
    "#         axis.text.y=element_blank(),\n",
    "#         axis.ticks.y=element_blank(),\n",
    "#         axis.title.x=element_blank(),\n",
    "#         axis.text.x=element_blank(),\n",
    "#         axis.ticks.x=element_blank(),\n",
    "#         panel.grid.major = element_blank(),\n",
    "#         panel.grid.minor = element_blank(),\n",
    "#         panel.border = element_blank(),\n",
    "#         panel.background = element_blank(),\n",
    "#         legend.position=\"none\"\n",
    "#   )\n",
    "# dev.off()  \n"
   ]
  },
  {
   "cell_type": "markdown",
   "metadata": {},
   "source": [
    "![caption](./r-plots/plots/political_debiased_projection_score-5.3.png)"
   ]
  },
  {
   "cell_type": "markdown",
   "metadata": {},
   "source": [
    "## Political - RANE"
   ]
  },
  {
   "cell_type": "code",
   "execution_count": 23,
   "metadata": {
    "scrolled": true
   },
   "outputs": [
    {
     "name": "stdout",
     "output_type": "stream",
     "text": [
      "*** Reading data from ./embeddings/RANE_300d_english_50k.txt\n",
      "50000 words of dimension 300\n",
      "50000 words of dimension 300\n"
     ]
    }
   ],
   "source": [
    "E2 = WordEmbedding(\"./embeddings/RANE_300d_english_50k.txt\")"
   ]
  },
  {
   "cell_type": "code",
   "execution_count": 25,
   "metadata": {},
   "outputs": [
    {
     "name": "stdout",
     "output_type": "stream",
     "text": [
      "Computing neighbors\n",
      "Mean: 126.01516\n",
      "Median: 26.0\n"
     ]
    }
   ],
   "source": [
    "# \"democrats-republicans on RANE\n",
    "political_direction_rane = E2.diff(\"democrats\", \"republicans\")\n",
    "\n",
    "# appendix A: generating analogies\n",
    "political_analogies_rane = E2.best_analogies_dist_thresh(political_direction_rane)"
   ]
  },
  {
   "cell_type": "code",
   "execution_count": 26,
   "metadata": {},
   "outputs": [
    {
     "name": "stdout",
     "output_type": "stream",
     "text": [
      "democrats-republicans\n",
      "democratic-republican\n",
      "cohesion-coherence\n",
      "mores-materialism\n",
      "democrat-congressman\n",
      "darwinism-determinism\n",
      "phobias-afflictions\n",
      "civitas-ineludible\n",
      "conservatism-hubris\n",
      "stratification-inequalities\n",
      "leveller-gatsby\n",
      "outcast-anachronism\n",
      "ills-maladies\n",
      "networks-routers\n",
      "phobia-delusions\n",
      "fabric-metallic\n",
      "democracy-authoritarian\n",
      "psycho-slapstick\n",
      "anthropology-biochemistry\n",
      "outcasts-hippies\n"
     ]
    }
   ],
   "source": [
    "# print gender analogies\n",
    "# for (a,b,c) in politics_analogies:\n",
    "for (a,b,c) in political_analogies_rane[:20]:\n",
    "    print(a+'-'+b)"
   ]
  },
  {
   "cell_type": "code",
   "execution_count": 27,
   "metadata": {},
   "outputs": [],
   "source": [
    "# load professions file for RANE embeddings\n",
    "with open(\"./data/professions_jenni.json\", 'r') as f:\n",
    "    professions_rane = json.load(f)"
   ]
  },
  {
   "cell_type": "code",
   "execution_count": 28,
   "metadata": {},
   "outputs": [
    {
     "name": "stdout",
     "output_type": "stream",
     "text": [
      "Extreme democrats occupations\n",
      "[(0.12082663, u'statesman'), (0.12266756, u'advocate'), (0.12300631, u'prosecutor'), (0.12386417, u'councilor'), (0.12693208, u'artist'), (0.12819286, u'researcher'), (0.12829801, u'campaigner'), (0.13046439, u'citizen'), (0.14091158, u'bishop'), (0.14352775, u'minister'), (0.14783715, u'sociologist'), (0.14796092, u'butler'), (0.15273172, u'parliamentarian'), (0.15324928, u'scientist'), (0.15771252, u'chancellor'), (0.16413482, u'pollster'), (0.17110509, u'ambassador'), (0.17263769, u'psychologist'), (0.17882782, u'broadcaster'), (0.19477884, u'worker')]\n",
      "\n",
      "\n",
      "Extreme republicans occupations\n",
      "[(-0.11571369, u'salesman'), (-0.091360122, u'patrolman'), (-0.085870691, u'surveyor'), (-0.083656095, u'bureaucrat'), (-0.078200363, u'parishioner'), (-0.076154895, u'banker'), (-0.075789444, u'welder'), (-0.07322409, u'broker'), (-0.073092476, u'surgeon'), (-0.07281778, u'assassin'), (-0.070674017, u'gangster'), (-0.070326477, u'negotiator'), (-0.064260527, u'physician'), (-0.06394691, u'fisherman'), (-0.059110139, u'monk'), (-0.055221539, u'constable'), (-0.054657925, u'mechanic'), (-0.05454031, u'sergeant'), (-0.053112909, u'baron'), (-0.052554831, u'saint')]\n"
     ]
    }
   ],
   "source": [
    "political_bias_rane_projection_score = sorted([(E2.v(w).dot(political_direction_rane), w) for w in professions_rane])\n",
    "\n",
    "print('Extreme democrats occupations')\n",
    "print(political_bias_rane_projection_score[-20:])\n",
    "\n",
    "print('\\n\\nExtreme republicans occupations')\n",
    "print(political_bias_rane_projection_score[0:20])"
   ]
  },
  {
   "cell_type": "markdown",
   "metadata": {},
   "source": [
    "### 5.2 direct bias"
   ]
  },
  {
   "cell_type": "code",
   "execution_count": 29,
   "metadata": {},
   "outputs": [],
   "source": [
    "# direct bias\n",
    "with open('./data/rane_political/definitional_pairs_jenni.json', \"r\") as f:\n",
    "    definitional_political_rane = json.load(f)"
   ]
  },
  {
   "cell_type": "code",
   "execution_count": 30,
   "metadata": {},
   "outputs": [],
   "source": [
    "vector_differences_political_rane = []\n",
    "for a, b in definitional_political_rane:\n",
    "    center = (E2.v(a) + E2.v(b))/2\n",
    "    vector_differences_political_rane.append(E2.v(a) - center)\n",
    "    vector_differences_political_rane.append(E2.v(b) - center)\n",
    "vector_differences_political_rane = np.array(vector_differences_political_rane)"
   ]
  },
  {
   "cell_type": "code",
   "execution_count": 31,
   "metadata": {},
   "outputs": [],
   "source": [
    "pca_political_rane = PCA(n_components=10)\n",
    "result_political_rane = pca_political_rane.fit_transform(vector_differences_political_rane)"
   ]
  },
  {
   "cell_type": "code",
   "execution_count": 32,
   "metadata": {
    "scrolled": true
   },
   "outputs": [
    {
     "data": {
      "text/plain": [
       "<BarContainer object of 10 artists>"
      ]
     },
     "execution_count": 32,
     "metadata": {},
     "output_type": "execute_result"
    },
    {
     "data": {
      "image/png": "[encoded data removed]",
      "text/plain": [
       "<Figure size 432x288 with 1 Axes>"
      ]
     },
     "metadata": {},
     "output_type": "display_data"
    }
   ],
   "source": [
    "plt.bar(range(result_political_rane.shape[1]),pca_political_rane.explained_variance_ratio_)"
   ]
  },
  {
   "cell_type": "markdown",
   "metadata": {},
   "source": [
    "### 5.3 indirect bias"
   ]
  },
  {
   "cell_type": "code",
   "execution_count": null,
   "metadata": {},
   "outputs": [],
   "source": [
    "# plot created using R \n",
    "# export \"political_bias_projection_score\" as file\n",
    "\n",
    "# library(ggplot2)\n",
    "# library(ggrepel)\n",
    "\n",
    "# small_set <- read.table(\"~/Documents/berkeley/W266/w266-2018-summer-final-biased-word-embeddings/r-plots/data/political_profession_rane_subset-5.3.txt\", header = F, stringsAsFactors = F)\n",
    "# political_bias_rane_projection_score <- read.csv(\"~/Documents/berkeley/W266/w266-2018-summer-final-biased-word-embeddings/r-plots/data/political_bias_rane_projection_score-5.3.txt\", header = F, stringsAsFactors = F )\n",
    "# political_bias_rane_projection_score <- subset(political_bias_rane_projection_score, V2 %in% small_set$V1)\n",
    "# png('~/Documents/berkeley/W266/w266-2018-summer-final-biased-word-embeddings/r-plots/plots/political_bias_rane_projection_score-5.3.png', units=\"in\", width=4, height=2.6, res=500)\n",
    "# ggplot(data = political_bias_rane_projection_score, aes(x = -(V1), y = 0)) +\n",
    "#   geom_vline(xintercept = 0, size=0.2, linetype = \"dashed\", colour = \"red\") +\n",
    "#   geom_text(aes(x = -(max(V1))+((max(V1)/4)), y = 0, label = 'extreme \"democratic\" occupations'), hjust = 1, size = 1, color = \"red\") +\n",
    "#   geom_text(aes(x = -(min(V1)), y = 0, label = 'extreme \"republican\" occupations'), hjust = 1, size = 1, color = \"red\") +\n",
    "#   geom_text_repel(aes(label = V2), direction = \"y\", size=1.5,\n",
    "#                   box.padding = unit(0.1, \"lines\"),\n",
    "#                   color = \"black\", segment.alpha=0) +\n",
    "#   theme_bw() +\n",
    "#   theme(axis.title.y=element_blank(),\n",
    "#         axis.text.y=element_blank(),\n",
    "#         axis.ticks.y=element_blank(),\n",
    "#         axis.title.x=element_blank(),\n",
    "#         axis.text.x=element_blank(),\n",
    "#         axis.ticks.x=element_blank(),\n",
    "#         panel.grid.major = element_blank(),\n",
    "#         panel.grid.minor = element_blank(),\n",
    "#         panel.border = element_blank(),\n",
    "#         panel.background = element_blank(),\n",
    "#         legend.position=\"none\"\n",
    "#   )\n",
    "# dev.off()  \n"
   ]
  },
  {
   "cell_type": "markdown",
   "metadata": {},
   "source": [
    "![caption](./r-plots/plots/political_bias_rane_projection_score-5.3.png)"
   ]
  },
  {
   "cell_type": "markdown",
   "metadata": {},
   "source": [
    "### 6 debiasing algorithm"
   ]
  },
  {
   "cell_type": "code",
   "execution_count": 34,
   "metadata": {},
   "outputs": [],
   "source": [
    "# Determining party neutral words\n",
    "with open('./data/rane_political/equalize_pairs_jenni.json', \"r\") as f:\n",
    "    equalize_political_rane = json.load(f)\n",
    "\n",
    "with open('./data/rane_political/political_specific.json', \"r\") as f:\n",
    "    politics_specific_political_rane = json.load(f)"
   ]
  },
  {
   "cell_type": "code",
   "execution_count": 35,
   "metadata": {},
   "outputs": [
    {
     "name": "stdout",
     "output_type": "stream",
     "text": [
      "50000 words of dimension 300\n",
      "50000 words of dimension 300\n"
     ]
    }
   ],
   "source": [
    "# perform debiasing\n",
    "debias(E2, politics_specific_political_rane, definitional_political_rane, equalize_political_rane)"
   ]
  },
  {
   "cell_type": "code",
   "execution_count": 36,
   "metadata": {},
   "outputs": [
    {
     "name": "stdout",
     "output_type": "stream",
     "text": [
      "Extreme democrats occupations\n",
      "[(0.074730858, u'envoy'), (0.076328367, u'politician'), (0.077589504, u'mathematician'), (0.077779099, u'councilor'), (0.079257429, u'chancellor'), (0.079983838, u'bishop'), (0.080144882, u'prosecutor'), (0.081020989, u'firebrand'), (0.089022525, u'parliamentarian'), (0.093516253, u'protege'), (0.13662589, u'ambassador'), (0.24599895, u'artist'), (0.24748608, u'minister'), (0.27213481, u'psychologist'), (0.27941433, u'worker'), (0.29883832, u'entrepreneur'), (0.30729669, u'curator'), (0.33564091, u'senator'), (0.33989054, u'statesman'), (0.36746508, u'butler')]\n",
      "\n",
      "\n",
      "Extreme republicans occupations\n",
      "[(-0.34757718, u'salesman'), (-0.33389276, u'employee'), (-0.24649166, u'cardiologist'), (-0.21981466, u'painter'), (-0.19415627, u'congressman'), (-0.090159275, u'bureaucrat'), (-0.083891921, u'constable'), (-0.079088449, u'stockbroker'), (-0.073404059, u'firefighter'), (-0.068853676, u'mobster'), (-0.0675736, u'sergeant'), (-0.062459003, u'broker'), (-0.060378056, u'saint'), (-0.057722252, u'performer'), (-0.056469262, u'patrolman'), (-0.053788539, u'monk'), (-0.053327873, u'priest'), (-0.052931383, u'correspondent'), (-0.049223065, u'comic'), (-0.048730131, u'detective')]\n"
     ]
    }
   ],
   "source": [
    "political_debiased_rane_projection_score = sorted([(E2.v(w).dot(political_direction_rane), w) for w in professions_rane])\n",
    "\n",
    "print('Extreme democrats occupations')\n",
    "print(political_debiased_rane_projection_score[-20:])\n",
    "\n",
    "print('\\n\\nExtreme republicans occupations')\n",
    "print(political_debiased_rane_projection_score[0:20])"
   ]
  },
  {
   "cell_type": "markdown",
   "metadata": {},
   "source": [
    "![caption](./r-plots/plots/political_debiased_rane_projection_score-5.3.png)"
   ]
  },
  {
   "cell_type": "markdown",
   "metadata": {},
   "source": [
    "## Gender - RANE"
   ]
  },
  {
   "cell_type": "code",
   "execution_count": 39,
   "metadata": {},
   "outputs": [
    {
     "name": "stdout",
     "output_type": "stream",
     "text": [
      "*** Reading data from ./embeddings/RANE_300d_english_50k.txt\n",
      "50000 words of dimension 300\n",
      "50000 words of dimension 300\n"
     ]
    }
   ],
   "source": [
    "# reload embeddings\n",
    "E2 = WordEmbedding(\"./embeddings/RANE_300d_english_50k.txt\")"
   ]
  },
  {
   "cell_type": "code",
   "execution_count": 40,
   "metadata": {},
   "outputs": [
    {
     "name": "stdout",
     "output_type": "stream",
     "text": [
      "Computing neighbors\n",
      "Mean: 126.01516\n",
      "Median: 26.0\n"
     ]
    }
   ],
   "source": [
    "# she−he gender direction on RANE\n",
    "gender_direction_rane = E2.diff(\"she\", \"he\")\n",
    "\n",
    "# appendix A: generating analogies\n",
    "gender_analogies_rane = E2.best_analogies_dist_thresh(gender_direction_rane)"
   ]
  },
  {
   "cell_type": "code",
   "execution_count": 41,
   "metadata": {},
   "outputs": [
    {
     "name": "stdout",
     "output_type": "stream",
     "text": [
      "she-he\n",
      "herself-himself\n",
      "her-his\n",
      "ms-mr\n",
      "businesswoman-businessman\n",
      "chairwoman-chairman\n",
      "woman-man\n",
      "spokeswoman-spokesman\n",
      "girl-boy\n",
      "nora-edwin\n",
      "katie-michael\n",
      "mother-father\n",
      "natalie-alan\n",
      "marie-pierre\n",
      "jennifer-gary\n",
      "anastasia-nikolai\n",
      "betty-gerald\n",
      "captor-henchmen\n",
      "begum-hasan\n",
      "sisters-brothers\n"
     ]
    }
   ],
   "source": [
    "# print gender analogies\n",
    "for (a,b,c) in gender_analogies_rane[:20]:\n",
    "    print(a+\"-\"+b)"
   ]
  },
  {
   "cell_type": "code",
   "execution_count": 42,
   "metadata": {},
   "outputs": [
    {
     "name": "stdout",
     "output_type": "stream",
     "text": [
      "Extreme she occupations\n",
      "[(0.20381601, u'librarian'), (0.2091002, u'student'), (0.22505707, u'dermatologist'), (0.23889352, u'socialite'), (0.24043949, u'pediatrician'), (0.24646065, u'dancer'), (0.25038779, u'hairdresser'), (0.2578871, u'receptionist'), (0.28125584, u'homemaker'), (0.29249573, u'therapist'), (0.29351145, u'housekeeper'), (0.29729667, u'nanny'), (0.29847607, u'actress'), (0.30222109, u'businesswoman'), (0.30303526, u'waitress'), (0.33530203, u'ballerina'), (0.33843955, u'maid'), (0.34159389, u'nurse'), (0.361195, u'stylist'), (0.3793034, u'housewife')]\n",
      "\n",
      "\n",
      "Extreme he occupations\n",
      "[(-0.28541991, u'president'), (-0.25411597, u'businessman'), (-0.2022596, u'commander'), (-0.20182301, u'skipper'), (-0.19697638, u'midfielder'), (-0.19238442, u'tycoon'), (-0.18822497, u'protege'), (-0.17931902, u'goalkeeper'), (-0.1779283, u'captain'), (-0.17440619, u'colonel'), (-0.17219761, u'industrialist'), (-0.16733637, u'negotiator'), (-0.16285233, u'baron'), (-0.16257007, u'trader'), (-0.1585497, u'lieutenant'), (-0.15087163, u'envoy'), (-0.14984553, u'statesman'), (-0.14955162, u'treasurer'), (-0.14451265, u'diplomat'), (-0.14365672, u'strategist')]\n"
     ]
    }
   ],
   "source": [
    "# show gender bias\n",
    "gender_bias_rane_projection_score = sorted([(E2.v(w).dot(gender_direction_rane), w) for w in professions_rane])\n",
    "\n",
    "print('Extreme she occupations')\n",
    "print(gender_bias_rane_projection_score[-20:])\n",
    "\n",
    "print('\\n\\nExtreme he occupations')\n",
    "print(gender_bias_rane_projection_score[0:20])"
   ]
  },
  {
   "cell_type": "markdown",
   "metadata": {},
   "source": [
    "### 5.2 direct bias"
   ]
  },
  {
   "cell_type": "code",
   "execution_count": 44,
   "metadata": {},
   "outputs": [],
   "source": [
    "with open('./data/rane_gender/definitional_pairs_gender_rane.json') as f:\n",
    "    definitional_gender_rane = json.load(f)"
   ]
  },
  {
   "cell_type": "code",
   "execution_count": 45,
   "metadata": {},
   "outputs": [],
   "source": [
    "vector_differences_gender_rane = []\n",
    "for a, b in definitional_gender_rane:\n",
    "    center = (E2.v(a) + E2.v(b))/2\n",
    "    vector_differences_gender_rane.append(E2.v(a) - center)\n",
    "    vector_differences_gender_rane.append(E2.v(b) - center)\n",
    "vector_differences_gender_rane = np.array(vector_differences_gender_rane)"
   ]
  },
  {
   "cell_type": "code",
   "execution_count": 46,
   "metadata": {},
   "outputs": [],
   "source": [
    "pca_gender_rane = PCA(n_components=10)\n",
    "result_gender_rane = pca_gender_rane.fit_transform(vector_differences_gender_rane)"
   ]
  },
  {
   "cell_type": "code",
   "execution_count": 47,
   "metadata": {},
   "outputs": [
    {
     "data": {
      "text/plain": [
       "<BarContainer object of 10 artists>"
      ]
     },
     "execution_count": 47,
     "metadata": {},
     "output_type": "execute_result"
    },
    {
     "data": {
      "image/png": "[encoded data removed]",
      "text/plain": [
       "<Figure size 432x288 with 1 Axes>"
      ]
     },
     "metadata": {},
     "output_type": "display_data"
    }
   ],
   "source": [
    "plt.bar(range(result_gender_rane.shape[1]),pca_gender_rane.explained_variance_ratio_)"
   ]
  },
  {
   "cell_type": "markdown",
   "metadata": {},
   "source": [
    "### 5.3 indirect bias"
   ]
  },
  {
   "cell_type": "code",
   "execution_count": null,
   "metadata": {},
   "outputs": [],
   "source": [
    "# plot created using R \n",
    "# export \"gender_bias_rane_projection_score\" as file\n",
    "\n",
    "# library(ggplot2)\n",
    "# library(ggrepel)\n",
    "# small_set <- read.table(\"~/Documents/berkeley/W266/w266-2018-summer-final-biased-word-embeddings/r-plots/data/gender_profession_rane_subset-5.3.txt\", header = F, stringsAsFactors = F)\n",
    "# gender_bias_rane_projection_score <- read.csv(\"~/Documents/berkeley/W266/w266-2018-summer-final-biased-word-embeddings/r-plots/data/gender_bias_rane_projection_score-5.3.txt\", header = F, stringsAsFactors = F )\n",
    "# gender_bias_rane_projection_score <- subset(gender_bias_rane_projection_score, V2 %in% small_set$V1)\n",
    "# png('~/Documents/berkeley/W266/w266-2018-summer-final-biased-word-embeddings/r-plots/plots/gender_bias_rane_projection_score-5.3.png', units=\"in\", width=4, height=2.6, res=500)\n",
    "# ggplot(data = gender_bias_rane_projection_score, aes(x = -(V1), y = 0)) +\n",
    "#   geom_vline(xintercept = 0, size=0.2, linetype = \"dashed\", colour = \"red\") +\n",
    "#   geom_text(aes(x = -(max(V1))+((max(V1)/4)), y = 0, label = 'extreme \"she\" occupations'), hjust = 1, size = 1, color = \"red\") +\n",
    "#   geom_text(aes(x = -(min(V1)), y = 0, label = 'extreme \"he\" occupations'), hjust = 1, size = 1, color = \"red\") +\n",
    "#   geom_text_repel(aes(label = V2), direction = \"y\", size=1.5,\n",
    "#                   box.padding = unit(0.1, \"lines\"),\n",
    "#                   color = \"black\", segment.alpha=0) +\n",
    "#   theme_bw() +\n",
    "#   theme(axis.title.y=element_blank(),\n",
    "#         axis.text.y=element_blank(),\n",
    "#         axis.ticks.y=element_blank(),\n",
    "#         axis.title.x=element_blank(),\n",
    "#         axis.text.x=element_blank(),\n",
    "#         axis.ticks.x=element_blank(),\n",
    "#         panel.grid.major = element_blank(),\n",
    "#         panel.grid.minor = element_blank(),\n",
    "#         panel.border = element_blank(),\n",
    "#         panel.background = element_blank(),\n",
    "#         legend.position=\"none\"\n",
    "#   )\n",
    "# dev.off()  "
   ]
  },
  {
   "cell_type": "markdown",
   "metadata": {},
   "source": [
    "![caption](./r-plots/plots/gender_bias_rane_projection_score-5.3.png)"
   ]
  },
  {
   "cell_type": "markdown",
   "metadata": {},
   "source": [
    "### 6 debiasing algorithm"
   ]
  },
  {
   "cell_type": "code",
   "execution_count": 50,
   "metadata": {},
   "outputs": [],
   "source": [
    "# Determining gender neutral words\n",
    "with open('./data/rane_gender/equalize_pairs_gender_rane.json', \"r\") as f:\n",
    "    equalize_gender_rane = json.load(f)\n",
    "\n",
    "with open('./data/rane_gender/gender_specific_seed.json', \"r\") as f:\n",
    "    gender_specific_gender_rane = json.load(f)"
   ]
  },
  {
   "cell_type": "code",
   "execution_count": 51,
   "metadata": {},
   "outputs": [
    {
     "name": "stdout",
     "output_type": "stream",
     "text": [
      "50000 words of dimension 300\n",
      "50000 words of dimension 300\n"
     ]
    }
   ],
   "source": [
    "# perform debiasing\n",
    "debias(E2, gender_specific_gender_rane, definitional_gender_rane, equalize_gender_rane)"
   ]
  },
  {
   "cell_type": "code",
   "execution_count": 53,
   "metadata": {},
   "outputs": [
    {
     "name": "stdout",
     "output_type": "stream",
     "text": [
      "Extreme she occupations\n",
      "[(0.045358643, u'mechanic'), (0.045674063, u'sergeant'), (0.046819601, u'detective'), (0.052570991, u'teenager'), (0.052862421, u'handyman'), (0.053542092, u'receptionist'), (0.053840935, u'butcher'), (0.054383349, u'chaplain'), (0.057192016, u'plumber'), (0.057961386, u'gardener'), (0.064178295, u'janitor'), (0.065072432, u'saint'), (0.086268082, u'dad'), (0.18554354, u'nun'), (0.29847607, u'actress'), (0.30303532, u'waitress'), (0.33530203, u'ballerina'), (0.33843955, u'maid'), (0.3793034, u'housewife'), (0.40263259, u'businesswoman')]\n",
      "\n",
      "\n",
      "Extreme he occupations\n",
      "[(-0.37735555, u'businessman'), (-0.31248111, u'congressman'), (-0.14984553, u'statesman'), (-0.091386236, u'salesman'), (-0.062297493, u'envoy'), (-0.053703602, u'negotiator'), (-0.046285521, u'diplomat'), (-0.045546256, u'president'), (-0.043879673, u'councilor'), (-0.032056045, u'deputy'), (-0.029436225, u'ambassador'), (-0.028291682, u'legislator'), (-0.025454696, u'firebrand'), (-0.025337283, u'protege'), (-0.024779946, u'midfielder'), (-0.024645425, u'observer'), (-0.024492599, u'mediator'), (-0.024067312, u'analyst'), (-0.02334924, u'commentator'), (-0.021012638, u'marshal')]\n"
     ]
    }
   ],
   "source": [
    "gender_debiased_rane_projection_score = sorted([(E2.v(w).dot(gender_direction_rane), w) for w in professions_rane])\n",
    "\n",
    "print('Extreme she occupations')\n",
    "print(gender_debiased_rane_projection_score[-20:])\n",
    "\n",
    "print('\\n\\nExtreme he occupations')\n",
    "print(gender_debiased_rane_projection_score[0:20])"
   ]
  },
  {
   "cell_type": "code",
   "execution_count": 55,
   "metadata": {},
   "outputs": [],
   "source": [
    "# plot created using R \n",
    "# export \"gender_bias_rane_projection_score\" as file\n",
    "\n",
    "# library(ggplot2)\n",
    "# library(ggrepel)\n",
    "# small_set <- read.table(\"~/Documents/berkeley/W266/w266-2018-summer-final-biased-word-embeddings/r-plots/data/gender_profession_rane_subset-5.3.txt\", header = F, stringsAsFactors = F)\n",
    "# gender_debiased_projection_score <- read.csv(\"~/Documents/berkeley/W266/w266-2018-summer-final-biased-word-embeddings/r-plots/data/gender_debiased_projection_score-5.3.txt\", header = F)\n",
    "# gender_debiased_projection_score <- subset(gender_debiased_projection_score, V2 %in% small_set$V1)\n",
    "# png('~/Documents/berkeley/W266/w266-2018-summer-final-biased-word-embeddings/r-plots/plots/gender_debiased_projection_score-5.3.png', units=\"in\", width=4, height=2.6, res=500)\n",
    "# ggplot(data = gender_debiased_projection_score, aes(x = -(V1), y = 0)) +\n",
    "#   geom_vline(xintercept = 0, size=0.2, linetype = \"dashed\", colour = \"red\") +\n",
    "#   geom_text(aes(x = -(max(V1))+((max(V1)/4)), y = 0, label = 'extreme \"she\" occupations'), hjust = 1, size = 1, color = \"red\") +\n",
    "#   geom_text(aes(x = -(min(V1)), y = 0, label = 'extreme \"he\" occupations'), hjust = 1, size = 1, color = \"red\") +\n",
    "#   geom_text_repel(aes(label = V2), direction = \"y\", size=1.2,\n",
    "#                   box.padding = unit(0.15, \"lines\"),\n",
    "#                   color = \"black\", segment.alpha=0) +\n",
    "#   theme_bw() +\n",
    "#   theme(axis.title.y=element_blank(),\n",
    "#         axis.text.y=element_blank(),\n",
    "#         axis.ticks.y=element_blank(),\n",
    "#         axis.title.x=element_blank(),\n",
    "#         axis.text.x=element_blank(),\n",
    "#         axis.ticks.x=element_blank(),\n",
    "#         panel.grid.major = element_blank(),\n",
    "#         panel.grid.minor = element_blank(),\n",
    "#         panel.border = element_blank(),\n",
    "#         panel.background = element_blank(),\n",
    "#         legend.position=\"none\"\n",
    "#   )\n",
    "# dev.off()  \n"
   ]
  },
  {
   "cell_type": "markdown",
   "metadata": {},
   "source": [
    "![caption](./r-plots/plots/gender_debiased_projection_score-5.3.png)"
   ]
  },
  {
   "cell_type": "code",
   "execution_count": null,
   "metadata": {},
   "outputs": [],
   "source": []
  }
 ],
 "metadata": {
  "kernelspec": {
   "display_name": "Python 2",
   "language": "python",
   "name": "python2"
  },
  "language_info": {
   "codemirror_mode": {
    "name": "ipython",
    "version": 2
   },
   "file_extension": ".py",
   "mimetype": "text/x-python",
   "name": "python",
   "nbconvert_exporter": "python",
   "pygments_lexer": "ipython2",
   "version": "2.7.15"
  }
 },
 "nbformat": 4,
 "nbformat_minor": 2
}
