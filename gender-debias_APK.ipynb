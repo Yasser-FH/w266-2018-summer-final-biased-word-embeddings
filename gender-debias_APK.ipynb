{
 "cells": [
  {
   "cell_type": "code",
   "execution_count": 1,
   "metadata": {},
   "outputs": [],
   "source": [
    "from __future__ import print_function, division\n",
    "%matplotlib inline\n",
    "from matplotlib import pyplot as plt\n",
    "import json\n",
    "import random\n",
    "import numpy as np\n",
    "import debiaswe as dwe\n",
    "import debiaswe.we as we\n",
    "from debiaswe.we import WordEmbedding\n",
    "from debiaswe.debias import debias\n",
    "from sklearn.decomposition import PCA"
   ]
  },
  {
   "cell_type": "markdown",
   "metadata": {},
   "source": [
    "## Replicate gender debias using Google News"
   ]
  },
  {
   "cell_type": "code",
   "execution_count": 2,
   "metadata": {},
   "outputs": [
    {
     "name": "stdout",
     "output_type": "stream",
     "text": [
      "*** Reading data from ./embeddings/w2v_gnews_small.txt\n",
      "(26423, 300)\n",
      "26423 words of dimension 300 : in, for, that, is, ..., Jay, Leroy, Brad, Jermaine\n"
     ]
    }
   ],
   "source": [
    "# load subset of word embedding trained on Google News text\n",
    "# E = WordEmbedding(\"./embeddings/GoogleNews-vectors-negative300-hard-debiased.bin\")\n",
    "E = WordEmbedding(\"./embeddings/w2v_gnews_small.txt\")"
   ]
  },
  {
   "cell_type": "code",
   "execution_count": 3,
   "metadata": {
    "scrolled": true
   },
   "outputs": [
    {
     "name": "stdout",
     "output_type": "stream",
     "text": [
      "Computing neighbors\n",
      "Mean: 10.219732808538016\n",
      "Median: 7.0\n"
     ]
    }
   ],
   "source": [
    "# she−he gender direction on g2vNEWS\n",
    "gender_direction = E.diff(\"she\", \"he\")\n",
    "\n",
    "# appendix A: generating analogies\n",
    "gender_analogies = E.best_analogies_dist_thresh(gender_direction)"
   ]
  },
  {
   "cell_type": "code",
   "execution_count": 4,
   "metadata": {},
   "outputs": [
    {
     "name": "stdout",
     "output_type": "stream",
     "text": [
      "she-he\n",
      "herself-himself\n",
      "her-his\n",
      "woman-man\n",
      "daughter-son\n",
      "businesswoman-businessman\n",
      "girl-boy\n",
      "actress-actor\n",
      "chairwoman-chairman\n",
      "heroine-hero\n",
      "mother-father\n",
      "spokeswoman-spokesman\n",
      "sister-brother\n",
      "girls-boys\n",
      "sisters-brothers\n",
      "queen-king\n",
      "niece-nephew\n",
      "councilwoman-councilman\n",
      "motherhood-fatherhood\n",
      "women-men\n"
     ]
    }
   ],
   "source": [
    "# print gender analogies\n",
    "for (a,b,c) in gender_analogies[:20]:\n",
    "    print(a+\"-\"+b)"
   ]
  },
  {
   "cell_type": "code",
   "execution_count": 5,
   "metadata": {},
   "outputs": [],
   "source": [
    "# load professions file\n",
    "with open(\"./data/professions.json\", 'r') as f:\n",
    "    professions = json.load(f)"
   ]
  },
  {
   "cell_type": "code",
   "execution_count": 6,
   "metadata": {
    "scrolled": true
   },
   "outputs": [
    {
     "name": "stdout",
     "output_type": "stream",
     "text": [
      "Extreme she occupations\n",
      "[(0.19714224, u'interior_designer'), (0.20833439, u'housekeeper'), (0.21560375, u'stylist'), (0.2236317, u'bookkeeper'), (0.23776126, u'maid'), (0.24125955, u'nun'), (0.24782579, u'nanny'), (0.24929334, u'hairdresser'), (0.24946158, u'paralegal'), (0.25276464, u'ballerina'), (0.25718823, u'socialite'), (0.26647124, u'librarian'), (0.27317622, u'receptionist'), (0.27540293, u'waitress'), (0.28085968, u'nurse'), (0.3042623, u'registered_nurse'), (0.3043797, u'homemaker'), (0.3403659, u'housewife'), (0.3523514, u'actress'), (0.35965404, u'businesswoman')]\n",
      "\n",
      "\n",
      "Extreme he occupations\n",
      "[(-0.23798442, u'maestro'), (-0.21665451, u'statesman'), (-0.20758669, u'skipper'), (-0.20267202, u'protege'), (-0.2020676, u'businessman'), (-0.19492392, u'sportsman'), (-0.18836352, u'philosopher'), (-0.1807366, u'marksman'), (-0.1728986, u'captain'), (-0.16785555, u'architect'), (-0.16702037, u'financier'), (-0.16313636, u'warrior'), (-0.15280862, u'major_leaguer'), (-0.15001445, u'trumpeter'), (-0.14718868, u'broadcaster'), (-0.14637242, u'magician'), (-0.14401694, u'fighter_pilot'), (-0.13782285, u'boss'), (-0.137182, u'industrialist'), (-0.13684885, u'pundit')]\n"
     ]
    }
   ],
   "source": [
    "# show gender bias in word vectors associated with professions\n",
    "# sort by projection score in the direction of gender\n",
    "# equivalent to Fig 1\n",
    "gender_bias_projection_score = sorted([(E.v(w).dot(gender_direction), w) for w in professions])\n",
    "\n",
    "print('Extreme she occupations')\n",
    "print(gender_bias_projection_score[-20:])\n",
    "\n",
    "print('\\n\\nExtreme he occupations')\n",
    "print(gender_bias_projection_score[0:20])"
   ]
  },
  {
   "cell_type": "markdown",
   "metadata": {},
   "source": [
    "### 5.2 direct bias"
   ]
  },
  {
   "cell_type": "code",
   "execution_count": 7,
   "metadata": {},
   "outputs": [],
   "source": [
    "# direct bias\n",
    "# identify gender-neutral words\n",
    "with open('./data/definitional_pairs.json', \"r\") as f:\n",
    "    definitional = json.load(f)"
   ]
  },
  {
   "cell_type": "code",
   "execution_count": 8,
   "metadata": {},
   "outputs": [],
   "source": [
    "vector_differences = []\n",
    "for a, b in definitional:\n",
    "    center = (E.v(a) + E.v(b))/2\n",
    "    vector_differences.append(E.v(a) - center)\n",
    "    vector_differences.append(E.v(b) - center)\n",
    "vector_differences = np.array(vector_differences)"
   ]
  },
  {
   "cell_type": "code",
   "execution_count": 9,
   "metadata": {},
   "outputs": [],
   "source": [
    "pca = PCA(n_components=10)\n",
    "result = pca.fit_transform(vector_differences)"
   ]
  },
  {
   "cell_type": "code",
   "execution_count": 10,
   "metadata": {},
   "outputs": [
    {
     "data": {
      "text/plain": [
       "<BarContainer object of 10 artists>"
      ]
     },
     "execution_count": 10,
     "metadata": {},
     "output_type": "execute_result"
    },
    {
     "data": {
      "image/png": "[encoded data removed]",
      "text/plain": [
       "<Figure size 432x288 with 1 Axes>"
      ]
     },
     "metadata": {},
     "output_type": "display_data"
    }
   ],
   "source": [
    "plt.bar(range(result.shape[1]),pca.explained_variance_ratio_)"
   ]
  },
  {
   "cell_type": "markdown",
   "metadata": {},
   "source": [
    "### 5.3 indirect bias"
   ]
  },
  {
   "cell_type": "code",
   "execution_count": 11,
   "metadata": {},
   "outputs": [],
   "source": [
    "# plot created using R \n",
    "# export \"gender_bias_projection_score\" as file\n",
    "\n",
    "# library(ggplot2)\n",
    "# library(ggrepel)\n",
    "\n",
    "# small_set <- read.table(\"~/Documents/berkeley/W266/w266-2018-summer-final-biased-word-embeddings/data/gender_profession_subset-5.3.txt\", header = F, stringsAsFactors = F)\n",
    "# gender_bias_projection_score <- read.csv(\"~/Documents/berkeley/W266/w266-2018-summer-final-biased-word-embeddings/data/gender_bias_projection_score-5.3.txt\", header = F, stringsAsFactors = F )\n",
    "# gender_bias_projection_score <- subset(gender_bias_projection_score, V2 %in% small_set$V1)\n",
    "# png('~/Documents/berkeley/W266/w266-2018-summer-final-biased-word-embeddings/r-plots/gender_bias_projection_score-5.3.png', units=\"in\", width=4, height=2.6, res=500)\n",
    "# ggplot(data = gender_bias_projection_score, aes(x = V1, y = 0)) +\n",
    "#   geom_vline(xintercept = 0, size=0.2, linetype = \"dashed\", colour = \"red\") +\n",
    "#   # geom_hline(yintercept = 0, size=0.1, colour = \"grey\") +\n",
    "#   geom_text_repel(aes(label = V2), direction = \"y\", size=1.5,\n",
    "#                   box.padding = unit(0.1, \"lines\"),\n",
    "#                   color = \"black\", segment.alpha=0) +\n",
    "#   theme_bw() +\n",
    "#   theme(axis.title.y=element_blank(),\n",
    "#         axis.text.y=element_blank(),\n",
    "#         axis.ticks.y=element_blank(),\n",
    "#         axis.title.x=element_blank(),\n",
    "#         axis.text.x=element_blank(),\n",
    "#         axis.ticks.x=element_blank(),\n",
    "#         panel.grid.major = element_blank(),\n",
    "#         panel.grid.minor = element_blank(),\n",
    "#         panel.border = element_blank(),\n",
    "#         panel.background = element_blank(),\n",
    "#         legend.position=\"none\"\n",
    "#   )\n",
    "# dev.off()  \n"
   ]
  },
  {
   "cell_type": "markdown",
   "metadata": {},
   "source": [
    "![caption](./r-plots/gender_bias_projection_score-5.3.png)"
   ]
  },
  {
   "cell_type": "markdown",
   "metadata": {},
   "source": [
    "### 6 debiasing algorithm"
   ]
  },
  {
   "cell_type": "code",
   "execution_count": 11,
   "metadata": {},
   "outputs": [],
   "source": [
    "# 7 Determining gender neutral words\n",
    "with open('./data/equalize_pairs.json', \"r\") as f:\n",
    "    equalize = json.load(f)\n",
    "\n",
    "with open('./data/gender_specific_full.json', \"r\") as f:\n",
    "    gender_specific = json.load(f)"
   ]
  },
  {
   "cell_type": "code",
   "execution_count": 12,
   "metadata": {},
   "outputs": [
    {
     "name": "stdout",
     "output_type": "stream",
     "text": [
      "26423 words of dimension 300 : in, for, that, is, ..., Jay, Leroy, Brad, Jermaine\n",
      "set([(u'Dad', u'Mom'), (u'fathers', u'mothers'), (u'Gelding', u'Mare'), (u'twin_brother', u'twin_sister'), (u'HIMSELF', u'HERSELF'), (u'GRANDSONS', u'GRANDDAUGHTERS'), (u'KING', u'QUEEN'), (u'FRATERNITY', u'SORORITY'), (u'prince', u'princess'), (u'men', u'women'), (u'FATHERHOOD', u'MOTHERHOOD'), (u'Dudes', u'Gals'), (u'DADS', u'MOMS'), (u'BOYS', u'GIRLS'), (u'nephew', u'niece'), (u'Father', u'Mother'), (u'He', u'She'), (u'Grandfather', u'Grandmother'), (u'Spokesman', u'Spokeswoman'), (u'Brother', u'Sister'), (u'FATHERS', u'MOTHERS'), (u'UNCLE', u'AUNT'), (u'gelding', u'mare'), (u'Himself', u'Herself'), (u'his', u'her'), (u'Son', u'Daughter'), (u'prostate_cancer', u'ovarian_cancer'), (u'BROTHER', u'SISTER'), (u'chairman', u'chairwoman'), (u'MEN', u'WOMEN'), (u'gentlemen', u'ladies'), (u'SON', u'DAUGHTER'), (u'king', u'queen'), (u'Colt', u'Filly'), (u'councilman', u'councilwoman'), (u'SPOKESMAN', u'SPOKESWOMAN'), (u'testosterone', u'estrogen'), (u'BOY', u'GIRL'), (u'ex_girlfriend', u'ex_boyfriend'), (u'SCHOOLBOY', u'SCHOOLGIRL'), (u'Boys', u'Girls'), (u'PROSTATE_CANCER', u'OVARIAN_CANCER'), (u'WIVES', u'HUSBANDS'), (u'Chairman', u'Chairwoman'), (u'Men', u'Women'), (u'uncle', u'aunt'), (u'CATHOLIC_PRIEST', u'NUN'), (u'GRANDSON', u'GRANDDAUGHTER'), (u'Grandsons', u'Granddaughters'), (u'monastery', u'convent'), (u'BUSINESSMAN', u'BUSINESSWOMAN'), (u'dad', u'mom'), (u'males', u'females'), (u'TESTOSTERONE', u'ESTROGEN'), (u'Fathers', u'Mothers'), (u'His', u'Her'), (u'MAN', u'WOMAN'), (u'COLT', u'FILLY'), (u'Gentlemen', u'Ladies'), (u'GRANDPA', u'GRANDMA'), (u'Dads', u'Moms'), (u'Boy', u'Girl'), (u'Fella', u'Granny'), (u'dudes', u'gals'), (u'GELDING', u'MARE'), (u'schoolboy', u'schoolgirl'), (u'grandsons', u'granddaughters'), (u'HIS', u'HER'), (u'wives', u'husbands'), (u'fatherhood', u'motherhood'), (u'Testosterone', u'Estrogen'), (u'FELLA', u'GRANNY'), (u'DUDES', u'GALS'), (u'catholic_priest', u'nun'), (u'dads', u'moms'), (u'spokesman', u'spokeswoman'), (u'COUNCILMAN', u'COUNCILWOMAN'), (u'NEPHEW', u'NIECE'), (u'Man', u'Woman'), (u'HE', u'SHE'), (u'Sons', u'Daughters'), (u'fraternity', u'sorority'), (u'fella', u'granny'), (u'colt', u'filly'), (u'Catholic_Priest', u'Nun'), (u'Nephew', u'Niece'), (u'Prostate_Cancer', u'Ovarian_Cancer'), (u'he', u'she'), (u'Wives', u'Husbands'), (u'businessman', u'businesswoman'), (u'DAD', u'MOM'), (u'Males', u'Females'), (u'Grandson', u'Granddaughter'), (u'kings', u'queens'), (u'grandpa', u'grandma'), (u'brothers', u'sisters'), (u'son', u'daughter'), (u'grandfather', u'grandmother'), (u'sons', u'daughters'), (u'Prince', u'Princess'), (u'PRINCE', u'PRINCESS'), (u'EX_GIRLFRIEND', u'EX_BOYFRIEND'), (u'congressman', u'congresswoman'), (u'TWIN_BROTHER', u'TWIN_SISTER'), (u'grandson', u'granddaughter'), (u'FATHER', u'MOTHER'), (u'King', u'Queen'), (u'GRANDFATHER', u'GRANDMOTHER'), (u'SONS', u'DAUGHTERS'), (u'Uncle', u'Aunt'), (u'Kings', u'Queens'), (u'Ex_Girlfriend', u'Ex_Boyfriend'), (u'Brothers', u'Sisters'), (u'Twin_Brother', u'Twin_Sister'), (u'himself', u'herself'), (u'boys', u'girls'), (u'Male', u'Female'), (u'brother', u'sister'), (u'gentleman', u'lady'), (u'Fraternity', u'Sorority'), (u'CHAIRMAN', u'CHAIRWOMAN'), (u'MALE', u'FEMALE'), (u'father', u'mother'), (u'CONGRESSMAN', u'CONGRESSWOMAN'), (u'male', u'female'), (u'MALES', u'FEMALES'), (u'GENTLEMEN', u'LADIES'), (u'Councilman', u'Councilwoman'), (u'man', u'woman'), (u'Gentleman', u'Lady'), (u'Grandpa', u'Grandma'), (u'KINGS', u'QUEENS'), (u'boy', u'girl'), (u'MONASTERY', u'CONVENT'), (u'Fatherhood', u'Motherhood'), (u'BROTHERS', u'SISTERS'), (u'Businessman', u'Businesswoman'), (u'Schoolboy', u'Schoolgirl'), (u'GENTLEMAN', u'LADY'), (u'Monastery', u'Convent'), (u'Congressman', u'Congresswoman')])\n",
      "26423 words of dimension 300 : in, for, that, is, ..., Jay, Leroy, Brad, Jermaine\n"
     ]
    }
   ],
   "source": [
    "# perform debiasing\n",
    "debias(E, gender_specific, definitional, equalize)"
   ]
  },
  {
   "cell_type": "markdown",
   "metadata": {},
   "source": [
    "### 8 debiasing results"
   ]
  },
  {
   "cell_type": "code",
   "execution_count": 13,
   "metadata": {},
   "outputs": [
    {
     "name": "stdout",
     "output_type": "stream",
     "text": [
      "Extreme she occupations\n",
      "[(0.033643793, u'student'), (0.03403571, u'illustrator'), (0.034525253, u'patrolman'), (0.034747534, u'hairdresser'), (0.037651695, u'foreman'), (0.0377223, u'carpenter'), (0.037771206, u'pastor'), (0.038419843, u'nanny'), (0.04051316, u'janitor'), (0.043088164, u'firefighter'), (0.047822054, u'wrestler'), (0.06411566, u'teenager'), (0.23776129, u'maid'), (0.24125956, u'nun'), (0.25276467, u'ballerina'), (0.25718823, u'socialite'), (0.27540293, u'waitress'), (0.34036583, u'housewife'), (0.3523514, u'actress'), (0.4058326, u'businesswoman')]\n",
      "\n",
      "\n",
      "Extreme he occupations\n",
      "[(-0.4154882, u'congressman'), (-0.4115872, u'businessman'), (-0.32975563, u'councilman'), (-0.2997815, u'dad'), (-0.21665451, u'statesman'), (-0.11345412, u'salesman'), (-0.073004864, u'monk'), (-0.072163954, u'handyman'), (-0.041478336, u'commander'), (-0.04051176, u'minister'), (-0.037369348, u'skipper'), (-0.036916208, u'commissioner'), (-0.03343007, u'observer'), (-0.032828867, u'manager'), (-0.032105114, u'firebrand'), (-0.031202465, u'surgeon'), (-0.03115207, u'citizen'), (-0.031070886, u'archbishop'), (-0.029434491, u'bishop'), (-0.02937157, u'captain')]\n"
     ]
    }
   ],
   "source": [
    "# check again for gender bias in professions after debiasing\n",
    "gender_debiased_projection_score = sorted([(E.v(w).dot(gender_direction), w) for w in professions])\n",
    "\n",
    "print('Extreme she occupations')\n",
    "print(gender_debiased_projection_score[-20:])\n",
    "\n",
    "print('\\n\\nExtreme he occupations')\n",
    "print(gender_debiased_projection_score[0:20])"
   ]
  },
  {
   "cell_type": "markdown",
   "metadata": {},
   "source": [
    "### verify debias by word projection on x axis"
   ]
  },
  {
   "cell_type": "code",
   "execution_count": null,
   "metadata": {},
   "outputs": [],
   "source": [
    "# plot created using R \n",
    "# export \"gender_debiased_projection_score\" as file\n",
    "\n",
    "# library(ggplot2)\n",
    "# library(ggrepel)\n",
    "\n",
    "# small_set <- read.table(\"~/Documents/berkeley/W266/w266-2018-summer-final-biased-word-embeddings/data/gender_profession_subset-5.3.txt\", header = F, stringsAsFactors = F)\n",
    "# gender_debiased_projection_score <- read.csv(\"~/Documents/berkeley/W266/w266-2018-summer-final-biased-word-embeddings/data/gender_debiased_projection_score-5.3.txt\", header = F)\n",
    "# gender_debiased_projection_score <- subset(gender_debiased_projection_score, V2 %in% small_set$V1)\n",
    "# png('~/Documents/berkeley/W266/w266-2018-summer-final-biased-word-embeddings/r-plots/gender_debiased_projection_score-5.3.png', units=\"in\", width=4, height=2.6, res=500)\n",
    "# ggplot(data = gender_debiased_projection_score, aes(x = V1, y = 0)) +\n",
    "#   geom_vline(xintercept = 0, size=0.2, linetype = \"dashed\", colour = \"red\") +\n",
    "#   # geom_hline(yintercept = 0, size=0.1, colour = \"grey\") +\n",
    "#   geom_text_repel(aes(label = V2), direction = \"y\", size=1.5,\n",
    "#                   box.padding = unit(0.1, \"lines\"),\n",
    "#                   color = \"black\", segment.alpha=0) +\n",
    "#   theme_bw() +\n",
    "#   theme(axis.title.y=element_blank(),\n",
    "#         axis.text.y=element_blank(),\n",
    "#         axis.ticks.y=element_blank(),\n",
    "#         axis.title.x=element_blank(),\n",
    "#         axis.text.x=element_blank(),\n",
    "#         axis.ticks.x=element_blank(),\n",
    "#         panel.grid.major = element_blank(),\n",
    "#         panel.grid.minor = element_blank(),\n",
    "#         panel.border = element_blank(),\n",
    "#         panel.background = element_blank(),\n",
    "#         legend.position=\"none\"\n",
    "#   )\n",
    "# dev.off()   \n"
   ]
  },
  {
   "cell_type": "markdown",
   "metadata": {},
   "source": [
    "![caption](./r-plots/gender_debiased_projection_score-5.3.png)"
   ]
  },
  {
   "cell_type": "markdown",
   "metadata": {},
   "source": [
    "## Politics debias using Jenni's embeddings"
   ]
  },
  {
   "cell_type": "code",
   "execution_count": 125,
   "metadata": {
    "scrolled": true
   },
   "outputs": [
    {
     "name": "stdout",
     "output_type": "stream",
     "text": [
      "*** Reading data from ./embeddings/article_embed.txt\n",
      "(462643, 50)\n",
      "462643 words of dimension 50 : the, to, of, and, ..., sadaoui, craythorn, calcraft, coventon\n",
      "462643 words of dimension 50 : the, to, of, and, ..., sadaoui, craythorn, calcraft, coventon\n"
     ]
    }
   ],
   "source": [
    "E2 = WordEmbedding(\"./embeddings/article_embed.txt\")"
   ]
  },
  {
   "cell_type": "code",
   "execution_count": 232,
   "metadata": {},
   "outputs": [
    {
     "name": "stdout",
     "output_type": "stream",
     "text": [
      "Computing neighbors\n",
      "Mean: 1368.8884\n",
      "Median: 609.0\n"
     ]
    }
   ],
   "source": [
    "# \"democrats-republicans on Jenni's embeddings\n",
    "politics_direction = E2.diff(\"democrats\", \"republicans\")\n",
    "\n",
    "# appendix A: generating analogies\n",
    "politics_analogies = E2.best_analogies_dist_thresh(politics_direction)"
   ]
  },
  {
   "cell_type": "code",
   "execution_count": 16,
   "metadata": {},
   "outputs": [
    {
     "ename": "NameError",
     "evalue": "name 'politics_analogies' is not defined",
     "output_type": "error",
     "traceback": [
      "\u001b[0;31m---------------------------------------------------------------------------\u001b[0m",
      "\u001b[0;31mNameError\u001b[0m                                 Traceback (most recent call last)",
      "\u001b[0;32m<ipython-input-16-986cb9e4505f>\u001b[0m in \u001b[0;36m<module>\u001b[0;34m()\u001b[0m\n\u001b[1;32m      1\u001b[0m \u001b[0;31m# print gender analogies\u001b[0m\u001b[0;34m\u001b[0m\u001b[0;34m\u001b[0m\u001b[0m\n\u001b[0;32m----> 2\u001b[0;31m \u001b[0;32mfor\u001b[0m \u001b[0;34m(\u001b[0m\u001b[0ma\u001b[0m\u001b[0;34m,\u001b[0m\u001b[0mb\u001b[0m\u001b[0;34m,\u001b[0m\u001b[0mc\u001b[0m\u001b[0;34m)\u001b[0m \u001b[0;32min\u001b[0m \u001b[0mpolitics_analogies\u001b[0m\u001b[0;34m[\u001b[0m\u001b[0;34m:\u001b[0m\u001b[0;36m20\u001b[0m\u001b[0;34m]\u001b[0m\u001b[0;34m:\u001b[0m\u001b[0;34m\u001b[0m\u001b[0m\n\u001b[0m\u001b[1;32m      3\u001b[0m     \u001b[0;32mprint\u001b[0m\u001b[0;34m(\u001b[0m\u001b[0ma\u001b[0m\u001b[0;34m+\u001b[0m\u001b[0;34m'-'\u001b[0m\u001b[0;34m+\u001b[0m\u001b[0mb\u001b[0m\u001b[0;34m)\u001b[0m\u001b[0;34m\u001b[0m\u001b[0m\n",
      "\u001b[0;31mNameError\u001b[0m: name 'politics_analogies' is not defined"
     ]
    }
   ],
   "source": [
    "# print gender analogies\n",
    "for (a,b,c) in politics_analogies:\n",
    "    print(a+'-'+b)"
   ]
  },
  {
   "cell_type": "code",
   "execution_count": 249,
   "metadata": {},
   "outputs": [],
   "source": [
    "# load professions file for Jenni's embeddings\n",
    "with open(\"./data/professions_jenni.json\", 'r') as f:\n",
    "    professions_j = json.load(f)"
   ]
  },
  {
   "cell_type": "code",
   "execution_count": 270,
   "metadata": {},
   "outputs": [
    {
     "name": "stdout",
     "output_type": "stream",
     "text": [
      "Extreme democrats occupations\n",
      "[(3.8567123e-08, u'archaeologist'), (3.9319275e-08, u'warrior'), (3.9552106e-08, u'protagonist'), (4.0483428e-08, u'banker'), (4.2375177e-08, u'editor'), (4.2869942e-08, u'artist'), (4.3510227e-08, u'broadcaster'), (4.4736225e-08, u'writer'), (4.485446e-08, u'filmmaker'), (4.5110937e-08, u'manager'), (4.5454726e-08, u'swimmer'), (4.991307e-08, u'vocalist'), (5.2531504e-08, u'composer'), (6.4428605e-08, u'economist'), (0.35618472, u'firebrand'), (0.36872655, u'adventurer'), (0.38532493, u'pollster'), (0.40796793, u'pundit'), (0.41396058, u'journalist'), (0.44235626, u'cartoonist')]\n",
      "\n",
      "\n",
      "Extreme republicans occupations\n",
      "[(-0.43503612, u'preacher'), (-0.43494287, u'commentator'), (-0.43112683, u'sociologist'), (-0.42421684, u'cameraman'), (-0.39868182, u'parliamentarian'), (-0.32313955, u'crusader'), (-0.24420993, u'playwright'), (-6.998016e-08, u'advocate'), (-3.5915946e-08, u'magistrate'), (-3.279456e-08, u'landlord'), (-3.1199306e-08, u'paralegal'), (-3.0646333e-08, u'neurologist'), (-3.0297088e-08, u'pediatrician'), (-3.025343e-08, u'nurse'), (-2.9831426e-08, u'pharmacist'), (-2.9674993e-08, u'mediator'), (-2.9605872e-08, u'physician'), (-2.8987415e-08, u'clerk'), (-2.7561327e-08, u'senator'), (-2.743036e-08, u'therapist')]\n"
     ]
    }
   ],
   "source": [
    "political_bias_projection_score = sorted([(E2.v(w).dot(politics_direction), w) for w in professions_j])\n",
    "\n",
    "print('Extreme democrats occupations')\n",
    "print(political_bias_projection_score[-20:])\n",
    "\n",
    "print('\\n\\nExtreme republicans occupations')\n",
    "print(political_bias_projection_score[0:20])"
   ]
  },
  {
   "cell_type": "markdown",
   "metadata": {},
   "source": [
    "### 5.2 direct bias"
   ]
  },
  {
   "cell_type": "code",
   "execution_count": 10,
   "metadata": {},
   "outputs": [],
   "source": [
    "# direct bias\n",
    "with open('./data/definitional_pairs_jenni.json', \"r\") as f:\n",
    "    definitional_j = json.load(f)"
   ]
  },
  {
   "cell_type": "code",
   "execution_count": 273,
   "metadata": {},
   "outputs": [],
   "source": [
    "vector_differences_j = []\n",
    "for a, b in definitional_j:\n",
    "    center = (E2.v(a) + E2.v(b))/2\n",
    "    vector_differences_j.append(E2.v(a) - center)\n",
    "    vector_differences_j.append(E2.v(b) - center)\n",
    "vector_differences_j = np.array(vector_differences_j)"
   ]
  },
  {
   "cell_type": "code",
   "execution_count": 274,
   "metadata": {},
   "outputs": [],
   "source": [
    "pca_j = PCA(n_components=10)\n",
    "result_j = pca_j.fit_transform(vector_differences_j)"
   ]
  },
  {
   "cell_type": "code",
   "execution_count": 275,
   "metadata": {},
   "outputs": [
    {
     "data": {
      "text/plain": [
       "<BarContainer object of 10 artists>"
      ]
     },
     "execution_count": 275,
     "metadata": {},
     "output_type": "execute_result"
    },
    {
     "data": {
      "image/png": "[encoded data removed]",
      "text/plain": [
       "<Figure size 432x288 with 1 Axes>"
      ]
     },
     "metadata": {},
     "output_type": "display_data"
    }
   ],
   "source": [
    "plt.bar(range(result_j.shape[1]),pca_j.explained_variance_ratio_)"
   ]
  },
  {
   "cell_type": "markdown",
   "metadata": {},
   "source": [
    "### 5.3 indirect bias"
   ]
  },
  {
   "cell_type": "code",
   "execution_count": null,
   "metadata": {},
   "outputs": [],
   "source": [
    "# plot created using R \n",
    "# export \"political_bias_projection_score\" as file\n",
    "\n",
    "# library(ggplot2)\n",
    "# library(ggrepel)\n",
    "\n",
    "# political_bias_projection_score <- read.csv(\"~/Documents/berkeley/W266/w266-2018-summer-final-biased-word-embeddings/data/political_bias_projection_score-5.3.txt\", header = F)\n",
    "# png('~/Documents/berkeley/W266/w266-2018-summer-final-biased-word-embeddings/r-plots/political_bias_projection_score-5.3.png', units=\"in\", width=6, height=5, res=500)\n",
    "# ggplot(data = political_bias_projection_score, aes(x = V1, y = 0)) +\n",
    "#   geom_vline(xintercept = 0, size=0.2, linetype = \"dashed\", colour = \"red\") +\n",
    "#   geom_hline(yintercept = 0, size=0.1, colour = \"grey\") +\n",
    "#   geom_text_repel(aes(label = V2), direction = \"y\", size=1.5,\n",
    "#                   box.padding = unit(0.1, \"lines\"),\n",
    "#                   color = \"black\", segment.alpha=0) +\n",
    "#   theme_bw() +\n",
    "#   theme(axis.title.y=element_blank(),\n",
    "#         axis.text.y=element_blank(),\n",
    "#         axis.ticks.y=element_blank(),\n",
    "#         axis.title.x=element_blank(),\n",
    "#         axis.text.x=element_blank(),\n",
    "#         axis.ticks.x=element_blank(),\n",
    "#         panel.grid.major = element_blank(),\n",
    "#         panel.grid.minor = element_blank(),\n",
    "#         panel.border = element_blank(),\n",
    "#         panel.background = element_blank(),\n",
    "#         legend.position=\"none\"\n",
    "#   )\n",
    "# dev.off()  \n"
   ]
  },
  {
   "cell_type": "code",
   "execution_count": null,
   "metadata": {},
   "outputs": [],
   "source": []
  }
 ],
 "metadata": {
  "kernelspec": {
   "display_name": "Python 2",
   "language": "python",
   "name": "python2"
  },
  "language_info": {
   "codemirror_mode": {
    "name": "ipython",
    "version": 2
   },
   "file_extension": ".py",
   "mimetype": "text/x-python",
   "name": "python",
   "nbconvert_exporter": "python",
   "pygments_lexer": "ipython2",
   "version": "2.7.15"
  }
 },
 "nbformat": 4,
 "nbformat_minor": 2
}
