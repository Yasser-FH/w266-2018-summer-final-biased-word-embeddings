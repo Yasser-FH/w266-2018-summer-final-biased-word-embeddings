{
 "cells": [
  {
   "cell_type": "code",
   "execution_count": 67,
   "metadata": {},
   "outputs": [],
   "source": [
    "from w266_common import utils\n",
    "import unittest\n",
    "import csv\n",
    "import pandas as pd\n",
    "from nltk.corpus import stopwords \n",
    "from nltk import tokenize\n",
    "import nltk\n",
    "from gensim.models import Word2Vec\n",
    "import re\n",
    "import datetime"
   ]
  },
  {
   "cell_type": "code",
   "execution_count": 4,
   "metadata": {},
   "outputs": [
    {
     "name": "stdout",
     "output_type": "stream",
     "text": [
      "['', '/Users/jenniferpodracky/anaconda3/lib/python36.zip', '/Users/jenniferpodracky/anaconda3/lib/python3.6', '/Users/jenniferpodracky/anaconda3/lib/python3.6/lib-dynload', '/Users/jenniferpodracky/anaconda3/lib/python3.6/site-packages', '/Users/jenniferpodracky/anaconda3/lib/python3.6/site-packages/aeosa', '/Users/jenniferpodracky/anaconda3/lib/python3.6/site-packages/IPython/extensions', '/Users/jenniferpodracky/.ipython']\n"
     ]
    }
   ],
   "source": [
    "import sys\n",
    "print(sys.path)"
   ]
  },
  {
   "cell_type": "code",
   "execution_count": 7,
   "metadata": {},
   "outputs": [],
   "source": []
  },
  {
   "cell_type": "code",
   "execution_count": 9,
   "metadata": {},
   "outputs": [],
   "source": [
    "articles = pd.read_csv(\"./data/2018_articles.csv\")"
   ]
  },
  {
   "cell_type": "code",
   "execution_count": 10,
   "metadata": {},
   "outputs": [
    {
     "data": {
      "text/html": [
       "<div>\n",
       "<style scoped>\n",
       "    .dataframe tbody tr th:only-of-type {\n",
       "        vertical-align: middle;\n",
       "    }\n",
       "\n",
       "    .dataframe tbody tr th {\n",
       "        vertical-align: top;\n",
       "    }\n",
       "\n",
       "    .dataframe thead th {\n",
       "        text-align: right;\n",
       "    }\n",
       "</style>\n",
       "<table border=\"1\" class=\"dataframe\">\n",
       "  <thead>\n",
       "    <tr style=\"text-align: right;\">\n",
       "      <th></th>\n",
       "      <th>source</th>\n",
       "      <th>article</th>\n",
       "    </tr>\n",
       "  </thead>\n",
       "  <tbody>\n",
       "    <tr>\n",
       "      <th>0</th>\n",
       "      <td>The Washington Post</td>\n",
       "      <td>{comment_count=0, correction_html=, keywords=[...</td>\n",
       "    </tr>\n",
       "    <tr>\n",
       "      <th>1</th>\n",
       "      <td>The Washington Post</td>\n",
       "      <td>{comment_count=null, correction_html=, keyword...</td>\n",
       "    </tr>\n",
       "    <tr>\n",
       "      <th>2</th>\n",
       "      <td>The Washington Post</td>\n",
       "      <td>\\n\\nCornell University buildings viewed from M...</td>\n",
       "    </tr>\n",
       "    <tr>\n",
       "      <th>3</th>\n",
       "      <td>El País</td>\n",
       "      <td>Al menos dos personas murieron ayer viernes en...</td>\n",
       "    </tr>\n",
       "    <tr>\n",
       "      <th>4</th>\n",
       "      <td>Financial Planning</td>\n",
       "      <td>More and more financial advisors are doing som...</td>\n",
       "    </tr>\n",
       "  </tbody>\n",
       "</table>\n",
       "</div>"
      ],
      "text/plain": [
       "                source                                            article\n",
       "0  The Washington Post  {comment_count=0, correction_html=, keywords=[...\n",
       "1  The Washington Post  {comment_count=null, correction_html=, keyword...\n",
       "2  The Washington Post  \\n\\nCornell University buildings viewed from M...\n",
       "3              El País  Al menos dos personas murieron ayer viernes en...\n",
       "4   Financial Planning  More and more financial advisors are doing som..."
      ]
     },
     "execution_count": 10,
     "metadata": {},
     "output_type": "execute_result"
    }
   ],
   "source": [
    "articles.head(5)"
   ]
  },
  {
   "cell_type": "code",
   "execution_count": 11,
   "metadata": {},
   "outputs": [
    {
     "data": {
      "text/plain": [
       "(1158779, 2)"
      ]
     },
     "execution_count": 11,
     "metadata": {},
     "output_type": "execute_result"
    }
   ],
   "source": [
    "articles.shape"
   ]
  },
  {
   "cell_type": "code",
   "execution_count": 26,
   "metadata": {},
   "outputs": [
    {
     "data": {
      "text/plain": [
       "'{comment_count=0, correction_html=, keywords=[benjamin netanyahu, u.n, african, israeli, African migrants in Israel, israel illegal migrants, israel africa, netanyahu flip-flop, netanyahu reversal], web_headline=Netanyahu’s reversal on migrant resettlement plan suggests elections are near, deck=, site_service={parent=/world, in_the_news={in_the_news_usefeature=sitewide, in_the_news_usebasepage=/in-the-news-forsections/, in_the_news_usesectionbar=true}, social={archives=null, twitter=https://twitter.com/postworldnews, rss=http://feeds.washingtonpost.com/rss/world/middle-east, facebook=https://www.facebook.com/washingtonpostworld}, site_topper={social_link_display_order=null, display_social_links=null, custom_links_highlight=null, site_logo_image=null, custom_links=[WorldViews^http://www.washingtonpost.com/blogs/worldviews/, Africa^http://www.washingtonpost.com/world/africa/, Americas^http://www.washingtonpost.com/world/americas/, Asia^http://www.washingtonpost.com/world/asia-pacific/, Europe^http://www.washingtonpost.com/world/europe/, National Security^http://www.washingtonpost.com/world/national-security/, Foreign Correspondents^http://www.washingtonpost.com/news/world/washington-post-foreign-correspondents/], site_background_image=null}, site={pagebuilder_path_for_native_apps=/world/middle-east/, site_url=http://www.washingtonpost.com/world/middle-east/, site_keywords=Middle East News,Middle East News Information,News in Middle East,Middle East Washington Post,middle eastern news,iraq news,iran news,israel news,lebanon news,kuwait news,syria news,saudi arabia news,jordan news, site_about=null, site_description=The Washington Post provides the latest information and analysis of breaking Middle East news stories. Includes news coverage on Iraq, Israel, Lebanon, Iran, Kuwait, Syria, Saudi Arabia and Jordan., site_theme=normal, site_title=Middle East, site_tagline=null}, navigation={nav_title=Middle East, display_in_top_strip=false, nav_display=true}, _admin={tracking_node=/world/middle_east, alias_ids=[/world/middle-east, /world/middle_east], commercial_node=/world/middle_east, default_content=/WashingtonPost/Production/Digital/Queries/site-service/world/middle-east-stream}, inactive=false, name=Middle East, story_list={display_social_share_buttons=null, social_share_buttons=null, story_list_content={}}, _id=/world/middle-east, ancestors=[/world], order=2005}, source=The Washington Post, taxonomy={keywords=[benjamin netanyahu, u.n, african, israeli, African migrants in Israel, israel illegal migrants, israel africa, netanyahu flip-flop, netanyahu reversal], categories=null, custom_taxonomy=null, tags=[]}, type=article, uuid=a02d994a-380e-11e8-af3c-2123715f78df, primary_slot={organization=For The Washington Post, name=Corinna Kern, resize_base=https://img.washingtonpost.com/rf/, caption=A security guard gestures for African asylum seekers to wait in line to renew their visas at the Population and Immigration Authority office in Bnei Brak, Israel, on Feb. 28, 2018. Most refugees need to renew their visas every two months., photo_url=https://img.washingtonpost.com/rw/2010-2019/WashingtonPost/2018/04/04/Foreign/Images/CK_Asylum_Seekers_203.jpg?uuid=Z1eC2jgSEeivPCEjcV943w, id=b9150554519e6f8cb2c2301222f3b450368ca5ab, type=photo, caption_line=A security guard gestures for African asylum seekers to wait in line to renew their visas at the Population and Immigration Authority office in Bnei Brak, Israel, on Feb. 28, 2018. Most refugees need to renew their visas every two months. (Corinna Kern/For The Washington Post), graphic_type=null, photo_path=/2010-2019/WashingtonPost/2018/04/04/Foreign/Images/CK_Asylum_Seekers_203.jpg?uuid=Z1eC2jgSEeivPCEjcV943w}, tracking={ugc={default_sort=, comments_source=washpost.com, moderation_required=false, allow_comments=true, storytools_id=, is_ugc_gallery=false, display_comments=true, allow_photos=false, default_tab=, max_items_to_display_top=3, allow_videos=false, storytools_name=, stream_id=, max_items_to_display=15, comments_period=14, storytools=none}, in_url_headline=netanyahus-reversal-on-migrant-resettlement-plan-suggests-elections-are-near, content_category=Foreign, show_comments=true, section={subsection=middle_east, section=world}, show_ads=true, authors=Ruth Eglash}, commentConfig={includereport=true, canvas_permalink_id=washpost.com/8bvh5zpd9k, markerdisplay=post_commenter:Post Commenter|staff:Post Writer|top_commenter:Post Forum|top_local:Washingtologist|top_sports:SuperFan|fact_checker:Fact Checker|post_recommended:Post Recommended|world_watcher:World Watcher|cultuer_connoisseur:Culture Connoisseur|weather_watcher:Capital Weather Watcher|post_contributor:Post Contributor, defaulttab=all, includerecommend=true, source=washpost.com, canvas_allcomments_app_instance=6634zxcgfd, includereply=true, includesorts=true, includevoteofftopic=false, moderationrequired=false, includeverifiedcommenters=true, canvas_permalink_app_instance=m6yzjj840m, comments_period=14, commentmaxlength=2000, defaultsort=reverseChronological, canvas_allcomments_id=washpost.com/km4ey0dajm, allow_comments=true, includeshare=true, display_comments=true, allow_photos=false, allow_videos=false, display_ugc_photos=false, childrenitemsperpage=3, includeheader=true, display_more=true, includefeaturenotification=false, maxitemstop=3, storytools=none, maxitems=5, includepermalink=false, includepause=true}, short_url=https://wapo.st/2GyvHyq, path=https://www.washingtonpost.com/world/middle_east/netanyahus-reversal-on-migrant-resettlement-plan-suggests-elections-are-near/2018/04/04/a02d994a-380e-11e8-af3c-2123715f78df_story.html, display_summary={date=1522865913, blurb=The Israeli leader, already under pressure over corruption scandals, faced political and social media uproar over the short-lived agreement., headline=Netanyahu’s reversal on migrant resettlement plan suggests elections are near}, editors_picks=null, html=<article class=\"paywall\" itemprop=\"articleBody\"> <p> <span class=\"dateline\">JERUSALEM —</span> Prime Minister Benjamin <a href=\"https://www.washingtonpost.com/world/middle_east/netanyahu-scraps-un-deal-to-resettle-african-asylum-seekers/2018/04/03/bf613bf4-3738-11e8-acd5-35eac230e514_story.html?utm_term=.f4c6eae91297\" shape=\"rect\" title=\"www.washingtonpost.com\">Netanyahu’s decision to scrap</a> a resettlement plan for 38,000 African migrants living illegally in Israel just hours after announcing it underscores his increasingly precarious position in domestic politics. </p> <p>Netanyahu said he arrived at this decision after reviewing the “pros and cons” of what he had initially called an “unprecedented understanding” with the United Nations to deport half the migrants to Western countries and resettle the rest in Israel.</p> <p>Analysts and media commentators said, however, that <a href=\"https://www.washingtonpost.com/world/israel-says-it-has-reached-unprecedented-deal-to-resettle-african-migrants-in-the-west/2018/04/02/caf86280-367a-11e8-af3c-2123715f78df_story.html?utm_term=.ae2ce480d7c4\" shape=\"rect\" title=\"www.washingtonpost.com\">Netanyahu clearly capitulated</a>to political and social media pressure. The reversal also serves as another strong indicator that a general election might be near. </p> <p>Netanyahu has another year and a half in office, but far-reaching <a href=\"https://www.washingtonpost.com/world/israeli-police-question-netanyahu-in-third-corruption-case/2018/03/02/949525f8-1e14-11e8-ae5a-16e60e4605f3_story.html?utm_term=.15bc3f4554fc\" shape=\"rect\" title=\"www.washingtonpost.com\">police investigations</a> involving allegations of breach of trust and bribery against the long-serving Israeli leader have seriously weakened his position at the head of a six-party nationalistic coalition, further increasing the possibility of a snap election.</p> <p channel=\"wp.com\" class=\"interstitial-link\"> <a href=\"https://www.washingtonpost.com/news/world/wp/2018/03/05/feature/african-migrants-facing-deportation-in-israel/?utm_term=.6283f6156396\" shape=\"rect\" title=\"www.washingtonpost.com\"> <i>[Raised and schooled in Israel, these young Africans could be sent back to a country they do not know]</i> </a> </p><div></div> <p>Last month, the government appeared close to a breakdown over a disagreement on the long-running issue of ultra-Orthodox Jews serving in the military. </p> <p>That same sense of uncertainty is manifest now as Israel weighs the future of the African migrants in its midst. </p> <p>“The government is moving from crisis to crisis, and it will collapse. The question is just when,” said Reuven Hazan, a professor of political science at Hebrew University in Jerusalem. He suggested that it could be as soon as this summer or early next year. </p> <p>In the meantime, Hazan said, “everyone is looking for issues that will solidify their support base and is avoiding those that might anger their base.” </p> <p>The issue of the African migrants — who entered illegally via Egypt, some more than a decade ago — is a particularly fraught one. Most come from Eritrea and Sudan. They say they are asylum seekers, escaping human rights abuses and war in their native lands. The Israeli government calls them “infiltrators,” job seekers looking for a better life.</p> <p>Israel is a party to international treaties that prevent the repatriation of Eritrean and Sudanese migrants, who make up the bulk of the asylum seekers in the country. And, in recent weeks, a high court ruling appeared to scuttle an Israeli government plan to deport tens of thousands to a third African country, either Rwanda or Uganda. Both countries have denied agreeing to such a plan. </p> <p channel=\"wp.com\" class=\"interstitial-link\"> <a href=\"https://www.washingtonpost.com/news/worldviews/wp/2018/02/07/refugees-or-illegal-migrants-israels-plan-is-to-deport-them-by-force/?utm_term=.82e739598f7f\" shape=\"rect\" title=\"www.washingtonpost.com\"> <i>[Q&A with Israel’s interior minister: Plan to deport thousands of Africans is not about race]</i> </a> </p><div></div> <p>In a Facebook post on Monday, Netanyahu presented the short-lived resettlement agreement with the U.N. refu\\xadgee agency as an alternative to that plan. “I needed to get a new deal and it’s even better,” he said. </p> <p>Almost immediately, his coalition partners attacked. Education Minister Naftali Bennett, head of the Jewish Home party, tweeted that allowing 16,000 people to stay would “turn Israel into a paradise for infiltrators” and put the government’s credibility “on the line.” </p> <p>Then members of Netanyahu’s own Likud party spoke out. Culture Minister Miri Regev said she was “very concerned about what appears to be a speedy concession of the fundamental principles of the government’s policy on migration,” local media reported. </p> <p>Gideon Saar, a former minister and powerful rival of Netanyahu, called the deal a “mistake.”</p> <p>“It was just not consistent with the immigration policy of the last three governments,” Saar said. “The natural thing was to withdraw from this agreement, and I am happy Netanyahu did because the damage would have been irreversible.” </p> <p>But it was perhaps the thousands of comments and angry responses on social media that pushed the prime minister to reconsider his stance. Within hours of his Facebook post, Netanyahu scrapped the deal. </p> <p>“We cannot diminish social networking,” Hazan said. “Netanyahu does not tweet as much as [President] Trump, but he does put up videos on Facebook all the time, and he faced an onslaught.” </p> <p>“The question is why was Netanyahu so worried about criticism of the deal?” said Shmuel Sandler, a lecturer of political science at Bar Illan University in Tel Aviv. “If elections were two years from now, then he might have pushed it through. But if he is thinking of elections this summer, then he needs these people.” </p> <p channel=\"wp.com\" class=\"interstitial-link\"> <b>Read more</b> </p> <p channel=\"wp.com\" class=\"interstitial-link\"> <a href=\"https://www.washingtonpost.com/news/world/wp/2018/03/05/feature/african-migrants-facing-deportation-in-israel/?utm_term=.ea4531a7653b\" target=\"_self\">The future of Israel’s ‘dreamers’</a> </p> <p channel=\"wp.com\" class=\"interstitial-link\"> <a href=\"https://www.washingtonpost.com/world/middle_east/netanyahu-scraps-un-deal-to-resettle-african-asylum-seekers/2018/04/03/bf613bf4-3738-11e8-acd5-35eac230e514_story.html?utm_term=.953faa71ccf7\" target=\"_self\">Netanyahu scraps U.N. deal to resettle African asylum seekers</a> </p> <p channel=\"wp.com\" class=\"interstitial-link\"> <a href=\"http://www.washingtonpost.com/world\">Today’s coverage from Post correspondents around the world</a> </p> <p channel=\"wp.com\" class=\"interstitial-link\"> <a href=\"https://www.facebook.com/washingtonpostworld/\">Like Washington Post World on Facebook and stay updated on foreign news</a> </p> </article>, last_modified=1522867359, slug=israelmigrants0405, site_service_lookup=/world/middle_east, created_date_num=1522849610, thumbnail={aspect_ratio=1.5, featured={aspect_ratio=1.5, credit_line=Corinna Kern / FTWP, credit_organization=FTWP, raw_caption=TEL AVIV, ISRAEL - FEBRUARY 28, 2018: An Israeli security guard gestures for African asylum seekers to wait in line in order to renew their visas at the Population and Immigration Authority office in Bnei Brak, Israel, February 28, 2018. Most refugees need to renew their visas every two months. Many of them now face risk of deportation, according to the Israeli government\\'s policy to deport African migrants to third countries like Uganda or Rwanda. (Photo by Corinna Kern/For The Washington Post), credit_name=Corinna Kern, width=6720, caption=, credit=null, url=https://img.washingtonpost.com/rw/2010-2019/WashingtonPost/2018/04/04/Foreign/Images/CK_Asylum_Seekers_203.jpg, height=4480}, credit_line=Corinna Kern / FTWP, credit_organization=FTWP, raw_caption=TEL AVIV, ISRAEL - FEBRUARY 28, 2018: An Israeli security guard gestures for African asylum seekers to wait in line in order to renew their visas at the Population and Immigration Authority office in Bnei Brak, Israel, February 28, 2018. Most refugees need to renew their visas every two months. Many of them now face risk of deportation, according to the Israeli government\\'s policy to deport African migrants to third countries like Uganda or Rwanda. (Photo by Corinna Kern/For The Washington Post), credit_name=Corinna Kern, width=6720, caption=, credit=null, url=https://img.washingtonpost.com/rw/2010-2019/WashingtonPost/2018/04/04/Foreign/Images/CK_Asylum_Seekers_203.jpg, height=4480}, tertiary_slot=null, meta_title=Netanyahu’s reversal on migrants further increases the possibility of snap election, include_in_site_search=true, published_date_num=1522865913, comment_count_fuzzy=null, canonical_url=https://www.washingtonpost.com/world/middle_east/netanyahus-reversal-on-migrant-resettlement-plan-suggests-elections-are-near/2018/04/04/a02d994a-380e-11e8-af3c-2123715f78df_story.html, mobile_headline=Netanyahu’s reversal on migrant resettlement plan suggests elections are near, web_sked={datetime_updated=0, images=[], will_have_graphic=false, description=, videos=[], graphics=[], reported_datetime=1522857600, will_have_video=false, killed=false, has_video=false, datetime=1522865913, stub_only=false, has_image=false, tbd=false, will_have_image=false, print_only=false, exclude=false, has_gallery=false, galleries=[], will_have_gallery=false, has_graphic=false}, html_data={img_count=0, graf_count=25, char_count=4678}, tags=[], _service_=com.washingtonpost.webapps.pagebuilder.services.ArticleContentService, social_headline=Netanyahu’s reversal on migrant resettlement plan suggests elections are near, display_date=1522865913, meta={review_info={decibels=, phone_no=, website=, movie_runtime=, movie_contains=, price=none, review_flavor=RESTAURANT, operating_hours=, critic_ratings=, decibel_descriptor=, editor_picks=, mpaa_rating=1}}, _id=http://www.washingtonpost.com/world/middle_east/netanyahus-reversal-on-migrant-resettlement-plan-suggests-elections-are-near/2018/04/04/a02d994a-380e-11e8-af3c-2123715f78df_story.html, publication_start=null, redirect_url=null, primary_slot_as_full_width_html=<div class=\"inline-content inline-photo inline-photo-normal\"> <a name=\"b9150554519e6f8cb2c2301222f3b450368ca5ab\"></a> <img class=\"unprocessed placeholder\" src=\"https://img.washingtonpost.com/rf/image_60w/2010-2019/WashingtonPost/2018/04/04/Foreign/Images/CK_Asylum_Seekers_203.jpg?uuid=Z1eC2jgSEeivPCEjcV943w\" data-hi-res-src=\"https://img.washingtonpost.com/rf/image_1484w/2010-2019/WashingtonPost/2018/04/04/Foreign/Images/CK_Asylum_Seekers_203.jpg?uuid=Z1eC2jgSEeivPCEjcV943w\" data-low-res-src=\"https://img.washingtonpost.com/rf/image_480w/2010-2019/WashingtonPost/2018/04/04/Foreign/Images/CK_Asylum_Seekers_203.jpg?uuid=Z1eC2jgSEeivPCEjcV943w\" data-raw-src=\"https://img.washingtonpost.com/rw/2010-2019/WashingtonPost/2018/04/04/Foreign/Images/CK_Asylum_Seekers_203.jpg?uuid=Z1eC2jgSEeivPCEjcV943w\" ><br/> <span class=\"pb-caption\">A security guard gestures for African asylum seekers to wait in line to renew their visas at the Population and Immigration Authority office in Bnei Brak, Israel, on Feb. 28, 2018. Most refugees need to renew their visas every two months. (Corinna Kern/For The Washington Post)</span> </div>, status={color=ff9428, name=Unknown, cms=Methode, raw=WPStories/MPEditNow, slug=unknown}, last_modified_num=1522867359, site_node=/world/middle_east, title=Netanyahu’s reversal on migrant resettlement plan suggests elections are near, story_type=null, display_date_num=1522865913, site_service_id=deprecated, object_hash=1523464003, secondary_slot=null, sub_type=null, creator_by_item_role={By=[{lastName=Eglash, role=Correspondent, education=[{name=Trinity and All Saints College, Leeds University, BA in history and media studies}], bio=Ruth Eglash is a correspondent for The Washington Post based in Jerusalem. She was formerly a reporter and senior editor at the Jerusalem Post and freelanced for international media., affiliations=Board member, Foreign Press Association Israel & Palestine, instagram=reglash, expertise=Correspondent covering Israel and the Palestinian territories, twitter=@reglash, bio_page=https://www.washingtonpost.com/people/ruth-eglash/, byline=Ruth Eglash, email=ruth.eglash@washpost.com, slug=ruth-eglash, fuzzySearch=true, image=https://s3.amazonaws.com/arc-authors/washpost/bc903f2a-8582-4d92-ade4-a6e42c298050.png, last_updated=2018-04-04T14:07:42.606Z, longBio=Ruth Eglash has worked as a correspondent for The Washington Post in Israel and the West Bank since 2013. During that time, she has intensely covered the Israeli-Palestinian conflict, Israel’s elections and a wide range of other political and social topics. Originally from Britain, Eglash previously worked as a senior editor and reporter for the Jerusalem Post. Her main beat was social welfare issues, such as the immigration of Jews from Ethiopia, poverty and women’s rights in Israel. She was appointed the newspaper\\'s first social media editor in 2012. Eglash has also freelanced for numerous international websites, newspapers and magazines, including the Huffington Post, USA Today, Hadassah magazine and the Christian Science Monitor. In 2010, she won the United Nations X-Cultural Reporting Award for her joint reporting work with a Jordanian journalist., languages=Hebrew, facebook=https://www.facebook.com/reglash, firstName=Ruth, podcasts=[], books=[], awards=[{name=United Nations X-Cultural Reporting Award}], name=Ruth Eglash, location=Jerusalem, _id=EGLASHR0-V, in_byline=true, item_role=By}]}, _config_={path=http://www.washingtonpost.com/world/middle_east/netanyahus-reversal-on-migrant-resettlement-plan-suggests-elections-are-near/2018/04/04/a02d994a-380e-11e8-af3c-2123715f78df_story.html}, summary=The Israeli leader, already under pressure over corruption scandals, faced political and social media uproar over the short-lived agreement., tertiary_slot_as_full_width_html=, creator=[{lastName=Eglash, role=Correspondent, education=[{name=Trinity and All Saints College, Leeds University, BA in history and media studies}], bio=Ruth Eglash is a correspondent for The Washington Post based in Jerusalem. She was formerly a reporter and senior editor at the Jerusalem Post and freelanced for international media., affiliations=Board member, Foreign Press Association Israel & Palestine, instagram=reglash, expertise=Correspondent covering Israel and the Palestinian territories, twitter=@reglash, bio_page=https://www.washingtonpost.com/people/ruth-eglash/, byline=Ruth Eglash, email=ruth.eglash@washpost.com, slug=ruth-eglash, fuzzySearch=true, image=https://s3.amazonaws.com/arc-authors/washpost/bc903f2a-8582-4d92-ade4-a6e42c298050.png, last_updated=2018-04-04T14:07:42.606Z, longBio=Ruth Eglash has worked as a correspondent for The Washington Post in Israel and the West Bank since 2013. During that time, she has intensely covered the Israeli-Palestinian conflict, Israel’s elections and a wide range of other political and social topics. Originally from Britain, Eglash previously worked as a senior editor and reporter for the Jerusalem Post. Her main beat was social welfare issues, such as the immigration of Jews from Ethiopia, poverty and women’s rights in Israel. She was appointed the newspaper\\'s first social media editor in 2012. Eglash has also freelanced for numerous international websites, newspapers and magazines, including the Huffington Post, USA Today, Hadassah magazine and the Christian Science Monitor. In 2010, she won the United Nations X-Cultural Reporting Award for her joint reporting work with a Jordanian journalist., languages=Hebrew, facebook=https://www.facebook.com/reglash, firstName=Ruth, podcasts=[], books=[], awards=[{name=United Nations X-Cultural Reporting Award}], name=Ruth Eglash, location=Jerusalem, _id=EGLASHR0-V, in_byline=true, item_role=By}], publishing_status={name=Live, slug=live}, decoded_headline=Netanyahu’s reversal on migrant resettlement plan suggests elections are near, web_type=article_story, content_origin=methode, loid=null, uri=/2010-2019/WashingtonPost/2018/04/04/Foreign/Stories/israelmigrants0405.xml, url=http://www.washingtonpost.com/world/middle_east/netanyahus-reversal-on-migrant-resettlement-plan-suggests-elections-are-near/2018/04/04/a02d994a-380e-11e8-af3c-2123715f78df_story.html, primary_slot_html=<div class=\"inline-content inline-photo inline-photo-normal\"> <a name=\"b9150554519e6f8cb2c2301222f3b450368ca5ab\"></a> <img class=\"unprocessed placeholder\" src=\"https://img.washingtonpost.com/rf/image_60w/2010-2019/WashingtonPost/2018/04/04/Foreign/Images/CK_Asylum_Seekers_203.jpg?uuid=Z1eC2jgSEeivPCEjcV943w\" data-hi-res-src=\"https://img.washingtonpost.com/rf/image_1484w/2010-2019/WashingtonPost/2018/04/04/Foreign/Images/CK_Asylum_Seekers_203.jpg?uuid=Z1eC2jgSEeivPCEjcV943w\" data-low-res-src=\"https://img.washingtonpost.com/rf/image_480w/2010-2019/WashingtonPost/2018/04/04/Foreign/Images/CK_Asylum_Seekers_203.jpg?uuid=Z1eC2jgSEeivPCEjcV943w\" data-raw-src=\"https://img.washingtonpost.com/rw/2010-2019/WashingtonPost/2018/04/04/Foreign/Images/CK_Asylum_Seekers_203.jpg?uuid=Z1eC2jgSEeivPCEjcV943w\" ><br/> <span class=\"pb-caption\">A security guard gestures for African asylum seekers to wait in line to renew their visas at the Population and Immigration Authority office in Bnei Brak, Israel, on Feb. 28, 2018. Most refugees need to renew their visas every two months. (Corinna Kern/For The Washington Post)</span> </div>, secondary_slot_as_full_width_html=, created_date=1522849610, publication_end=null, published_date=1522865913, commercial_node=/world, kicker={name=Middle East, url=/world/middle-east}}'"
      ]
     },
     "execution_count": 26,
     "metadata": {},
     "output_type": "execute_result"
    }
   ],
   "source": [
    "articles.iloc[0]['article']"
   ]
  },
  {
   "cell_type": "code",
   "execution_count": 49,
   "metadata": {},
   "outputs": [
    {
     "name": "stdout",
     "output_type": "stream",
     "text": [
      "['More', 'and', 'more', 'financial', 'advisors', 'are', 'doing', 'something', 'they', 'don\\x92t', 'normally', 'do:', 'focus', 'on', 'the', 'past.']\n",
      "['As', 'planners', 'continue', 'to', 'join', 'the', 'niche', 'market', 'of', 'divorce', 'financial', 'planning,', 'many', 'find', 'that', 'new', 'clients', 'who', 'start', 'out', 'simply', 'seeking', 'their', 'help', 'in', 'navigating', 'a', 'divorce', 'end', 'up', 'transferring', 'significant', 'new', 'assets', 'into', 'the', 'practice', 'after', 'the', 'divorce', 'is', 'over.']\n",
      "['\\x93It\\x92s', 'not', 'a', 'traditional', 'prospecting', 'tool', 'but', 'it', 'is', 'a', 'prospecting', 'tool,\\x94', 'says', 'Justin', 'Reckers,', 'CEO', 'of', 'Pacific', 'Divorce', 'Management,', 'who', 'has', 'fully', 'embraced', 'the', 'niche', 'of', 'divorce', 'financial', 'planning.']\n",
      "['In', 'the', 'last', 'DGDG', 'months,', 'Reckers', 'has', 'gained', '$DGDG', 'million', 'in', 'new', 'assets', 'under', 'management', 'that', 'came', 'directly', 'from', 'clients', 'that', 'stuck', 'with', 'him', 'after', 'their', 'divorce.']\n",
      "['Most', 'of', 'these', 'new', 'clients', 'had', 'little', 'knowledge', 'of', 'their', 'finances', 'and', 'did', 'not', 'have', 'a', 'positive', 'relationship', 'with', 'their', 'previous', 'financial', 'advisor.']\n",
      "['Over', 'DGDG', 'percent', 'of', 'these', 'new', 'clients', 'are', 'women,', 'says', 'Reckers,', 'who', 'explains', 'that', 'most', 'men', 'already', 'have', 'a', 'relationship', 'with', 'the', 'couple\\x92s', 'financial', 'advisor', 'and', 'don\\x92t', 'seek', 'any', 'more', 'assistance', 'during', 'a', 'divorce.']\n",
      "['That\\x92s', 'why', 'women', 'are', 'more', 'likely', 'to', 'seek', 'outside', 'help', 'during', 'a', 'divorce,', 'and', 'why', 'they\\x92re', 'a', 'profitable', 'market', 'niche', 'after', 'the', 'divorce', 'is', 'final.']\n",
      "['Reckers', 'explains', 'what', 'advisors', 'need', 'to', 'know', 'if', 'they', 'want', 'to', 'keep', 'these', 'new', 'clients', 'after', 'the', 'divorce', 'is', 'finalized:', 'NEGOTIATION', 'SKILLS', 'Advisors', 'who', 'assist', 'one', 'party', 'in', 'a', 'divorce', 'require', 'a', 'deep', 'understanding', 'of', 'negotiation', 'tactics', 'and', 'skills', 'far', 'beyond', 'those', 'required', 'for', 'traditional', 'advising,', 'according', 'to', 'Reckers.']\n",
      "['This', 'is', 'because', 'there', 'is', 'a', 'third', 'party', '\\x96', 'the', 'other', 'spouse', '-', 'that', 'has', 'a', 'conflicting', 'agenda.']\n",
      "['\\x93We', 'are', 'with', 'our', 'clients', 'at', 'the', 'point', 'of', 'negotiating', 'the', 'largest', 'financial', 'transaction', 'of', 'their', 'lives,\\x94', 'he', 'says.']\n",
      "['\\x93It', 'is', 'critical', 'the', 'settlement', 'be', 'structured', 'correctly', 'and', 'negotiated', 'with', 'expert', 'guidance', 'or', 'clients', 'risk', 'not', 'getting', 'the', 'best', 'deal.\\x94', 'Planners', 'need', 'to', 'work', 'with', 'their', 'client\\x92s', 'divorce', 'lawyers', 'and', 'the', 'legal', 'representation', 'for', 'the', 'other', 'party', 'as', 'well,', 'says', 'Reckers.']\n",
      "['In', 'many', 'divorce', 'cases,', 'the', 'couple', 'chooses', 'to', 'work', 'toward', 'a', 'settlement', 'and', 'skips', 'the', 'courtroom', 'altogether.']\n",
      "['When', 'this', 'happens,', 'planners', 'must', 'bring', 'expert', 'negotiating', 'skills', 'to', 'the', 'table', 'their', 'client', 'might', 'end', 'up', 'with', 'a', 'significant', 'loss.']\n",
      "['For', 'instance,', 'Reckers', 'explains', 'that', 'if', 'his', 'client', 'doesn\\x92t', 'respond', 'to', 'an', 'initial', 'offer,', 'a', 'follow-up', 'offer', 'will', 'usually', 'come', 'shortly', 'afterward,', 'more', 'often', 'than', 'not', 'with', 'better', 'numbers', 'for', 'both', 'spouses,', 'he', 'says.']\n",
      "['Waiting', 'is', 'sometimes', 'the', 'best', 'negotiating', 'tool.']\n",
      "['DECISION', 'COACHING', 'While', 'the', 'average', 'client', 'may', 'need', 'guidance', 'when', 'it', 'comes', 'to', 'managing', 'money,', 'a', 'client', 'facing', 'a', 'divorce', 'is', 'in', 'need', 'of', 'much', 'more', 'coaching.']\n",
      "['\\x93Decision', 'making', 'can', 'be', 'difficult', 'or', 'darn', 'near', 'impossible', 'for', 'many', 'individuals', 'faced', 'with', 'the', 'uncertainty', 'of', 'their', 'financial', 'future,\\x94', 'he', 'says.']\n",
      "['\\x93Instead', 'of', 'levying', 'advice', 'as', 'a', 'traditional', 'advisor', 'would', 'do,', 'the', 'divorce', 'financial', 'planner', 'must', 'be', 'an', 'architect', 'of', 'financial', 'decision-making', 'for', 'clients', 'and', 'assist', 'them', 'in', 'thinking', 'strategically.\\x94', 'For', 'planners', 'this', 'means', 'brainstorming', 'and', 'developing', 'a', 'pros', 'and', 'cons', 'list', 'regarding', 'the', 'changes', 'that', 'occur', 'after', 'a', 'divorce', 'takes', 'place,', 'says', 'Reckers.']\n",
      "['A', 'situation', 'where', 'such', 'thinking', 'is', 'helpful', 'would', 'be', 'in', 'a', 'situation', 'in', 'which', 'a', 'client', 'is', 'a', 'part-owner,', 'with', 'his', 'or', 'her', 'soon-to-be-ex-spouse,', 'in', 'a', 'company.']\n",
      "['The', 'client', 'might', 'be', 'having', 'a', 'hard', 'time', 'deciding', 'whether', 'to', 'sell', 'his', 'or', 'her', 'stock', 'and', 'leave', 'the', 'company.']\n",
      "['A', 'divorce', 'planner', 'would', 'evaluate', 'the', 'end-game', 'for', 'both', 'scenarios:', 'if', 'the', 'person', 'remains', 'a', 'majority', 'shareholder', 'in', 'the', 'company,', 'he', 'or', 'she', 'could', 'see', 'a', 'huge', 'gain', 'if', 'the', 'business', 'is', 'bought', 'out,', 'Reckers', 'explains.']\n",
      "['However,', 'the', 'couple', 'will', 'still', 'be', 'in', 'constant', 'contact', 'because', 'of', 'the', 'business,', 'which', 'some', 'people', 'might', 'find', 'an', 'untenable', 'situation.']\n",
      "['And,', 'says', 'Reckers,', '\\x93what', 'if', 'that', 'business', 'goes', 'bankrupt?']\n",
      "['Was', 'it', 'worth', 'the', 'risk?\\x94', 'With', 'divorce', 'clients', 'focusing', 'on', 'the', 'proceeding,', 'it', 'is', 'vital', 'that', 'planners', 'keep', 'their', 'client\\x92s', 'mind', 'on', 'what', 'the', 'financial', 'future,', 'and', 'their', 'life,', 'looks', 'like,', 'Reckers', 'says.']\n",
      "['FORENSIC', 'ACCOUNTING', 'Divorce', 'financial', 'planners', 'often', 'take', 'part', 'in', 'forensic', 'accounting', 'to', 'ensure', 'that', 'no', 'money', 'is', 'hidden', 'from', 'either', 'party.']\n",
      "['According', 'to', 'Reckers,', 'this', 'requires', 'planners', 'to', 'look', 'for', 'misappropriated', 'funds,', 'to', 'assist', 'an', 'attorney', 'in', 'financial', 'matters', 'of', 'the', 'divorce', 'case', 'and', 'make', 'determinations', 'of', 'income', 'and', 'expenses.']\n",
      "['\\x93The', 'vast', 'majority', 'of', 'my', 'clients', 'post-divorce', 'are', 'women', 'that', 'have', 'an', 'advisor', 'who', 'works', 'with', 'the', 'husband', 'or', 'who', 'didn\\x92t', 'have', 'a', 'relationship', 'with', 'the', 'wife,\\x94', 'Reckers', 'says.']\n",
      "['\\x93Many', 'fear', 'that', 'their', 'husbands', 'colluded', 'with', 'advisors', 'to', 'hide', 'assets.\\x94', 'While', 'an', 'accountant', 'can', 'fulfill', 'this', 'role,', 'Reckers', 'advises', 'planners', 'to', 'pick', 'up', 'this', 'skill.']\n",
      "['It', 'makes', 'them', 'more', 'attractive', 'to', 'a', 'potential', 'client', 'who', 'doesn\\x92t', 'want', 'more', 'hired', 'help,', 'he', 'says.']\n",
      "['\\x93It', 'comes', 'down', 'to', 'needing', 'only', 'one', 'person,\\x94', 'he', 'says.']\n",
      "['Also,', 'forensic', 'accountants', 'often', 'only', 'look', 'backward', 'and', 'lack', 'the', 'experience', 'of', 'advising', 'a', 'client', 'post-divorce,', 'according', 'to', 'Reckers.']\n",
      "['KNOW', 'TAX', 'LAW', '\\x93There', 'are', 'significant', 'tax', 'and', 'pension', 'law', 'issues', 'pertinent', 'to', 'divorce', 'that', 'would', 'otherwise', 'be', 'outside', 'the', 'day-to-day', 'practices', 'of', 'an', 'advisor,\\x94', 'Reckers', 'says.']\n",
      "['Advisors', 'that', 'are', 'knowledgeable', 'about', 'tax', 'law', 'can', 'help', 'create', 'options', 'for', 'their', 'clients.']\n",
      "['For', 'instance,', 'the', 'IRS', 'Code', 'DGDGDGDG', 'specifically', 'states', 'that', 'monetary', 'transactions', 'between', 'spouses', 'and', 'former', 'spouses', 'are', 'tax-exempt.']\n",
      "['However,', 'in', 'order', 'to', 'avoid', 'a', 'potential', '\\x93gift', 'tax,\\x94', 'a', 'judge', 'must', 'rule', 'that', 'the', 'transfer', 'of', 'the', 'money', '\\x96', 'at', 'once', 'or', 'over', 'time', '\\x96', 'is', 'pursuant', 'to', 'the', 'divorce.']\n",
      "['Therefore,', 'a', 'man', 'who', 'owes', 'his', 'ex-wife', '$DGDGDG,DGDGDG', 'can', 'pay', 'her', '$DGDG,DGDGDG', 'for', 'the', 'next', 'DGDG', 'years', 'without', 'either', 'of', 'the', 'parties', 'getting', 'hit', 'by', 'taxes', 'on', 'the', 'money', 'provided', 'that', 'the', 'transaction', 'is', 'viewed', 'as', 'part', 'of', 'the', 'divorce,', 'Reckers', 'explains.']\n",
      "['Planners', 'can', 'ensure', 'that', 'money', 'is', 'paid', 'by', 'requesting', 'a', 'promissory', 'note,', 'demanding', 'that', 'collateral', 'be', 'provided', 'and', 'in', 'some', 'cases', 'taking', 'out', 'a', 'life', 'insurance', 'policy', 'on', 'the', 'spouse', 'that', 'is', 'required', 'to', 'pay', 'the', 'money.']\n",
      "['THINK', 'STRATEGICALLY', 'For', 'most', 'advisors', 'thinking', 'strategically', 'comes', 'naturally.']\n",
      "['However,', 'in', 'divorce', 'financial', 'planning,', 'advisors', 'must', 'think', 'offensively', 'because', 'every', 'dollar', 'a', 'client', 'will', 'receive', 'is', 'one', 'lost', 'by', 'the', 'former', 'spouse.']\n",
      "['\\x93The', 'reality', 'is', 'that', 'you', 'are', 'negotiating', 'against', 'someone,\\x94', 'Reckers', 'says.']\n",
      "['\\x93Everything', 'we', 'do', 'negatively', 'affects', 'someone.\\x94', 'If', 'one', 'spouse', 'is', 'in', 'charge', 'of', 'the', 'finances', 'for', 'the', 'home,', 'it', 'is', 'likely', 'that', 'this', 'person', 'will', 'stick', 'with', 'the', 'planner', 'the', 'couple', 'is', 'already', 'using,', 'Reckers', 'says.']\n",
      "['He', 'goes', 'on', 'to', 'explain', 'that', 'this', 'is', 'when', 'some', 'advisors', 'might', 'try', 'to', 'help', 'their', 'client', 'hide', 'assets', 'from', 'the', 'other', 'spouse.']\n",
      "['However,', 'a', 'good', 'divorce', 'financial', 'planner', 'will', 'recognize', 'the', 'lack', 'of', 'information', 'provided,', 'he', 'says.']\n",
      "['An', 'even', 'better', 'advisor', 'will', 'strategically', 'work', 'with', 'their', 'client\\x92s', 'legal', 'representation', 'to', 'have', 'the', 'financial', 'information', 'given', 'to', 'them', 'as', 'part', 'of', 'formal', 'discovery', 'for', 'the', 'case.']\n",
      "['\\x93We', 'need', 'the', 'lawyer\\x92s', 'help,\\x94', 'he', 'says.']\n",
      "['\\x93We', 'need', 'them', 'to', 'say', '\\x91In', 'front', 'of', 'a', 'judge', 'this', 'might', 'not', 'work.\\x92\\x94', 'Reckers', 'is', 'hosting', 'a', 'two-day', 'course', 'at', 'Texas', 'Tech.']\n",
      "['titled', '\\x93Financial', 'Intricacies', 'of', 'Divorce', 'and', 'Introduction', 'to', 'Strategies', 'for', 'Assisting', 'Individuals', 'and', 'Couples', 'During', 'and', 'After', 'a', 'Divorce.\\x94', 'The', 'DGDG-hour', 'seminar', 'will', 'take', 'place', 'on', 'Jan.']\n",
      "['DGDG', 'and', 'DGDG', 'with', 'the', 'goal', 'of', 'teaching', 'advisors', 'and', 'students', 'the', 'specifics', 'of', 'how', 'to', 'go', 'about', 'financial', 'planning', 'for', 'a', 'divorce.']\n",
      "['READ', 'MORE']\n"
     ]
    }
   ],
   "source": [
    "text = re.sub(\"<.*>\", \"\", re.sub(\"\\d\", \"DG\", articles.iloc[4]['article']))\n",
    "t = nltk.tokenize.punkt.PunktSentenceTokenizer()\n",
    "sents = t.tokenize(text)\n",
    "wt = nltk.tokenize.WhitespaceTokenizer()\n",
    "for s in sents:\n",
    "    print(wt.tokenize(s))\n",
    "# tokenizer.PunktSentenceTokenizer(text)"
   ]
  },
  {
   "cell_type": "code",
   "execution_count": 24,
   "metadata": {},
   "outputs": [
    {
     "data": {
      "text/plain": [
       "(337,)"
      ]
     },
     "execution_count": 24,
     "metadata": {},
     "output_type": "execute_result"
    }
   ],
   "source": [
    "pd.unique(articles[\"source\"]).shape"
   ]
  },
  {
   "cell_type": "code",
   "execution_count": 68,
   "metadata": {},
   "outputs": [],
   "source": [
    "class MySentences(object):\n",
    "    def __init__(self, data):\n",
    "        self.data = data\n",
    " \n",
    "    def __iter__(self):\n",
    "        for i in range(self.data.shape[0]):\n",
    "            if i%100000 == 0:\n",
    "                print (i, \"articles processed\")\n",
    "                print(datetime.datetime.now())\n",
    "            text = self.data.iloc[i]['article']\n",
    "            text = re.sub(\"\\d\", \"DG\", text)\n",
    "            sentences = tokenize.sent_tokenize(text)\n",
    "            for line in sentences:\n",
    "                yield wt.tokenize(s)\n",
    "            "
   ]
  },
  {
   "cell_type": "code",
   "execution_count": 69,
   "metadata": {},
   "outputs": [
    {
     "name": "stdout",
     "output_type": "stream",
     "text": [
      "0 articles processed\n",
      "2018-08-01 16:49:40.542706\n",
      "100000 articles processed\n",
      "2018-08-01 16:55:31.569288\n",
      "200000 articles processed\n",
      "2018-08-01 17:00:49.095575\n",
      "300000 articles processed\n",
      "2018-08-01 17:06:53.203474\n",
      "400000 articles processed\n",
      "2018-08-01 17:12:48.006925\n",
      "500000 articles processed\n",
      "2018-08-01 17:18:32.746604\n",
      "600000 articles processed\n",
      "2018-08-01 17:24:41.250945\n",
      "700000 articles processed\n",
      "2018-08-01 17:30:50.455747\n",
      "800000 articles processed\n",
      "2018-08-01 17:36:52.376457\n",
      "900000 articles processed\n",
      "2018-08-01 17:42:54.310251\n",
      "1000000 articles processed\n",
      "2018-08-01 17:48:41.808769\n",
      "1100000 articles processed\n",
      "2018-08-01 17:54:45.282000\n",
      "0 articles processed\n",
      "2018-08-01 17:58:19.071312\n",
      "100000 articles processed\n",
      "2018-08-01 18:05:18.807521\n",
      "200000 articles processed\n",
      "2018-08-01 18:11:47.556956\n",
      "300000 articles processed\n",
      "2018-08-01 18:18:34.335969\n",
      "400000 articles processed\n",
      "2018-08-01 18:25:06.743793\n",
      "500000 articles processed\n",
      "2018-08-01 18:31:36.752693\n",
      "600000 articles processed\n",
      "2018-08-01 18:38:25.796960\n",
      "700000 articles processed\n",
      "2018-08-01 18:45:24.111341\n",
      "800000 articles processed\n",
      "2018-08-01 18:52:15.305242\n",
      "900000 articles processed\n",
      "2018-08-01 18:58:56.836199\n",
      "1000000 articles processed\n",
      "2018-08-01 19:06:46.664491\n",
      "1100000 articles processed\n",
      "2018-08-01 19:15:54.368865\n",
      "0 articles processed\n",
      "2018-08-01 19:21:02.919051\n",
      "100000 articles processed\n",
      "2018-08-01 19:30:58.035531\n",
      "200000 articles processed\n",
      "2018-08-01 19:39:42.202913\n",
      "300000 articles processed\n",
      "2018-08-01 19:48:55.218698\n",
      "400000 articles processed\n",
      "2018-08-01 19:57:49.162037\n",
      "500000 articles processed\n",
      "2018-08-01 20:06:46.694484\n",
      "600000 articles processed\n",
      "2018-08-01 20:16:11.391660\n",
      "700000 articles processed\n",
      "2018-08-01 20:25:49.423711\n",
      "800000 articles processed\n",
      "2018-08-01 20:35:10.591088\n",
      "900000 articles processed\n",
      "2018-08-01 20:42:19.412452\n",
      "1000000 articles processed\n",
      "2018-08-01 20:49:08.110831\n",
      "1100000 articles processed\n",
      "2018-08-01 20:55:52.352633\n"
     ]
    }
   ],
   "source": [
    "model = Word2Vec(MySentences(articles), iter=2, min_count=10, size=50, workers=4) # empty model, num dimensions = 50\n",
    "    "
   ]
  },
  {
   "cell_type": "code",
   "execution_count": 71,
   "metadata": {},
   "outputs": [],
   "source": [
    "model.wv.save_word2vec_format('article_embed.txt', binary=False)\n"
   ]
  }
 ],
 "metadata": {
  "kernelspec": {
   "display_name": "Python 3",
   "language": "python",
   "name": "python3"
  },
  "language_info": {
   "codemirror_mode": {
    "name": "ipython",
    "version": 3
   },
   "file_extension": ".py",
   "mimetype": "text/x-python",
   "name": "python",
   "nbconvert_exporter": "python",
   "pygments_lexer": "ipython3",
   "version": "3.6.4"
  }
 },
 "nbformat": 4,
 "nbformat_minor": 2
}
