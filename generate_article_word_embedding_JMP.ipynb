{
 "cells": [
  {
   "cell_type": "code",
   "execution_count": 56,
   "metadata": {},
   "outputs": [],
   "source": [
    "from w266_common import utils\n",
    "import unittest\n",
    "import csv\n",
    "import pandas as pd\n",
    "from nltk.corpus import stopwords \n",
    "from nltk import tokenize\n",
    "import nltk\n",
    "from gensim.models import Word2Vec\n",
    "import gensim.utils\n",
    "import re\n",
    "import datetime"
   ]
  },
  {
   "cell_type": "code",
   "execution_count": 4,
   "metadata": {},
   "outputs": [
    {
     "name": "stdout",
     "output_type": "stream",
     "text": [
      "['', '/Users/jenniferpodracky/anaconda3/lib/python36.zip', '/Users/jenniferpodracky/anaconda3/lib/python3.6', '/Users/jenniferpodracky/anaconda3/lib/python3.6/lib-dynload', '/Users/jenniferpodracky/anaconda3/lib/python3.6/site-packages', '/Users/jenniferpodracky/anaconda3/lib/python3.6/site-packages/aeosa', '/Users/jenniferpodracky/anaconda3/lib/python3.6/site-packages/IPython/extensions', '/Users/jenniferpodracky/.ipython']\n"
     ]
    }
   ],
   "source": [
    "import sys\n",
    "print(sys.path)"
   ]
  },
  {
   "cell_type": "code",
   "execution_count": 7,
   "metadata": {},
   "outputs": [],
   "source": []
  },
  {
   "cell_type": "code",
   "execution_count": 4,
   "metadata": {},
   "outputs": [],
   "source": [
    "articles = pd.read_csv(\"./data/2018_articles.csv\")"
   ]
  },
  {
   "cell_type": "code",
   "execution_count": 5,
   "metadata": {},
   "outputs": [
    {
     "data": {
      "text/html": [
       "<div>\n",
       "<style scoped>\n",
       "    .dataframe tbody tr th:only-of-type {\n",
       "        vertical-align: middle;\n",
       "    }\n",
       "\n",
       "    .dataframe tbody tr th {\n",
       "        vertical-align: top;\n",
       "    }\n",
       "\n",
       "    .dataframe thead th {\n",
       "        text-align: right;\n",
       "    }\n",
       "</style>\n",
       "<table border=\"1\" class=\"dataframe\">\n",
       "  <thead>\n",
       "    <tr style=\"text-align: right;\">\n",
       "      <th></th>\n",
       "      <th>source</th>\n",
       "      <th>article</th>\n",
       "    </tr>\n",
       "  </thead>\n",
       "  <tbody>\n",
       "    <tr>\n",
       "      <th>0</th>\n",
       "      <td>The Washington Post</td>\n",
       "      <td>{comment_count=0, correction_html=, keywords=[...</td>\n",
       "    </tr>\n",
       "    <tr>\n",
       "      <th>1</th>\n",
       "      <td>The Washington Post</td>\n",
       "      <td>{comment_count=null, correction_html=, keyword...</td>\n",
       "    </tr>\n",
       "    <tr>\n",
       "      <th>2</th>\n",
       "      <td>The Washington Post</td>\n",
       "      <td>\\n\\nCornell University buildings viewed from M...</td>\n",
       "    </tr>\n",
       "    <tr>\n",
       "      <th>3</th>\n",
       "      <td>El País</td>\n",
       "      <td>Al menos dos personas murieron ayer viernes en...</td>\n",
       "    </tr>\n",
       "    <tr>\n",
       "      <th>4</th>\n",
       "      <td>Financial Planning</td>\n",
       "      <td>More and more financial advisors are doing som...</td>\n",
       "    </tr>\n",
       "  </tbody>\n",
       "</table>\n",
       "</div>"
      ],
      "text/plain": [
       "                source                                            article\n",
       "0  The Washington Post  {comment_count=0, correction_html=, keywords=[...\n",
       "1  The Washington Post  {comment_count=null, correction_html=, keyword...\n",
       "2  The Washington Post  \\n\\nCornell University buildings viewed from M...\n",
       "3              El País  Al menos dos personas murieron ayer viernes en...\n",
       "4   Financial Planning  More and more financial advisors are doing som..."
      ]
     },
     "execution_count": 5,
     "metadata": {},
     "output_type": "execute_result"
    }
   ],
   "source": [
    "articles.head(5)"
   ]
  },
  {
   "cell_type": "code",
   "execution_count": 6,
   "metadata": {},
   "outputs": [
    {
     "data": {
      "text/plain": [
       "(1158779, 2)"
      ]
     },
     "execution_count": 6,
     "metadata": {},
     "output_type": "execute_result"
    }
   ],
   "source": [
    "articles.shape"
   ]
  },
  {
   "cell_type": "code",
   "execution_count": 32,
   "metadata": {},
   "outputs": [
    {
     "data": {
      "text/plain": [
       "'More and more financial advisors are doing something they don\\x92t normally do: focus on the past.\\n\\nAs planners continue to join the niche market of divorce financial planning, many find that new clients who start out simply seeking their help in navigating a divorce end up transferring significant new assets into the practice after the divorce is over.\\n\\n\\x93It\\x92s not a traditional prospecting tool but it is a prospecting tool,\\x94 says Justin Reckers, CEO of Pacific Divorce Management, who has fully embraced the niche of divorce financial planning.\\n\\nIn the last 18 months, Reckers has gained $30 million in new assets under management that came directly from clients that stuck with him after their divorce.\\n\\nMost of these new clients had little knowledge of their finances and did not have a positive relationship with their previous financial advisor. Over 80 percent of these new clients are women, says Reckers, who explains that most men already have a relationship with the couple\\x92s financial advisor and don\\x92t seek any more assistance during a divorce.\\n\\nThat\\x92s why women are more likely to seek outside help during a divorce, and why they\\x92re a profitable market niche after the divorce is final.\\n\\nReckers explains what advisors need to know if they want to keep these new clients after the divorce is finalized:\\n\\nNEGOTIATION SKILLS\\n\\nAdvisors who assist one party in a divorce require a deep understanding of negotiation tactics and skills far beyond those required for traditional advising, according to Reckers. This is because there is a third party \\x96 the other spouse - that has a conflicting agenda.\\n\\n\\x93We are with our clients at the point of negotiating the largest financial transaction of their lives,\\x94 he says. \\x93It is critical the settlement be structured correctly and negotiated with expert guidance or clients risk not getting the best deal.\\x94\\n\\nPlanners need to work with their client\\x92s divorce lawyers and the legal representation for the other party as well, says Reckers. In many divorce cases, the couple chooses to work toward a settlement and skips the courtroom altogether. When this happens, planners must bring expert negotiating skills to the table their client might end up with a significant loss. For instance, Reckers explains that if his client doesn\\x92t respond to an initial offer, a follow-up offer will usually come shortly afterward, more often than not with better numbers for both spouses, he says. Waiting is sometimes the best negotiating tool.\\n\\nDECISION COACHING\\n\\nWhile the average client may need guidance when it comes to managing money, a client facing a divorce is in need of much more coaching.\\n\\n\\x93Decision making can be difficult or darn near impossible for many individuals faced with the uncertainty of their financial future,\\x94 he says. \\x93Instead of levying advice as a traditional advisor would do, the divorce financial planner must be an architect of financial decision-making for clients and assist them in thinking strategically.\\x94\\n\\nFor planners this means brainstorming and developing a pros and cons list regarding the changes that occur after a divorce takes place, says Reckers.\\n\\nA situation where such thinking is helpful would be in a situation in which a client is a part-owner, with his or her soon-to-be-ex-spouse, in a company. The client might be having a hard time deciding whether to sell his or her stock and leave the company. A divorce planner would evaluate the end-game for both scenarios: if the person remains a majority shareholder in the company, he or she could see a huge gain if the business is bought out, Reckers explains. However, the couple will still be in constant contact because of the business, which some people might find an untenable situation. And, says Reckers, \\x93what if that business goes bankrupt? Was it worth the risk?\\x94\\n\\nWith divorce clients focusing on the proceeding, it is vital that planners keep their client\\x92s mind on what the financial future, and their life, looks like, Reckers says.\\n\\nFORENSIC ACCOUNTING\\n\\nDivorce financial planners often take part in forensic accounting to ensure that no money is hidden from either party. According to Reckers, this requires planners to look for misappropriated funds, to assist an attorney in financial matters of the divorce case and make determinations of income and expenses.\\n\\n\\x93The vast majority of my clients post-divorce are women that have an advisor who works with the husband or who didn\\x92t have a relationship with the wife,\\x94 Reckers says. \\x93Many fear that their husbands colluded with advisors to hide assets.\\x94\\n\\nWhile an accountant can fulfill this role, Reckers advises planners to pick up this skill. It makes them more attractive to a potential client who doesn\\x92t want more hired help, he says. \\x93It comes down to needing only one person,\\x94 he says. Also, forensic accountants often only look backward and lack the experience of advising a client post-divorce, according to Reckers.\\n\\nKNOW TAX LAW\\n\\n\\x93There are significant tax and pension law issues pertinent to divorce that would otherwise be outside the day-to-day practices of an advisor,\\x94 Reckers says. Advisors that are knowledgeable about tax law can help create options for their clients.\\n\\nFor instance, the IRS Code 1041 specifically states that monetary transactions between spouses and former spouses are tax-exempt. However, in order to avoid a potential \\x93gift tax,\\x94 a judge must rule that the transfer of the money \\x96 at once or over time \\x96 is pursuant to the divorce.\\n\\nTherefore, a man who owes his ex-wife $100,000 can pay her $10,000 for the next 10 years without either of the parties getting hit by taxes on the money provided that the transaction is viewed as part of the divorce, Reckers explains. Planners can ensure that money is paid by requesting a promissory note, demanding that collateral be provided and in some cases taking out a life insurance policy on the spouse that is required to pay the money.\\n\\nTHINK STRATEGICALLY\\n\\nFor most advisors thinking strategically comes naturally. However, in divorce financial planning, advisors must think offensively because every dollar a client will receive is one lost by the former spouse. \\x93The reality is that you are negotiating against someone,\\x94 Reckers says. \\x93Everything we do negatively affects someone.\\x94\\n\\nIf one spouse is in charge of the finances for the home, it is likely that this person will stick with the planner the couple is already using, Reckers says. He goes on to explain that this is when some advisors might try to help their client hide assets from the other spouse.\\n\\nHowever, a good divorce financial planner will recognize the lack of information provided, he says. An even better advisor will strategically work with their client\\x92s legal representation to have the financial information given to them as part of formal discovery for the case.\\n\\n\\x93We need the lawyer\\x92s help,\\x94 he says. \\x93We need them to say \\x91In front of a judge this might not work.\\x92\\x94\\n\\nReckers is hosting a two-day course at Texas Tech. titled \\x93Financial Intricacies of Divorce and Introduction to Strategies for Assisting Individuals and Couples During and After a Divorce.\\x94 The 12-hour seminar will take place on Jan. 24 and 25 with the goal of teaching advisors and students the specifics of how to go about financial planning for a divorce.\\n\\nREAD MORE'"
      ]
     },
     "execution_count": 32,
     "metadata": {},
     "output_type": "execute_result"
    }
   ],
   "source": [
    "articles.iloc[4]['article']"
   ]
  },
  {
   "cell_type": "code",
   "execution_count": 46,
   "metadata": {},
   "outputs": [
    {
     "name": "stdout",
     "output_type": "stream",
     "text": [
      "[['more', 'and', 'more', 'financial', 'advisors', 'are', 'doing', 'something', 'they', \"don't\", 'normally', 'do:', 'focus', 'on', 'the', 'past.'], ['as', 'planners', 'continue', 'to', 'join', 'the', 'niche', 'market', 'of', 'divorce', 'financial', 'planning,', 'many', 'find', 'that', 'new', 'clients', 'who', 'start', 'out', 'simply', 'seeking', 'their', 'help', 'in', 'navigating', 'a', 'divorce', 'end', 'up', 'transferring', 'significant', 'new', 'assets', 'into', 'the', 'practice', 'after', 'the', 'divorce', 'is', 'over.'], ['\"it\\'s', 'not', 'a', 'traditional', 'prospecting', 'tool', 'but', 'it', 'is', 'a', 'prospecting', 'tool,\"', 'says', 'justin', 'reckers,', 'ceo', 'of', 'pacific', 'divorce', 'management,', 'who', 'has', 'fully', 'embraced', 'the', 'niche', 'of', 'divorce', 'financial', 'planning.'], ['in', 'the', 'last', 'dgdg', 'months,', 'reckers', 'has', 'gained', '$dgdg', 'million', 'in', 'new', 'assets', 'under', 'management', 'that', 'came', 'directly', 'from', 'clients', 'that', 'stuck', 'with', 'him', 'after', 'their', 'divorce.'], ['most', 'of', 'these', 'new', 'clients', 'had', 'little', 'knowledge', 'of', 'their', 'finances', 'and', 'did', 'not', 'have', 'a', 'positive', 'relationship', 'with', 'their', 'previous', 'financial', 'advisor.'], ['over', 'dgdg', 'percent', 'of', 'these', 'new', 'clients', 'are', 'women,', 'says', 'reckers,', 'who', 'explains', 'that', 'most', 'men', 'already', 'have', 'a', 'relationship', 'with', 'the', \"couple's\", 'financial', 'advisor', 'and', \"don't\", 'seek', 'any', 'more', 'assistance', 'during', 'a', 'divorce.'], [\"that's\", 'why', 'women', 'are', 'more', 'likely', 'to', 'seek', 'outside', 'help', 'during', 'a', 'divorce,', 'and', 'why', \"they're\", 'a', 'profitable', 'market', 'niche', 'after', 'the', 'divorce', 'is', 'final.'], ['reckers', 'explains', 'what', 'advisors', 'need', 'to', 'know', 'if', 'they', 'want', 'to', 'keep', 'these', 'new', 'clients', 'after', 'the', 'divorce', 'is', 'finalized:', 'negotiation', 'skills', 'advisors', 'who', 'assist', 'one', 'party', 'in', 'a', 'divorce', 'require', 'a', 'deep', 'understanding', 'of', 'negotiation', 'tactics', 'and', 'skills', 'far', 'beyond', 'those', 'required', 'for', 'traditional', 'advising,', 'according', 'to', 'reckers.'], ['this', 'is', 'because', 'there', 'is', 'a', 'third', 'party', '\"', 'the', 'other', 'spouse', '-', 'that', 'has', 'a', 'conflicting', 'agenda.'], ['\"we', 'are', 'with', 'our', 'clients', 'at', 'the', 'point', 'of', 'negotiating', 'the', 'largest', 'financial', 'transaction', 'of', 'their', 'lives,\"', 'he', 'says.'], ['\"it', 'is', 'critical', 'the', 'settlement', 'be', 'structured', 'correctly', 'and', 'negotiated', 'with', 'expert', 'guidance', 'or', 'clients', 'risk', 'not', 'getting', 'the', 'best', 'deal.\"'], ['planners', 'need', 'to', 'work', 'with', 'their', \"client's\", 'divorce', 'lawyers', 'and', 'the', 'legal', 'representation', 'for', 'the', 'other', 'party', 'as', 'well,', 'says', 'reckers.'], ['in', 'many', 'divorce', 'cases,', 'the', 'couple', 'chooses', 'to', 'work', 'toward', 'a', 'settlement', 'and', 'skips', 'the', 'courtroom', 'altogether.'], ['when', 'this', 'happens,', 'planners', 'must', 'bring', 'expert', 'negotiating', 'skills', 'to', 'the', 'table', 'their', 'client', 'might', 'end', 'up', 'with', 'a', 'significant', 'loss.'], ['for', 'instance,', 'reckers', 'explains', 'that', 'if', 'his', 'client', \"doesn't\", 'respond', 'to', 'an', 'initial', 'offer,', 'a', 'follow-up', 'offer', 'will', 'usually', 'come', 'shortly', 'afterward,', 'more', 'often', 'than', 'not', 'with', 'better', 'numbers', 'for', 'both', 'spouses,', 'he', 'says.'], ['waiting', 'is', 'sometimes', 'the', 'best', 'negotiating', 'tool.'], ['decision', 'coaching', 'while', 'the', 'average', 'client', 'may', 'need', 'guidance', 'when', 'it', 'comes', 'to', 'managing', 'money,', 'a', 'client', 'facing', 'a', 'divorce', 'is', 'in', 'need', 'of', 'much', 'more', 'coaching.'], ['\"decision', 'making', 'can', 'be', 'difficult', 'or', 'darn', 'near', 'impossible', 'for', 'many', 'individuals', 'faced', 'with', 'the', 'uncertainty', 'of', 'their', 'financial', 'future,\"', 'he', 'says.'], ['\"instead', 'of', 'levying', 'advice', 'as', 'a', 'traditional', 'advisor', 'would', 'do,', 'the', 'divorce', 'financial', 'planner', 'must', 'be', 'an', 'architect', 'of', 'financial', 'decision-making', 'for', 'clients', 'and', 'assist', 'them', 'in', 'thinking', 'strategically.\"'], ['for', 'planners', 'this', 'means', 'brainstorming', 'and', 'developing', 'a', 'pros', 'and', 'cons', 'list', 'regarding', 'the', 'changes', 'that', 'occur', 'after', 'a', 'divorce', 'takes', 'place,', 'says', 'reckers.'], ['a', 'situation', 'where', 'such', 'thinking', 'is', 'helpful', 'would', 'be', 'in', 'a', 'situation', 'in', 'which', 'a', 'client', 'is', 'a', 'part-owner,', 'with', 'his', 'or', 'her', 'soon-to-be-ex-spouse,', 'in', 'a', 'company.'], ['the', 'client', 'might', 'be', 'having', 'a', 'hard', 'time', 'deciding', 'whether', 'to', 'sell', 'his', 'or', 'her', 'stock', 'and', 'leave', 'the', 'company.'], ['a', 'divorce', 'planner', 'would', 'evaluate', 'the', 'end-game', 'for', 'both', 'scenarios:', 'if', 'the', 'person', 'remains', 'a', 'majority', 'shareholder', 'in', 'the', 'company,', 'he', 'or', 'she', 'could', 'see', 'a', 'huge', 'gain', 'if', 'the', 'business', 'is', 'bought', 'out,', 'reckers', 'explains.'], ['however,', 'the', 'couple', 'will', 'still', 'be', 'in', 'constant', 'contact', 'because', 'of', 'the', 'business,', 'which', 'some', 'people', 'might', 'find', 'an', 'untenable', 'situation.'], ['and,', 'says', 'reckers,', '\"what', 'if', 'that', 'business', 'goes', 'bankrupt?'], ['was', 'it', 'worth', 'the', 'risk?\"'], ['with', 'divorce', 'clients', 'focusing', 'on', 'the', 'proceeding,', 'it', 'is', 'vital', 'that', 'planners', 'keep', 'their', \"client's\", 'mind', 'on', 'what', 'the', 'financial', 'future,', 'and', 'their', 'life,', 'looks', 'like,', 'reckers', 'says.'], ['forensic', 'accounting', 'divorce', 'financial', 'planners', 'often', 'take', 'part', 'in', 'forensic', 'accounting', 'to', 'ensure', 'that', 'no', 'money', 'is', 'hidden', 'from', 'either', 'party.'], ['according', 'to', 'reckers,', 'this', 'requires', 'planners', 'to', 'look', 'for', 'misappropriated', 'funds,', 'to', 'assist', 'an', 'attorney', 'in', 'financial', 'matters', 'of', 'the', 'divorce', 'case', 'and', 'make', 'determinations', 'of', 'income', 'and', 'expenses.'], ['\"the', 'vast', 'majority', 'of', 'my', 'clients', 'post-divorce', 'are', 'women', 'that', 'have', 'an', 'advisor', 'who', 'works', 'with', 'the', 'husband', 'or', 'who', \"didn't\", 'have', 'a', 'relationship', 'with', 'the', 'wife,\"', 'reckers', 'says.'], ['\"many', 'fear', 'that', 'their', 'husbands', 'colluded', 'with', 'advisors', 'to', 'hide', 'assets.\"'], ['while', 'an', 'accountant', 'can', 'fulfill', 'this', 'role,', 'reckers', 'advises', 'planners', 'to', 'pick', 'up', 'this', 'skill.'], ['it', 'makes', 'them', 'more', 'attractive', 'to', 'a', 'potential', 'client', 'who', \"doesn't\", 'want', 'more', 'hired', 'help,', 'he', 'says.'], ['\"it', 'comes', 'down', 'to', 'needing', 'only', 'one', 'person,\"', 'he', 'says.'], ['also,', 'forensic', 'accountants', 'often', 'only', 'look', 'backward', 'and', 'lack', 'the', 'experience', 'of', 'advising', 'a', 'client', 'post-divorce,', 'according', 'to', 'reckers.'], ['know', 'tax', 'law', '\"there', 'are', 'significant', 'tax', 'and', 'pension', 'law', 'issues', 'pertinent', 'to', 'divorce', 'that', 'would', 'otherwise', 'be', 'outside', 'the', 'day-to-day', 'practices', 'of', 'an', 'advisor,\"', 'reckers', 'says.'], ['advisors', 'that', 'are', 'knowledgeable', 'about', 'tax', 'law', 'can', 'help', 'create', 'options', 'for', 'their', 'clients.'], ['for', 'instance,', 'the', 'irs', 'code', 'dgdgdgdg', 'specifically', 'states', 'that', 'monetary', 'transactions', 'between', 'spouses', 'and', 'former', 'spouses', 'are', 'tax-exempt.'], ['however,', 'in', 'order', 'to', 'avoid', 'a', 'potential', '\"gift', 'tax,\"', 'a', 'judge', 'must', 'rule', 'that', 'the', 'transfer', 'of', 'the', 'money', '\"', 'at', 'once', 'or', 'over', 'time', '\"', 'is', 'pursuant', 'to', 'the', 'divorce.'], ['therefore,', 'a', 'man', 'who', 'owes', 'his', 'ex-wife', '$dgdgdg,dgdgdg', 'can', 'pay', 'her', '$dgdg,dgdgdg', 'for', 'the', 'next', 'dgdg', 'years', 'without', 'either', 'of', 'the', 'parties', 'getting', 'hit', 'by', 'taxes', 'on', 'the', 'money', 'provided', 'that', 'the', 'transaction', 'is', 'viewed', 'as', 'part', 'of', 'the', 'divorce,', 'reckers', 'explains.'], ['planners', 'can', 'ensure', 'that', 'money', 'is', 'paid', 'by', 'requesting', 'a', 'promissory', 'note,', 'demanding', 'that', 'collateral', 'be', 'provided', 'and', 'in', 'some', 'cases', 'taking', 'out', 'a', 'life', 'insurance', 'policy', 'on', 'the', 'spouse', 'that', 'is', 'required', 'to', 'pay', 'the', 'money.'], ['think', 'strategically', 'for', 'most', 'advisors', 'thinking', 'strategically', 'comes', 'naturally.'], ['however,', 'in', 'divorce', 'financial', 'planning,', 'advisors', 'must', 'think', 'offensively', 'because', 'every', 'dollar', 'a', 'client', 'will', 'receive', 'is', 'one', 'lost', 'by', 'the', 'former', 'spouse.'], ['\"the', 'reality', 'is', 'that', 'you', 'are', 'negotiating', 'against', 'someone,\"', 'reckers', 'says.'], ['\"everything', 'we', 'do', 'negatively', 'affects', 'someone.\"'], ['if', 'one', 'spouse', 'is', 'in', 'charge', 'of', 'the', 'finances', 'for', 'the', 'home,', 'it', 'is', 'likely', 'that', 'this', 'person', 'will', 'stick', 'with', 'the', 'planner', 'the', 'couple', 'is', 'already', 'using,', 'reckers', 'says.'], ['he', 'goes', 'on', 'to', 'explain', 'that', 'this', 'is', 'when', 'some', 'advisors', 'might', 'try', 'to', 'help', 'their', 'client', 'hide', 'assets', 'from', 'the', 'other', 'spouse.'], ['however,', 'a', 'good', 'divorce', 'financial', 'planner', 'will', 'recognize', 'the', 'lack', 'of', 'information', 'provided,', 'he', 'says.'], ['an', 'even', 'better', 'advisor', 'will', 'strategically', 'work', 'with', 'their', \"client's\", 'legal', 'representation', 'to', 'have', 'the', 'financial', 'information', 'given', 'to', 'them', 'as', 'part', 'of', 'formal', 'discovery', 'for', 'the', 'case.'], ['\"we', 'need', 'the', \"lawyer's\", 'help,\"', 'he', 'says.'], ['\"we', 'need', 'them', 'to', 'say', '\\x91in', 'front', 'of', 'a', 'judge', 'this', 'might', 'not', 'work.\\'\"'], ['reckers', 'is', 'hosting', 'a', 'two-day', 'course', 'at', 'texas', 'tech.'], ['titled', '\"financial', 'intricacies', 'of', 'divorce', 'and', 'introduction', 'to', 'strategies', 'for', 'assisting', 'individuals', 'and', 'couples', 'during', 'and', 'after', 'a', 'divorce.\"'], ['the', 'dgdg-hour', 'seminar', 'will', 'take', 'place', 'on', 'jan.'], ['dgdg', 'and', 'dgdg', 'with', 'the', 'goal', 'of', 'teaching', 'advisors', 'and', 'students', 'the', 'specifics', 'of', 'how', 'to', 'go', 'about', 'financial', 'planning', 'for', 'a', 'divorce.'], ['read', 'more']]\n"
     ]
    }
   ],
   "source": [
    "text = re.sub(\"<.*>\", \"\", re.sub(\"\\d\", \"DG\", articles.iloc[4]['article']))\n",
    "text = re.sub(\"\\\\x93|\\\\x94|\\\\x96\", \"\\\"\", text)\n",
    "text = re.sub(\"\\\\x92\", \"'\", text)\n",
    "t = nltk.tokenize.punkt.PunktSentenceTokenizer()\n",
    "sents = t.tokenize(text)\n",
    "wt = nltk.tokenize.WhitespaceTokenizer()\n",
    "corpus = []\n",
    "for s in sents:\n",
    "    #print(wt.tokenize(s.lower()))\n",
    "    corpus.append(wt.tokenize(s.lower()))\n",
    "# tokenizer.PunktSentenceTokenizer(text)\n",
    "print(corpus)"
   ]
  },
  {
   "cell_type": "code",
   "execution_count": 33,
   "metadata": {},
   "outputs": [
    {
     "data": {
      "text/plain": [
       "(337,)"
      ]
     },
     "execution_count": 33,
     "metadata": {},
     "output_type": "execute_result"
    }
   ],
   "source": [
    "pd.unique(articles[\"source\"]).shape"
   ]
  },
  {
   "cell_type": "code",
   "execution_count": 81,
   "metadata": {},
   "outputs": [
    {
     "name": "stdout",
     "output_type": "stream",
     "text": [
      "0 articles preprocessed\n",
      "2018-08-02 17:29:53.289446\n",
      "100000 articles preprocessed\n",
      "2018-08-02 17:31:47.094099\n",
      "200000 articles preprocessed\n",
      "2018-08-02 17:34:04.731693\n",
      "300000 articles preprocessed\n",
      "2018-08-02 17:36:52.963096\n",
      "400000 articles preprocessed\n",
      "2018-08-02 17:40:43.852165\n",
      "500000 articles preprocessed\n",
      "2018-08-02 17:43:00.265270\n",
      "600000 articles preprocessed\n",
      "2018-08-02 17:48:47.039957\n",
      "700000 articles preprocessed\n",
      "2018-08-02 17:51:05.655588\n",
      "800000 articles preprocessed\n",
      "2018-08-02 17:59:44.008393\n",
      "900000 articles preprocessed\n",
      "2018-08-02 18:02:14.322281\n",
      "1000000 articles preprocessed\n",
      "2018-08-02 18:14:19.067722\n",
      "1100000 articles preprocessed\n",
      "2018-08-02 18:16:37.153450\n"
     ]
    }
   ],
   "source": [
    "# preprocess articles\n",
    "# THIS WILL TAKE TIME\n",
    "preprocessed = []\n",
    "for i in range(articles.shape[0]):\n",
    "# for i in range(5):\n",
    "    if i%100000 == 0:\n",
    "        print (i, \"articles preprocessed\")\n",
    "        print(datetime.datetime.now())\n",
    "    text = gensim.utils.simple_preprocess(articles.iloc[i]['article'])\n",
    "    preprocessed.append(text)\n",
    "    "
   ]
  },
  {
   "cell_type": "code",
   "execution_count": 71,
   "metadata": {},
   "outputs": [],
   "source": [
    "model_test = Word2Vec(preprocessed, iter=2, size=50, workers=4)"
   ]
  },
  {
   "cell_type": "code",
   "execution_count": 79,
   "metadata": {},
   "outputs": [
    {
     "name": "stdout",
     "output_type": "stream",
     "text": [
      "{'netanyahu': <gensim.models.keyedvectors.Vocab object at 0x1a1f01f160>, 'african': <gensim.models.keyedvectors.Vocab object at 0x1a1f01f5c0>, 'israeli': <gensim.models.keyedvectors.Vocab object at 0x1a1f01f358>, 'migrants': <gensim.models.keyedvectors.Vocab object at 0x1a1f01f3c8>, 'in': <gensim.models.keyedvectors.Vocab object at 0x1a1f01f320>, 'israel': <gensim.models.keyedvectors.Vocab object at 0x1a1f01f0b8>, 'africa': <gensim.models.keyedvectors.Vocab object at 0x1a782d6048>, 'reversal': <gensim.models.keyedvectors.Vocab object at 0x1a782d6080>, 'on': <gensim.models.keyedvectors.Vocab object at 0x1a782d60b8>, 'migrant': <gensim.models.keyedvectors.Vocab object at 0x1a782d60f0>, 'resettlement': <gensim.models.keyedvectors.Vocab object at 0x1a782d6128>, 'plan': <gensim.models.keyedvectors.Vocab object at 0x1a782d61d0>, 'suggests': <gensim.models.keyedvectors.Vocab object at 0x1a782d6160>, 'elections': <gensim.models.keyedvectors.Vocab object at 0x1a782d6358>, 'are': <gensim.models.keyedvectors.Vocab object at 0x1a782d63c8>, 'near': <gensim.models.keyedvectors.Vocab object at 0x1a782d6390>, 'world': <gensim.models.keyedvectors.Vocab object at 0x1a782d6320>, 'the': <gensim.models.keyedvectors.Vocab object at 0x1a782c0780>, 'news': <gensim.models.keyedvectors.Vocab object at 0x1a782c02e8>, 'true': <gensim.models.keyedvectors.Vocab object at 0x1a782c0438>, 'social': <gensim.models.keyedvectors.Vocab object at 0x1a782c0f28>, 'null': <gensim.models.keyedvectors.Vocab object at 0x1a782c0668>, 'twitter': <gensim.models.keyedvectors.Vocab object at 0x1a782c0278>, 'https': <gensim.models.keyedvectors.Vocab object at 0x1a782c01d0>, 'com': <gensim.models.keyedvectors.Vocab object at 0x1a782c0240>, 'rss': <gensim.models.keyedvectors.Vocab object at 0x1a782c0160>, 'http': <gensim.models.keyedvectors.Vocab object at 0x1a782c05f8>, 'washingtonpost': <gensim.models.keyedvectors.Vocab object at 0x1a782c0128>, 'middle': <gensim.models.keyedvectors.Vocab object at 0x1a1ff6c3c8>, 'east': <gensim.models.keyedvectors.Vocab object at 0x1a1ff6c400>, 'facebook': <gensim.models.keyedvectors.Vocab object at 0x1a1ff6c438>, 'www': <gensim.models.keyedvectors.Vocab object at 0x1a1ff6c470>, 'security': <gensim.models.keyedvectors.Vocab object at 0x1a1ff6c4a8>, 'foreign': <gensim.models.keyedvectors.Vocab object at 0x1a1ff6c4e0>, 'washington': <gensim.models.keyedvectors.Vocab object at 0x1a1ff6c518>, 'post': <gensim.models.keyedvectors.Vocab object at 0x1a1ff6c550>, 'site': <gensim.models.keyedvectors.Vocab object at 0x1a1ff6c588>, 'information': <gensim.models.keyedvectors.Vocab object at 0x1a1ff6c2b0>, 'and': <gensim.models.keyedvectors.Vocab object at 0x1a1ff6c2e8>, 'of': <gensim.models.keyedvectors.Vocab object at 0x1a1ff6c320>, 'normal': <gensim.models.keyedvectors.Vocab object at 0x1a1ff6c358>, 'false': <gensim.models.keyedvectors.Vocab object at 0x1a1ff6c390>, 'middle_east': <gensim.models.keyedvectors.Vocab object at 0x1a1ff6c5c0>, 'name': <gensim.models.keyedvectors.Vocab object at 0x1a1ff6c5f8>, 'order': <gensim.models.keyedvectors.Vocab object at 0x1a1ff6c630>, 'article': <gensim.models.keyedvectors.Vocab object at 0x1a1ff6c668>, 'uuid': <gensim.models.keyedvectors.Vocab object at 0x1a1ff6c6a0>, 'af': <gensim.models.keyedvectors.Vocab object at 0x1a1ff6c6d8>, 'for': <gensim.models.keyedvectors.Vocab object at 0x1a1ff6c710>, 'corinna': <gensim.models.keyedvectors.Vocab object at 0x1a1ff6c748>, 'kern': <gensim.models.keyedvectors.Vocab object at 0x1a1ff6c780>, 'img': <gensim.models.keyedvectors.Vocab object at 0x1a1ff6c7b8>, 'rf': <gensim.models.keyedvectors.Vocab object at 0x1a1ff6c7f0>, 'caption': <gensim.models.keyedvectors.Vocab object at 0x1a1ff6c828>, 'guard': <gensim.models.keyedvectors.Vocab object at 0x1a1ff6c860>, 'gestures': <gensim.models.keyedvectors.Vocab object at 0x1a1ff6c898>, 'asylum': <gensim.models.keyedvectors.Vocab object at 0x1a1ff6c8d0>, 'seekers': <gensim.models.keyedvectors.Vocab object at 0x1a1ff6c908>, 'to': <gensim.models.keyedvectors.Vocab object at 0x1a1ff6c940>, 'wait': <gensim.models.keyedvectors.Vocab object at 0x1a1ff6c978>, 'line': <gensim.models.keyedvectors.Vocab object at 0x1a1ff6c9b0>, 'renew': <gensim.models.keyedvectors.Vocab object at 0x1a1ff6c9e8>, 'their': <gensim.models.keyedvectors.Vocab object at 0x1a1ff6ca20>, 'visas': <gensim.models.keyedvectors.Vocab object at 0x1a1ff6ca58>, 'at': <gensim.models.keyedvectors.Vocab object at 0x1a1ff6ca90>, 'population': <gensim.models.keyedvectors.Vocab object at 0x1a1ff6cac8>, 'immigration': <gensim.models.keyedvectors.Vocab object at 0x1a1ff6cb00>, 'authority': <gensim.models.keyedvectors.Vocab object at 0x1a1ff6cb38>, 'office': <gensim.models.keyedvectors.Vocab object at 0x1a1ff6cb70>, 'bnei': <gensim.models.keyedvectors.Vocab object at 0x1a1ff6cba8>, 'brak': <gensim.models.keyedvectors.Vocab object at 0x1a1ff6cbe0>, 'most': <gensim.models.keyedvectors.Vocab object at 0x1a1ff6cc18>, 'refugees': <gensim.models.keyedvectors.Vocab object at 0x1a1ff6cc50>, 'need': <gensim.models.keyedvectors.Vocab object at 0x1a1ff6cc88>, 'every': <gensim.models.keyedvectors.Vocab object at 0x1a1ff6ccc0>, 'two': <gensim.models.keyedvectors.Vocab object at 0x1a1ff6ccf8>, 'months': <gensim.models.keyedvectors.Vocab object at 0x1a1ff6cd30>, 'rw': <gensim.models.keyedvectors.Vocab object at 0x1a1ff6cd68>, 'images': <gensim.models.keyedvectors.Vocab object at 0x1a1ff6cda0>, 'jpg': <gensim.models.keyedvectors.Vocab object at 0x1a1ff6cdd8>, 'ec': <gensim.models.keyedvectors.Vocab object at 0x1a1ff6ce10>, 'jgseeivpcejcv': <gensim.models.keyedvectors.Vocab object at 0x1a1ff6ce48>, 'photo': <gensim.models.keyedvectors.Vocab object at 0x1a1ff6ce80>, 'washpost': <gensim.models.keyedvectors.Vocab object at 0x1a1ff6ceb8>, 'none': <gensim.models.keyedvectors.Vocab object at 0x1a1ff6cef0>, 'netanyahus': <gensim.models.keyedvectors.Vocab object at 0x1a1ff6cf28>, 'section': <gensim.models.keyedvectors.Vocab object at 0x1a1ff6cf60>, 'ruth': <gensim.models.keyedvectors.Vocab object at 0x1a1ff6cf98>, 'eglash': <gensim.models.keyedvectors.Vocab object at 0x1a1ff6cfd0>, 'culture': <gensim.models.keyedvectors.Vocab object at 0x1a1f030048>, 'capital': <gensim.models.keyedvectors.Vocab object at 0x1a1f030080>, 'all': <gensim.models.keyedvectors.Vocab object at 0x1a1f0300b8>, 'df_story': <gensim.models.keyedvectors.Vocab object at 0x1a1f0300f0>, 'html': <gensim.models.keyedvectors.Vocab object at 0x1a1f030128>, 'already': <gensim.models.keyedvectors.Vocab object at 0x1a1f030160>, 'over': <gensim.models.keyedvectors.Vocab object at 0x1a1f030198>, 'political': <gensim.models.keyedvectors.Vocab object at 0x1a1f0301d0>, 'media': <gensim.models.keyedvectors.Vocab object at 0x1a1f030208>, 'class': <gensim.models.keyedvectors.Vocab object at 0x1a1f030240>, 'span': <gensim.models.keyedvectors.Vocab object at 0x1a1f030278>, 'jerusalem': <gensim.models.keyedvectors.Vocab object at 0x1a1f0302b0>, 'minister': <gensim.models.keyedvectors.Vocab object at 0x1a1f0302e8>, 'href': <gensim.models.keyedvectors.Vocab object at 0x1a1f030320>, 'un': <gensim.models.keyedvectors.Vocab object at 0x1a1f030358>, 'deal': <gensim.models.keyedvectors.Vocab object at 0x1a1f030390>, 'resettle': <gensim.models.keyedvectors.Vocab object at 0x1a1f0303c8>, 'bf': <gensim.models.keyedvectors.Vocab object at 0x1a1f030400>, 'utm_term': <gensim.models.keyedvectors.Vocab object at 0x1a1f030438>, 'shape': <gensim.models.keyedvectors.Vocab object at 0x1a1f030470>, 'rect': <gensim.models.keyedvectors.Vocab object at 0x1a1f0304a8>, 'title': <gensim.models.keyedvectors.Vocab object at 0x1a1f0304e0>, 'decision': <gensim.models.keyedvectors.Vocab object at 0x1a1f030518>, 'just': <gensim.models.keyedvectors.Vocab object at 0x1a1f030550>, 'after': <gensim.models.keyedvectors.Vocab object at 0x1a1f030588>, 'it': <gensim.models.keyedvectors.Vocab object at 0x1a1f0305c0>, 'his': <gensim.models.keyedvectors.Vocab object at 0x1a1f0305f8>, 'said': <gensim.models.keyedvectors.Vocab object at 0x1a1f030630>, 'he': <gensim.models.keyedvectors.Vocab object at 0x1a1f030668>, 'this': <gensim.models.keyedvectors.Vocab object at 0x1a1f0306a0>, 'what': <gensim.models.keyedvectors.Vocab object at 0x1a1f0306d8>, 'had': <gensim.models.keyedvectors.Vocab object at 0x1a1f030710>, 'called': <gensim.models.keyedvectors.Vocab object at 0x1a1f030748>, 'an': <gensim.models.keyedvectors.Vocab object at 0x1a1f030780>, 'with': <gensim.models.keyedvectors.Vocab object at 0x1a1f0307b8>, 'united': <gensim.models.keyedvectors.Vocab object at 0x1a1f0307f0>, 'nations': <gensim.models.keyedvectors.Vocab object at 0x1a1f030828>, 'deport': <gensim.models.keyedvectors.Vocab object at 0x1a1f030860>, 'countries': <gensim.models.keyedvectors.Vocab object at 0x1a1f030898>, 'however': <gensim.models.keyedvectors.Vocab object at 0x1a1f0308d0>, 'that': <gensim.models.keyedvectors.Vocab object at 0x1a1f030908>, 'says': <gensim.models.keyedvectors.Vocab object at 0x1a1f030940>, 'has': <gensim.models.keyedvectors.Vocab object at 0x1a1f030978>, 'also': <gensim.models.keyedvectors.Vocab object at 0x1a1f0309b0>, 'as': <gensim.models.keyedvectors.Vocab object at 0x1a1f0309e8>, 'might': <gensim.models.keyedvectors.Vocab object at 0x1a1f030a20>, 'be': <gensim.models.keyedvectors.Vocab object at 0x1a1f030a58>, 'year': <gensim.models.keyedvectors.Vocab object at 0x1a1f030a90>, 'but': <gensim.models.keyedvectors.Vocab object at 0x1a1f030ac8>, 'third': <gensim.models.keyedvectors.Vocab object at 0x1a1f030b00>, 'have': <gensim.models.keyedvectors.Vocab object at 0x1a1f030b38>, 'party': <gensim.models.keyedvectors.Vocab object at 0x1a1f030b70>, 'channel': <gensim.models.keyedvectors.Vocab object at 0x1a1f030ba8>, 'wp': <gensim.models.keyedvectors.Vocab object at 0x1a1f030be0>, 'interstitial': <gensim.models.keyedvectors.Vocab object at 0x1a1f030c18>, 'link': <gensim.models.keyedvectors.Vocab object at 0x1a1f030c50>, 'these': <gensim.models.keyedvectors.Vocab object at 0x1a1f030c88>, 'could': <gensim.models.keyedvectors.Vocab object at 0x1a1f030cc0>, 'back': <gensim.models.keyedvectors.Vocab object at 0x1a1f030cf8>, 'country': <gensim.models.keyedvectors.Vocab object at 0x1a1f030d30>, 'they': <gensim.models.keyedvectors.Vocab object at 0x1a1f030d68>, 'do': <gensim.models.keyedvectors.Vocab object at 0x1a1f030da0>, 'not': <gensim.models.keyedvectors.Vocab object at 0x1a1f030dd8>, 'div': <gensim.models.keyedvectors.Vocab object at 0x1a1f030e10>, 'last': <gensim.models.keyedvectors.Vocab object at 0x1a1f030e48>, 'government': <gensim.models.keyedvectors.Vocab object at 0x1a1f030e80>, 'is': <gensim.models.keyedvectors.Vocab object at 0x1a1f030eb8>, 'now': <gensim.models.keyedvectors.Vocab object at 0x1a1f030ef0>, 'its': <gensim.models.keyedvectors.Vocab object at 0x1a1f030f28>, 'from': <gensim.models.keyedvectors.Vocab object at 0x1a1f030f60>, 'will': <gensim.models.keyedvectors.Vocab object at 0x1a1f030f98>, 'when': <gensim.models.keyedvectors.Vocab object at 0x1a1f030fd0>, 'professor': <gensim.models.keyedvectors.Vocab object at 0x1a1fdc2048>, 'university': <gensim.models.keyedvectors.Vocab object at 0x1a1fdc2080>, 'or': <gensim.models.keyedvectors.Vocab object at 0x1a1fdc20b8>, 'issues': <gensim.models.keyedvectors.Vocab object at 0x1a1fdc20f0>, 'those': <gensim.models.keyedvectors.Vocab object at 0x1a1fdc2128>, 'who': <gensim.models.keyedvectors.Vocab object at 0x1a1fdc2160>, 'some': <gensim.models.keyedvectors.Vocab object at 0x1a1fdc2198>, 'more': <gensim.models.keyedvectors.Vocab object at 0x1a1fdc21d0>, 'one': <gensim.models.keyedvectors.Vocab object at 0x1a1fdc2208>, 'them': <gensim.models.keyedvectors.Vocab object at 0x1a1fdc2240>, 'better': <gensim.models.keyedvectors.Vocab object at 0x1a1fdc2278>, 'life': <gensim.models.keyedvectors.Vocab object at 0x1a1fdc22b0>, 'international': <gensim.models.keyedvectors.Vocab object at 0x1a1fdc22e8>, 'make': <gensim.models.keyedvectors.Vocab object at 0x1a1fdc2320>, 'up': <gensim.models.keyedvectors.Vocab object at 0x1a1fdc2358>, 'high': <gensim.models.keyedvectors.Vocab object at 0x1a1fdc2390>, 'such': <gensim.models.keyedvectors.Vocab object at 0x1a1fdc23c8>, 'by': <gensim.models.keyedvectors.Vocab object at 0x1a1fdc2400>, 'about': <gensim.models.keyedvectors.Vocab object at 0x1a1fdc2438>, 'get': <gensim.models.keyedvectors.Vocab object at 0x1a1fdc2470>, 'new': <gensim.models.keyedvectors.Vocab object at 0x1a1fdc24a8>, 'even': <gensim.models.keyedvectors.Vocab object at 0x1a1fdc24e0>, 'education': <gensim.models.keyedvectors.Vocab object at 0x1a1fdc2518>, 'home': <gensim.models.keyedvectors.Vocab object at 0x1a1fdc2550>, 'people': <gensim.models.keyedvectors.Vocab object at 0x1a1fdc2588>, 'would': <gensim.models.keyedvectors.Vocab object at 0x1a1fdc25c0>, 'into': <gensim.models.keyedvectors.Vocab object at 0x1a1fdc25f8>, 'then': <gensim.models.keyedvectors.Vocab object at 0x1a1fdc2630>, 'own': <gensim.models.keyedvectors.Vocab object at 0x1a1fdc2668>, 'out': <gensim.models.keyedvectors.Vocab object at 0x1a1fdc26a0>, 'she': <gensim.models.keyedvectors.Vocab object at 0x1a1fdc26d8>, 'was': <gensim.models.keyedvectors.Vocab object at 0x1a1fdc2710>, 'very': <gensim.models.keyedvectors.Vocab object at 0x1a1fdc2748>, 'policy': <gensim.models.keyedvectors.Vocab object at 0x1a1fdc2780>, 'because': <gensim.models.keyedvectors.Vocab object at 0x1a1fdc27b8>, 'been': <gensim.models.keyedvectors.Vocab object at 0x1a1fdc27f0>, 'we': <gensim.models.keyedvectors.Vocab object at 0x1a1fdc2828>, 'does': <gensim.models.keyedvectors.Vocab object at 0x1a1fdc2860>, 'much': <gensim.models.keyedvectors.Vocab object at 0x1a1fdc2898>, 'trump': <gensim.models.keyedvectors.Vocab object at 0x1a1fdc28d0>, 'time': <gensim.models.keyedvectors.Vocab object at 0x1a1fdc2908>, 'so': <gensim.models.keyedvectors.Vocab object at 0x1a1fdc2940>, 'if': <gensim.models.keyedvectors.Vocab object at 0x1a1fdc2978>, 'were': <gensim.models.keyedvectors.Vocab object at 0x1a1fdc29b0>, 'years': <gensim.models.keyedvectors.Vocab object at 0x1a1fdc29e8>, 'like': <gensim.models.keyedvectors.Vocab object at 0x1a1fdc2a20>, 'slug': <gensim.models.keyedvectors.Vocab object at 0x1a1fdc2a58>, 'many': <gensim.models.keyedvectors.Vocab object at 0x1a1fdc2a90>, 'according': <gensim.models.keyedvectors.Vocab object at 0x1a1fdc2ac8>, 'credit': <gensim.models.keyedvectors.Vocab object at 0x1a1fdc2b00>, 'url': <gensim.models.keyedvectors.Vocab object at 0x1a1fdc2b38>, 'inline': <gensim.models.keyedvectors.Vocab object at 0x1a1fdc2b70>, 'content': <gensim.models.keyedvectors.Vocab object at 0x1a1fdc2ba8>, 'src': <gensim.models.keyedvectors.Vocab object at 0x1a1fdc2be0>, 'image_': <gensim.models.keyedvectors.Vocab object at 0x1a1fdc2c18>, 'data': <gensim.models.keyedvectors.Vocab object at 0x1a1fdc2c50>, 'res': <gensim.models.keyedvectors.Vocab object at 0x1a1fdc2c88>, 'low': <gensim.models.keyedvectors.Vocab object at 0x1a1fdc2cc0>, 'raw': <gensim.models.keyedvectors.Vocab object at 0x1a1fdc2cf8>, 'role': <gensim.models.keyedvectors.Vocab object at 0x1a1fdc2d30>, 'correspondent': <gensim.models.keyedvectors.Vocab object at 0x1a1fdc2d68>, 'college': <gensim.models.keyedvectors.Vocab object at 0x1a1fdc2da0>, 'reporter': <gensim.models.keyedvectors.Vocab object at 0x1a1fdc2dd8>, 'senior': <gensim.models.keyedvectors.Vocab object at 0x1a1fdc2e10>, 'editor': <gensim.models.keyedvectors.Vocab object at 0x1a1fdc2e48>, 'reglash': <gensim.models.keyedvectors.Vocab object at 0x1a1fdc2e80>, 'worked': <gensim.models.keyedvectors.Vocab object at 0x1a1fdc2eb8>, 'since': <gensim.models.keyedvectors.Vocab object at 0x1a1fdc2ef0>, 'during': <gensim.models.keyedvectors.Vocab object at 0x1a1fdc2f28>, 'covered': <gensim.models.keyedvectors.Vocab object at 0x1a1fdc2f60>, 'other': <gensim.models.keyedvectors.Vocab object at 0x1a1fdc2f98>, 'her': <gensim.models.keyedvectors.Vocab object at 0x1a1fdc2fd0>, 'women': <gensim.models.keyedvectors.Vocab object at 0x1a1ff2f048>, 'first': <gensim.models.keyedvectors.Vocab object at 0x1a1ff2f080>, 'reporting': <gensim.models.keyedvectors.Vocab object at 0x1a1ff2f0b8>, 'work': <gensim.models.keyedvectors.Vocab object at 0x1a1ff2f0f0>, 'live': <gensim.models.keyedvectors.Vocab object at 0x1a1ff2f128>, 'netflix': <gensim.models.keyedvectors.Vocab object at 0x1a1ff2f160>, 'everything': <gensim.models.keyedvectors.Vocab object at 0x1a1ff2f198>, 'sucks': <gensim.models.keyedvectors.Vocab object at 0x1a1ff2f1d0>, 'review': <gensim.models.keyedvectors.Vocab object at 0x1a1ff2f208>, 'hank': <gensim.models.keyedvectors.Vocab object at 0x1a1ff2f240>, 'stuever': <gensim.models.keyedvectors.Vocab object at 0x1a1ff2f278>, 'tv': <gensim.models.keyedvectors.Vocab object at 0x1a1ff2f2b0>, 'show': <gensim.models.keyedvectors.Vocab object at 0x1a1ff2f2e8>, 'av': <gensim.models.keyedvectors.Vocab object at 0x1a1ff2f320>, 'club': <gensim.models.keyedvectors.Vocab object at 0x1a1ff2f358>, 'nice': <gensim.models.keyedvectors.Vocab object at 0x1a1ff2f390>, 'see': <gensim.models.keyedvectors.Vocab object at 0x1a1ff2f3c8>, 'instead': <gensim.models.keyedvectors.Vocab object at 0x1a1ff2f400>, 'clunky': <gensim.models.keyedvectors.Vocab object at 0x1a1ff2f438>, 'dial': <gensim.models.keyedvectors.Vocab object at 0x1a1ff2f470>, 'entertainment': <gensim.models.keyedvectors.Vocab object at 0x1a1ff2f4a8>, 'television': <gensim.models.keyedvectors.Vocab object at 0x1a1ff2f4e0>, 'critic': <gensim.models.keyedvectors.Vocab object at 0x1a1ff2f518>, 'style': <gensim.models.keyedvectors.Vocab object at 0x1a1ff2f550>, 'can': <gensim.models.keyedvectors.Vocab object at 0x1a1ff2f588>, 'story': <gensim.models.keyedvectors.Vocab object at 0x1a1ff2f5c0>, 'es_': <gensim.models.keyedvectors.Vocab object at 0x1a1ff2f5f8>, 'eeioochzh': <gensim.models.keyedvectors.Vocab object at 0x1a1ff2f630>, 'd_g': <gensim.models.keyedvectors.Vocab object at 0x1a1ff2f668>, 'scott': <gensim.models.keyedvectors.Vocab object at 0x1a1ff2f6a0>, 'patrick': <gensim.models.keyedvectors.Vocab object at 0x1a1ff2f6d8>, 'green': <gensim.models.keyedvectors.Vocab object at 0x1a1ff2f710>, 'no': <gensim.models.keyedvectors.Vocab object at 0x1a1ff2f748>, 'here': <gensim.models.keyedvectors.Vocab object at 0x1a1ff2f780>, 'school': <gensim.models.keyedvectors.Vocab object at 0x1a1ff2f7b8>, 'there': <gensim.models.keyedvectors.Vocab object at 0x1a1ff2f7f0>, 'really': <gensim.models.keyedvectors.Vocab object at 0x1a1ff2f828>, 'place': <gensim.models.keyedvectors.Vocab object at 0x1a1ff2f860>, 'which': <gensim.models.keyedvectors.Vocab object at 0x1a1ff2f898>, 'you': <gensim.models.keyedvectors.Vocab object at 0x1a1ff2f8d0>, 'day': <gensim.models.keyedvectors.Vocab object at 0x1a1ff2f908>, 'my': <gensim.models.keyedvectors.Vocab object at 0x1a1ff2f940>, 'mother': <gensim.models.keyedvectors.Vocab object at 0x1a1ff2f978>, 'got': <gensim.models.keyedvectors.Vocab object at 0x1a1ff2f9b0>, 'only': <gensim.models.keyedvectors.Vocab object at 0x1a1ff2f9e8>, 'hard': <gensim.models.keyedvectors.Vocab object at 0x1a1ff2fa20>, 'paper': <gensim.models.keyedvectors.Vocab object at 0x1a1ff2fa58>, 'where': <gensim.models.keyedvectors.Vocab object at 0x1a1ff2fa90>, 'camp': <gensim.models.keyedvectors.Vocab object at 0x1a1ff2fac8>, 'cornell': <gensim.models.keyedvectors.Vocab object at 0x1a1ff2fb00>, 'ahmed': <gensim.models.keyedvectors.Vocab object at 0x1a1ff2fb38>, 'grades': <gensim.models.keyedvectors.Vocab object at 0x1a1ff2fb70>, 'help': <gensim.models.keyedvectors.Vocab object at 0x1a1ff2fba8>, 'how': <gensim.models.keyedvectors.Vocab object at 0x1a1ff2fbe0>, 'family': <gensim.models.keyedvectors.Vocab object at 0x1a1ff2fc18>, 'top': <gensim.models.keyedvectors.Vocab object at 0x1a1ff2fc50>, 'students': <gensim.models.keyedvectors.Vocab object at 0x1a1ff2fc88>, 'didn': <gensim.models.keyedvectors.Vocab object at 0x1a1ff2fcc0>, 'him': <gensim.models.keyedvectors.Vocab object at 0x1a1ff2fcf8>, 'find': <gensim.models.keyedvectors.Vocab object at 0x1a1ff2fd30>, 'parents': <gensim.models.keyedvectors.Vocab object at 0x1a1ff2fd68>, 'coates': <gensim.models.keyedvectors.Vocab object at 0x1a1ff2fda0>, 'al': <gensim.models.keyedvectors.Vocab object at 0x1a1ff2fdd8>, 'viernes': <gensim.models.keyedvectors.Vocab object at 0x1a1ff2fe10>, 'en': <gensim.models.keyedvectors.Vocab object at 0x1a1ff2fe48>, 'las': <gensim.models.keyedvectors.Vocab object at 0x1a1ff2fe80>, 'que': <gensim.models.keyedvectors.Vocab object at 0x1a1ff2feb8>, 'palestinos': <gensim.models.keyedvectors.Vocab object at 0x1a1ff2fef0>, 'se': <gensim.models.keyedvectors.Vocab object at 0x1a1ff2ff28>, 'israelíes': <gensim.models.keyedvectors.Vocab object at 0x1a1ff2ff60>, 'de': <gensim.models.keyedvectors.Vocab object at 0x1a1ff2ff98>, 'para': <gensim.models.keyedvectors.Vocab object at 0x1a1ff2ffd0>, 'por': <gensim.models.keyedvectors.Vocab object at 0x1a1ff5c048>, 'la': <gensim.models.keyedvectors.Vocab object at 0x1a1ff5c080>, 'decisión': <gensim.models.keyedvectors.Vocab object at 0x1a1ff5c0b8>, 'estados': <gensim.models.keyedvectors.Vocab object at 0x1a1ff5c0f0>, 'unidos': <gensim.models.keyedvectors.Vocab object at 0x1a1ff5c128>, 'jerusalén': <gensim.models.keyedvectors.Vocab object at 0x1a1ff5c160>, 'como': <gensim.models.keyedvectors.Vocab object at 0x1a1ff5c198>, 'del': <gensim.models.keyedvectors.Vocab object at 0x1a1ff5c1d0>, 'el': <gensim.models.keyedvectors.Vocab object at 0x1a1ff5c208>, 'los': <gensim.models.keyedvectors.Vocab object at 0x1a1ff5c240>, 'con': <gensim.models.keyedvectors.Vocab object at 0x1a1ff5c278>, 'gaza': <gensim.models.keyedvectors.Vocab object at 0x1a1ff5c2b0>, 'israelí': <gensim.models.keyedvectors.Vocab object at 0x1a1ff5c2e8>, 'dijo': <gensim.models.keyedvectors.Vocab object at 0x1a1ff5c320>, 'su': <gensim.models.keyedvectors.Vocab object at 0x1a1ff5c358>, 'paz': <gensim.models.keyedvectors.Vocab object at 0x1a1ff5c390>, 'consejo': <gensim.models.keyedvectors.Vocab object at 0x1a1ff5c3c8>, 'seguridad': <gensim.models.keyedvectors.Vocab object at 0x1a1ff5c400>, 'financial': <gensim.models.keyedvectors.Vocab object at 0x1a1ff5c438>, 'advisors': <gensim.models.keyedvectors.Vocab object at 0x1a1ff5c4a8>, 'planners': <gensim.models.keyedvectors.Vocab object at 0x1a1ff5c470>, 'divorce': <gensim.models.keyedvectors.Vocab object at 0x1a1ff5c4e0>, 'clients': <gensim.models.keyedvectors.Vocab object at 0x1a1ff5c518>, 'reckers': <gensim.models.keyedvectors.Vocab object at 0x1a1ff5c550>, 'advisor': <gensim.models.keyedvectors.Vocab object at 0x1a1ff5c588>, 'explains': <gensim.models.keyedvectors.Vocab object at 0x1a1ff5c5c0>, 'spouse': <gensim.models.keyedvectors.Vocab object at 0x1a1ff5c5f8>, 'client': <gensim.models.keyedvectors.Vocab object at 0x1a1ff5c630>, 'money': <gensim.models.keyedvectors.Vocab object at 0x1a1ff5c668>, 'tax': <gensim.models.keyedvectors.Vocab object at 0x1a1ff5c6a0>}\n"
     ]
    }
   ],
   "source": [
    "print(model_test.wv.vocab)"
   ]
  },
  {
   "cell_type": "code",
   "execution_count": 82,
   "metadata": {},
   "outputs": [],
   "source": [
    "# this will take SEVERAL HOURS\n",
    "model = Word2Vec(preprocessed, iter=3, size=50, workers=4) # num dimensions = 50\n",
    "    "
   ]
  },
  {
   "cell_type": "code",
   "execution_count": 83,
   "metadata": {},
   "outputs": [],
   "source": [
    "# model_test.wv.save_word2vec_format('article_embed_test.txt', binary=False)\n",
    "# this will also take a while\n",
    "model.wv.save_word2vec_format('article_embed.txt', binary=False)\n",
    "\n"
   ]
  }
 ],
 "metadata": {
  "kernelspec": {
   "display_name": "Python 3",
   "language": "python",
   "name": "python3"
  },
  "language_info": {
   "codemirror_mode": {
    "name": "ipython",
    "version": 3
   },
   "file_extension": ".py",
   "mimetype": "text/x-python",
   "name": "python",
   "nbconvert_exporter": "python",
   "pygments_lexer": "ipython3",
   "version": "3.6.4"
  }
 },
 "nbformat": 4,
 "nbformat_minor": 2
}
