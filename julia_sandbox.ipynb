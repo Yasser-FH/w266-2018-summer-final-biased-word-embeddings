{
 "cells": [
  {
   "cell_type": "markdown",
   "metadata": {},
   "source": [
    "### Initialize"
   ]
  },
  {
   "cell_type": "code",
   "execution_count": 1,
   "metadata": {},
   "outputs": [
    {
     "name": "stderr",
     "output_type": "stream",
     "text": [
      "/home/juliab/anaconda3/lib/python3.6/site-packages/h5py/__init__.py:36: FutureWarning: Conversion of the second argument of issubdtype from `float` to `np.floating` is deprecated. In future, it will be treated as `np.float64 == np.dtype(float).type`.\n",
      "  from ._conv import register_converters as _register_converters\n"
     ]
    }
   ],
   "source": [
    "# Install a few python packages using pip\n",
    "#from w266_common import utils\n",
    "#utils.require_package(\"wget\")      # for fetching dataset\n",
    "\n",
    "# Standard python helper libraries.\n",
    "import os, sys, re, json, time\n",
    "import itertools, collections\n",
    "from importlib import reload\n",
    "from IPython.display import display\n",
    "\n",
    "# NumPy and SciPy for matrix ops\n",
    "import numpy as np\n",
    "import scipy.sparse\n",
    "\n",
    "# Visualize\n",
    "import matplotlib.pyplot as plt\n",
    "\n",
    "# NLTK for NLP utils\n",
    "import nltk\n",
    "\n",
    "# PCA \n",
    "from sklearn.decomposition import PCA\n",
    "\n",
    "# Helper libraries\n",
    "from w266_common import utils, vocabulary, tf_embed_viz"
   ]
  },
  {
   "cell_type": "markdown",
   "metadata": {},
   "source": [
    "### Import GloVe dataset\n",
    "Contains 6B tokens from Wikipedia 2014 + Gigawords 5.\n",
    "\n",
    "(will take a while to run)"
   ]
  },
  {
   "cell_type": "code",
   "execution_count": 2,
   "metadata": {},
   "outputs": [
    {
     "name": "stdout",
     "output_type": "stream",
     "text": [
      "Loading vectors from data/glove/glove.6B.zip\n",
      "Parsing file: data/glove/glove.6B.zip:glove.6B.100d.txt\n",
      "Found 400,000 words.\n",
      "Parsing vectors... Done! (W.shape = (400003, 100))\n"
     ]
    }
   ],
   "source": [
    "import glove_helper; reload(glove_helper)\n",
    "\n",
    "hands = glove_helper.Hands(ndim=100)  # 50, 100, 200, 300 dim are available"
   ]
  },
  {
   "cell_type": "code",
   "execution_count": 3,
   "metadata": {},
   "outputs": [],
   "source": [
    "import vector_math; reload(vector_math)\n",
    "\n",
    "def show_nns(hands, word, k=10):\n",
    "    \"\"\"Helper function to print neighbors of a given word.\"\"\"\n",
    "    word = word.lower()\n",
    "    print(\"Nearest neighbors for '{:s}'\".format(word))\n",
    "    v = hands.get_vector(word)\n",
    "    for i, sim in zip(*vector_math.find_nn_cos(v, hands.W, k)):\n",
    "        target_word = hands.vocab.id_to_word[i]\n",
    "        print(\"{:.03f} : '{:s}'\".format(sim, target_word))\n",
    "    print(\"\")\n",
    "    \n",
    "def show_analogy(hands, a, b, c, k=5):\n",
    "    \"\"\"Compute and print a vector analogy.\"\"\"\n",
    "    a, b, c = a.lower(), b.lower(), c.lower()\n",
    "    va = hands.get_vector(a)\n",
    "    vb = hands.get_vector(b)\n",
    "    vc = hands.get_vector(c)\n",
    "    print(\"'{a:s}' is to '{b:s}' as '{c:s}' is to ___\".format(**locals()))\n",
    "    for i, sim in zip(*vector_math.analogy(va, vb, vc, hands.W, k)):\n",
    "        target_word = hands.vocab.id_to_word[i]\n",
    "        print(\"{:.03f} : '{:s}'\".format(sim, target_word))\n",
    "    print(\"\")\n"
   ]
  },
  {
   "cell_type": "markdown",
   "metadata": {},
   "source": [
    "## PCA"
   ]
  },
  {
   "cell_type": "code",
   "execution_count": 4,
   "metadata": {},
   "outputs": [],
   "source": [
    "# first check on gender pairs\n",
    "# length = 9\n",
    "gender_pairs = [(\"she\",\"he\"),(\"her\",\"his\"),(\"woman\",\"man\"),\n",
    "                (\"herself\",\"himself\"),(\"daughter\",\"son\"),(\"mother\",\"father\"),\n",
    "                (\"gal\",\"guy\"),(\"girl\",\"boy\"),(\"female\",\"male\")]\n",
    "\n",
    "# Mary not found in vocabulary??\n",
    "# length = 10\n",
    "gender_pairs_orig = [(\"she\",\"he\"),(\"her\",\"his\"),(\"woman\",\"man\"),(\"Mary\",\"John\"),\n",
    "                (\"herself\",\"himself\"),(\"daughter\",\"son\"),(\"mother\",\"father\"),\n",
    "                (\"gal\",\"guy\"),(\"girl\",\"boy\"),(\"female\",\"male\")]\n"
   ]
  },
  {
   "cell_type": "code",
   "execution_count": 5,
   "metadata": {},
   "outputs": [],
   "source": [
    "# get embedding of a word\n",
    "def get_embed(a):\n",
    "    return hands.get_vector(a)\n",
    "\n",
    "# calculate difference of vectors to determine bias direction\n",
    "# a and b are strings\n",
    "def get_diff(a,b):\n",
    "    return(get_embed(a) - get_embed(b))\n",
    "\n",
    "def get_diffs(l):\n",
    "    return [get_diff(a,b) for a,b in l]\n",
    "\n",
    "# plot top two principal components....\n",
    "# create a scatter plot of the projection\n",
    "def plot_2d(pcs,words):\n",
    "    plt.scatter(pcs[:, 0], pcs[:, 1])\n",
    "    for i, word in enumerate(words):\n",
    "        plt.annotate(word, xy=(pcs[i, 0], pcs[i, 1]))\n",
    "    plt.show()"
   ]
  },
  {
   "cell_type": "markdown",
   "metadata": {},
   "source": [
    "### Gender PCA"
   ]
  },
  {
   "cell_type": "code",
   "execution_count": 6,
   "metadata": {},
   "outputs": [],
   "source": [
    "diffs_gen = get_diffs(gender_pairs)"
   ]
  },
  {
   "cell_type": "code",
   "execution_count": 7,
   "metadata": {},
   "outputs": [],
   "source": [
    "pca_gen = PCA(n_components=10)"
   ]
  },
  {
   "cell_type": "code",
   "execution_count": 8,
   "metadata": {},
   "outputs": [],
   "source": [
    "result_polit = pca_gen.fit_transform(diffs_gen)"
   ]
  },
  {
   "cell_type": "markdown",
   "metadata": {},
   "source": [
    "Explained variance seems approximately consistent with paper. They show first component right around 60% of explained variance, second at maybe 13%, third at 10%, 4%, and then dropoff to very small. \n",
    "\n",
    "We get 60%, 17%, 7%, 6%.... "
   ]
  },
  {
   "cell_type": "code",
   "execution_count": 9,
   "metadata": {},
   "outputs": [
    {
     "data": {
      "text/plain": [
       "(9, 9)"
      ]
     },
     "execution_count": 9,
     "metadata": {},
     "output_type": "execute_result"
    }
   ],
   "source": [
    "result_polit.shape # All variance explained in 9 PCs."
   ]
  },
  {
   "cell_type": "code",
   "execution_count": 10,
   "metadata": {
    "scrolled": true
   },
   "outputs": [
    {
     "name": "stdout",
     "output_type": "stream",
     "text": [
      "[5.99730564e-01 1.67434544e-01 7.53068220e-02 6.45831901e-02\n",
      " 4.40725264e-02 2.16965765e-02 1.71100518e-02 1.00657256e-02\n",
      " 1.72871980e-32]\n",
      "1.0\n"
     ]
    }
   ],
   "source": [
    "print(pca_gen.explained_variance_ratio_)\n",
    "print(sum(pca_gen.explained_variance_ratio_))"
   ]
  },
  {
   "cell_type": "code",
   "execution_count": 11,
   "metadata": {
    "scrolled": true
   },
   "outputs": [
    {
     "data": {
      "text/plain": [
       "<Container object of 9 artists>"
      ]
     },
     "execution_count": 11,
     "metadata": {},
     "output_type": "execute_result"
    },
    {
     "data": {
      "image/png": "[encoded data removed]",
      "text/plain": [
       "<matplotlib.figure.Figure at 0x7eff54677550>"
      ]
     },
     "metadata": {},
     "output_type": "display_data"
    }
   ],
   "source": [
    "plt.bar(range(result_polit.shape[0]),pca_gen.explained_variance_ratio_)"
   ]
  },
  {
   "cell_type": "code",
   "execution_count": 12,
   "metadata": {},
   "outputs": [
    {
     "data": {
      "image/png": "[encoded data removed]",
      "text/plain": [
       "<matplotlib.figure.Figure at 0x7eff5cc90978>"
      ]
     },
     "metadata": {},
     "output_type": "display_data"
    }
   ],
   "source": [
    "plot_2d(result_polit,gender_pairs)"
   ]
  },
  {
   "cell_type": "markdown",
   "metadata": {},
   "source": [
    "### Political PCA"
   ]
  },
  {
   "cell_type": "code",
   "execution_count": 13,
   "metadata": {},
   "outputs": [],
   "source": [
    "# start with the four we are most confident about\n",
    "polit_pairs = [(\"democrat\",\"republican\"),(\"liberal\",\"conservative\"),(\"liberalism\",\"conservatism\"),\n",
    "               (\"left-wing\",\"right-wing\")]\n",
    "\n",
    "polit_pairs_2 = [(\"democrat\",\"republican\"),(\"liberal\",\"conservative\"),(\"liberalism\",\"conservatism\"),\n",
    "               (\"left-wing\",\"right-wing\"),(\"donkey\",\"elephant\")]"
   ]
  },
  {
   "cell_type": "code",
   "execution_count": 14,
   "metadata": {
    "scrolled": true
   },
   "outputs": [],
   "source": [
    "diffs_polit = get_diffs(polit_pairs_2) # update this between the two lists of pairs\n",
    "\n",
    "pca_polit = PCA(n_components=10)\n",
    "\n",
    "result_polit = pca_polit.fit_transform(diffs_polit)"
   ]
  },
  {
   "cell_type": "code",
   "execution_count": 15,
   "metadata": {
    "scrolled": true
   },
   "outputs": [
    {
     "name": "stdout",
     "output_type": "stream",
     "text": [
      "(5, 5)\n"
     ]
    }
   ],
   "source": [
    "print(result_polit.shape) # All variance explained in few dimensions - this in itself may be interesting?"
   ]
  },
  {
   "cell_type": "markdown",
   "metadata": {},
   "source": [
    "With just `polit_pairs`, we get 4 PCs with the following percentages of explained variance: 52%, 30%, 17%, and very small. If we add in \"donkey\" and \"elephant\" to `polit_pairs_2` just for kicks, we get 5 PCs with: 59%, 22%, 12%, 7%, and very small. Does this make sense?"
   ]
  },
  {
   "cell_type": "code",
   "execution_count": 16,
   "metadata": {
    "scrolled": false
   },
   "outputs": [
    {
     "name": "stdout",
     "output_type": "stream",
     "text": [
      "[5.87667034e-01 2.15656574e-01 1.24597618e-01 7.20787733e-02\n",
      " 9.68888656e-33]\n",
      "1.0\n"
     ]
    }
   ],
   "source": [
    "print(pca_polit.explained_variance_ratio_)\n",
    "print(sum(pca_polit.explained_variance_ratio_))"
   ]
  },
  {
   "cell_type": "code",
   "execution_count": 17,
   "metadata": {
    "scrolled": true
   },
   "outputs": [
    {
     "data": {
      "text/plain": [
       "<Container object of 5 artists>"
      ]
     },
     "execution_count": 17,
     "metadata": {},
     "output_type": "execute_result"
    },
    {
     "data": {
      "image/png": "[encoded data removed]",
      "text/plain": [
       "<matplotlib.figure.Figure at 0x7eff455fa898>"
      ]
     },
     "metadata": {},
     "output_type": "display_data"
    }
   ],
   "source": [
    "# how do we know this is significant enough of a drop off?\n",
    "plt.bar(range(result_polit.shape[0]),pca_polit.explained_variance_ratio_)"
   ]
  },
  {
   "cell_type": "code",
   "execution_count": 18,
   "metadata": {},
   "outputs": [
    {
     "data": {
      "image/png": "[encoded data removed]",
      "text/plain": [
       "<matplotlib.figure.Figure at 0x7eff455f0d68>"
      ]
     },
     "metadata": {},
     "output_type": "display_data"
    }
   ],
   "source": [
    "plot_2d(result_polit,polit_pairs)"
   ]
  },
  {
   "cell_type": "code",
   "execution_count": null,
   "metadata": {},
   "outputs": [],
   "source": []
  }
 ],
 "metadata": {
  "kernelspec": {
   "display_name": "Python 3",
   "language": "python",
   "name": "python3"
  },
  "language_info": {
   "codemirror_mode": {
    "name": "ipython",
    "version": 3
   },
   "file_extension": ".py",
   "mimetype": "text/x-python",
   "name": "python",
   "nbconvert_exporter": "python",
   "pygments_lexer": "ipython3",
   "version": "3.6.4"
  }
 },
 "nbformat": 4,
 "nbformat_minor": 2
}
