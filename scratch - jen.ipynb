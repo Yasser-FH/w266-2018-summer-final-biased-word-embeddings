{
 "cells": [
  {
   "cell_type": "markdown",
   "metadata": {},
   "source": [
    "### Initialize"
   ]
  },
  {
   "cell_type": "code",
   "execution_count": 7,
   "metadata": {},
   "outputs": [
    {
     "name": "stderr",
     "output_type": "stream",
     "text": [
      "/Users/jenniferpodracky/anaconda3/lib/python3.6/site-packages/h5py/__init__.py:36: FutureWarning: Conversion of the second argument of issubdtype from `float` to `np.floating` is deprecated. In future, it will be treated as `np.float64 == np.dtype(float).type`.\n",
      "  from ._conv import register_converters as _register_converters\n"
     ]
    }
   ],
   "source": [
    "# Install a few python packages using pip\n",
    "#from w266_common import utils\n",
    "#utils.require_package(\"wget\")      # for fetching dataset\n",
    "\n",
    "# Standard python helper libraries.\n",
    "import os, sys, re, json, time\n",
    "import itertools, collections\n",
    "from importlib import reload\n",
    "from IPython.display import display\n",
    "\n",
    "# NumPy and SciPy for matrix ops\n",
    "import numpy as np\n",
    "import scipy.sparse\n",
    "\n",
    "# NLTK for NLP utils\n",
    "import nltk\n",
    "\n",
    "# Helper libraries\n",
    "from w266_common import utils, vocabulary, tf_embed_viz"
   ]
  },
  {
   "cell_type": "markdown",
   "metadata": {},
   "source": [
    "### Import GloVe dataset\n",
    "Contains 6B tokens from Wikipedia 2014 + Gigawords 5.\n",
    "\n",
    "(will take a while to run)"
   ]
  },
  {
   "cell_type": "code",
   "execution_count": 8,
   "metadata": {},
   "outputs": [
    {
     "name": "stdout",
     "output_type": "stream",
     "text": [
      "Downloading GloVe vectors to data/glove\n",
      "Loading vectors from data/glove/glove.6B.zip\n",
      "Parsing file: data/glove/glove.6B.zip:glove.6B.100d.txt\n",
      "Found 400,000 words.\n",
      "Parsing vectors... Done! (W.shape = (400003, 100))\n"
     ]
    }
   ],
   "source": [
    "import glove_helper; reload(glove_helper)\n",
    "\n",
    "hands = glove_helper.Hands(ndim=100)  # 50, 100, 200, 300 dim are available"
   ]
  },
  {
   "cell_type": "code",
   "execution_count": 14,
   "metadata": {},
   "outputs": [],
   "source": [
    "import vector_math; reload(vector_math)\n",
    "\n",
    "def show_nns(hands, word, k=10):\n",
    "    \"\"\"Helper function to print neighbors of a given word.\"\"\"\n",
    "    word = word.lower()\n",
    "    print(\"Nearest neighbors for '{:s}'\".format(word))\n",
    "    v = hands.get_vector(word)\n",
    "    for i, sim in zip(*vector_math.find_nn_cos(v, hands.W, k)):\n",
    "        target_word = hands.vocab.id_to_word[i]\n",
    "        print(\"{:.03f} : '{:s}'\".format(sim, target_word))\n",
    "    print(\"\")\n",
    "    \n",
    "def show_analogy(hands, a, b, c, k=5):\n",
    "    \"\"\"Compute and print a vector analogy.\"\"\"\n",
    "    a, b, c = a.lower(), b.lower(), c.lower()\n",
    "    va = hands.get_vector(a)\n",
    "    vb = hands.get_vector(b)\n",
    "    vc = hands.get_vector(c)\n",
    "    print(\"'{a:s}' is to '{b:s}' as '{c:s}' is to ___\".format(**locals()))\n",
    "    for i, sim in zip(*vector_math.analogy(va, vb, vc, hands.W, k)):\n",
    "        target_word = hands.vocab.id_to_word[i]\n",
    "        print(\"{:.03f} : '{:s}'\".format(sim, target_word))\n",
    "    print(\"\")\n"
   ]
  },
  {
   "cell_type": "code",
   "execution_count": 44,
   "metadata": {},
   "outputs": [
    {
     "name": "stdout",
     "output_type": "stream",
     "text": [
      "Nearest neighbors for 'white'\n",
      "0.768 : 'red'\n",
      "0.784 : 'gray'\n",
      "0.818 : 'brown'\n",
      "0.865 : 'black'\n",
      "1.000 : 'white'\n",
      "\n",
      "Nearest neighbors for 'black'\n",
      "0.768 : 'red'\n",
      "0.770 : 'gray'\n",
      "0.807 : 'blue'\n",
      "0.865 : 'white'\n",
      "1.000 : 'black'\n",
      "\n",
      "Nearest neighbors for 'asian'\n",
      "0.678 : 'european'\n",
      "0.702 : 'world'\n",
      "0.708 : 'african'\n",
      "0.803 : 'asia'\n",
      "1.000 : 'asian'\n",
      "\n",
      "Nearest neighbors for 'whites'\n",
      "0.730 : 'hispanics'\n",
      "0.733 : 'latinos'\n",
      "0.750 : 'asians'\n",
      "0.847 : 'blacks'\n",
      "1.000 : 'whites'\n",
      "\n",
      "Nearest neighbors for 'blacks'\n",
      "0.751 : 'asians'\n",
      "0.755 : 'hispanics'\n",
      "0.755 : 'latinos'\n",
      "0.847 : 'whites'\n",
      "1.000 : 'blacks'\n",
      "\n",
      "Nearest neighbors for 'asians'\n",
      "0.751 : 'blacks'\n",
      "0.784 : 'africans'\n",
      "0.809 : 'hispanics'\n",
      "0.828 : 'latinos'\n",
      "1.000 : 'asians'\n",
      "\n"
     ]
    }
   ],
   "source": [
    "show_nns(hands, \"white\", 5)\n",
    "show_nns(hands, \"black\", 5)\n",
    "show_nns(hands, \"asian\", 5)\n",
    "\n",
    "\n",
    "show_nns(hands, \"whites\", 5)\n",
    "show_nns(hands, \"blacks\", 5)\n",
    "show_nns(hands, \"asians\", 5)\n",
    "# \"anglos\", \"whites\", \"caucasians\", \"caucasian\", \"anglo\"\n",
    "# \"latino\", \"latinos\", \"hispanics\", \"hispanic\", \"mexicans\", \"chicanos\"\n",
    "# \"blacks\", \"african-americans\", \"africans\", \"african-american\", \"colored\"\n",
    "# \"asians\", \"asian\"\n",
    "# \"amerindians\", \"native-american\"\n",
    "\n",
    "# Racially-charged stereotypes we could cover - \n",
    "# areas of academia\n",
    "# "
   ]
  },
  {
   "cell_type": "markdown",
   "metadata": {},
   "source": [
    "Interesting note - some of the singular forms of racial groups (e.g. \"white\", \"black\", \"asian\") do not seem to encode the concept of race. The plural forms, however, consistently encode racial meanings."
   ]
  },
  {
   "cell_type": "code",
   "execution_count": 53,
   "metadata": {},
   "outputs": [
    {
     "name": "stdout",
     "output_type": "stream",
     "text": [
      "'hispanics' is to 'hispanics' as 'science' is to ___\n",
      "0.761 : 'mathematics'\n",
      "0.766 : 'institute'\n",
      "0.791 : 'physics'\n",
      "0.807 : 'sciences'\n",
      "1.000 : 'science'\n",
      "\n",
      "'asians' is to 'hispanics' as 'science' is to ___\n",
      "0.710 : 'institute'\n",
      "0.713 : 'research'\n",
      "0.733 : 'education'\n",
      "0.753 : 'sciences'\n",
      "0.876 : 'science'\n",
      "\n",
      "'blacks' is to 'hispanics' as 'science' is to ___\n",
      "0.675 : 'studies'\n",
      "0.676 : 'mathematics'\n",
      "0.684 : 'humanities'\n",
      "0.728 : 'sciences'\n",
      "0.831 : 'science'\n",
      "\n",
      "'native-american' is to 'hispanic' as 'science' is to ___\n",
      "0.700 : 'institute'\n",
      "0.701 : 'education'\n",
      "0.714 : 'studies'\n",
      "0.734 : 'hispanic'\n",
      "0.781 : 'science'\n",
      "\n",
      "'whites' is to 'hispanics' as 'science' is to ___\n",
      "0.683 : 'studies'\n",
      "0.691 : 'biomedical'\n",
      "0.693 : 'research'\n",
      "0.706 : 'sciences'\n",
      "0.834 : 'science'\n",
      "\n"
     ]
    }
   ],
   "source": [
    "show_analogy(hands, \"hispanics\", \"hispanics\", \"science\")\n",
    "\n",
    "show_analogy(hands, \"asians\", \"hispanics\", \"science\")\n",
    "\n",
    "show_analogy(hands, \"blacks\", \"hispanics\", \"science\")\n",
    "\n",
    "show_analogy(hands, \"native-american\", \"hispanic\", \"science\")\n",
    "\n",
    "show_analogy(hands, \"whites\", \"hispanics\", \"science\")"
   ]
  },
  {
   "cell_type": "code",
   "execution_count": 46,
   "metadata": {},
   "outputs": [
    {
     "name": "stdout",
     "output_type": "stream",
     "text": [
      "'hispanics' is to 'hispanics' as 'science' is to ___\n",
      "0.761 : 'mathematics'\n",
      "0.766 : 'institute'\n",
      "0.791 : 'physics'\n",
      "0.807 : 'sciences'\n",
      "1.000 : 'science'\n",
      "\n",
      "'asians' is to 'hispanics' as 'science' is to ___\n",
      "0.710 : 'institute'\n",
      "0.713 : 'research'\n",
      "0.733 : 'education'\n",
      "0.753 : 'sciences'\n",
      "0.876 : 'science'\n",
      "\n",
      "'blacks' is to 'hispanics' as 'science' is to ___\n",
      "0.675 : 'studies'\n",
      "0.676 : 'mathematics'\n",
      "0.684 : 'humanities'\n",
      "0.728 : 'sciences'\n",
      "0.831 : 'science'\n",
      "\n",
      "'amerindians' is to 'hispanics' as 'science' is to ___\n",
      "0.701 : 'research'\n",
      "0.715 : 'study'\n",
      "0.721 : 'studies'\n",
      "0.748 : 'education'\n",
      "0.820 : 'science'\n",
      "\n",
      "'whites' is to 'hispanics' as 'science' is to ___\n",
      "0.683 : 'studies'\n",
      "0.691 : 'biomedical'\n",
      "0.693 : 'research'\n",
      "0.706 : 'sciences'\n",
      "0.834 : 'science'\n",
      "\n"
     ]
    }
   ],
   "source": [
    "show_analogy(hands, \"hispanics\", \"hispanics\", \"science\")\n",
    "\n",
    "show_analogy(hands, \"asians\", \"hispanics\", \"science\")\n",
    "\n",
    "show_analogy(hands, \"blacks\", \"hispanics\", \"science\")\n",
    "\n",
    "show_analogy(hands, \"amerindians\", \"hispanics\", \"science\")\n",
    "\n",
    "show_analogy(hands, \"whites\", \"hispanics\", \"science\")"
   ]
  },
  {
   "cell_type": "code",
   "execution_count": 47,
   "metadata": {},
   "outputs": [
    {
     "name": "stdout",
     "output_type": "stream",
     "text": [
      "'hispanic' is to 'hispanic' as 'math' is to ___\n",
      "0.646 : 'classroom'\n",
      "0.648 : 'grade'\n",
      "0.668 : 'maths'\n",
      "0.701 : 'mathematics'\n",
      "1.000 : 'math'\n",
      "\n",
      "'asian' is to 'hispanic' as 'math' is to ___\n",
      "0.518 : 'schoolers'\n",
      "0.527 : 'hispanic'\n",
      "0.543 : 'k-12'\n",
      "0.584 : 'graders'\n",
      "0.729 : 'math'\n",
      "\n",
      "'black' is to 'hispanic' as 'math' is to ___\n",
      "0.545 : 'maths'\n",
      "0.550 : 'graders'\n",
      "0.589 : 'k-12'\n",
      "0.619 : 'literacy'\n",
      "0.749 : 'math'\n",
      "\n",
      "'native-american' is to 'hispanic' as 'math' is to ___\n",
      "0.663 : 'school'\n",
      "0.683 : 'students'\n",
      "0.706 : 'latino'\n",
      "0.749 : 'math'\n",
      "0.762 : 'hispanic'\n",
      "\n",
      "'white' is to 'hispanic' as 'math' is to ___\n",
      "0.538 : 'learners'\n",
      "0.542 : 'maths'\n",
      "0.558 : 'k-12'\n",
      "0.631 : 'literacy'\n",
      "0.738 : 'math'\n",
      "\n"
     ]
    }
   ],
   "source": [
    "show_analogy(hands, \"hispanic\", \"hispanic\", \"math\")\n",
    "\n",
    "show_analogy(hands, \"asian\", \"hispanic\", \"math\")\n",
    "\n",
    "show_analogy(hands, \"black\", \"hispanic\", \"math\")\n",
    "\n",
    "show_analogy(hands, \"native-american\", \"hispanic\", \"math\")\n",
    "\n",
    "show_analogy(hands, \"white\", \"hispanic\", \"math\")"
   ]
  },
  {
   "cell_type": "code",
   "execution_count": 48,
   "metadata": {},
   "outputs": [
    {
     "name": "stdout",
     "output_type": "stream",
     "text": [
      "'black' is to 'black' as 'science' is to ___\n",
      "0.761 : 'mathematics'\n",
      "0.766 : 'institute'\n",
      "0.791 : 'physics'\n",
      "0.807 : 'sciences'\n",
      "1.000 : 'science'\n",
      "\n",
      "'asian' is to 'black' as 'science' is to ___\n",
      "0.566 : 'fiction'\n",
      "0.567 : 'professor'\n",
      "0.597 : 'black'\n",
      "0.619 : 'journalism'\n",
      "0.691 : 'science'\n",
      "\n",
      "'white' is to 'black' as 'science' is to ___\n",
      "0.709 : 'mathematics'\n",
      "0.712 : 'psychology'\n",
      "0.715 : 'physics'\n",
      "0.760 : 'sciences'\n",
      "0.897 : 'science'\n",
      "\n",
      "'hispanic' is to 'black' as 'science' is to ___\n",
      "0.574 : 'professor'\n",
      "0.591 : 'university'\n",
      "0.596 : 'master'\n",
      "0.641 : 'physics'\n",
      "0.747 : 'science'\n",
      "\n",
      "'native-american' is to 'black' as 'science' is to ___\n",
      "0.698 : 'university'\n",
      "0.708 : '.'\n",
      "0.725 : 'well'\n",
      "0.781 : 'black'\n",
      "0.787 : 'science'\n",
      "\n"
     ]
    }
   ],
   "source": [
    "show_analogy(hands, \"black\", \"black\", \"science\")\n",
    "\n",
    "show_analogy(hands, \"asian\", \"black\", \"science\")\n",
    "\n",
    "show_analogy(hands, \"white\", \"black\", \"science\")\n",
    "\n",
    "show_analogy(hands, \"hispanic\", \"black\", \"science\")\n",
    "\n",
    "show_analogy(hands, \"native-american\", \"black\", \"science\")"
   ]
  },
  {
   "cell_type": "code",
   "execution_count": 49,
   "metadata": {},
   "outputs": [
    {
     "name": "stdout",
     "output_type": "stream",
     "text": [
      "'african-american' is to 'african-american' as 'science' is to ___\n",
      "0.761 : 'mathematics'\n",
      "0.766 : 'institute'\n",
      "0.791 : 'physics'\n",
      "0.807 : 'sciences'\n",
      "1.000 : 'science'\n",
      "\n",
      "'asian' is to 'african-american' as 'science' is to ___\n",
      "0.587 : 'journalism'\n",
      "0.589 : 'psychology'\n",
      "0.589 : 'african-american'\n",
      "0.612 : 'sociology'\n",
      "0.632 : 'science'\n",
      "\n",
      "'hispanic' is to 'african-american' as 'science' is to ___\n",
      "0.630 : 'professor'\n",
      "0.632 : 'chemistry'\n",
      "0.664 : 'mathematics'\n",
      "0.697 : 'physics'\n",
      "0.791 : 'science'\n",
      "\n",
      "'native-american' is to 'african-american' as 'science' is to ___\n",
      "0.725 : 'institute'\n",
      "0.731 : 'arts'\n",
      "0.731 : 'studies'\n",
      "0.743 : 'university'\n",
      "0.847 : 'science'\n",
      "\n",
      "'caucasian' is to 'african-american' as 'science' is to ___\n",
      "0.648 : 'psychology'\n",
      "0.649 : 'university'\n",
      "0.656 : 'professor'\n",
      "0.660 : 'arts'\n",
      "0.819 : 'science'\n",
      "\n"
     ]
    }
   ],
   "source": [
    "show_analogy(hands, \"african-american\", \"african-american\", \"science\")\n",
    "\n",
    "show_analogy(hands, \"asian\", \"african-american\", \"science\")\n",
    "\n",
    "show_analogy(hands, \"hispanic\", \"african-american\", \"science\")\n",
    "\n",
    "show_analogy(hands, \"native-american\", \"african-american\", \"science\")\n",
    "\n",
    "show_analogy(hands, \"caucasian\", \"african-american\", \"science\")"
   ]
  },
  {
   "cell_type": "code",
   "execution_count": 62,
   "metadata": {},
   "outputs": [
    {
     "name": "stdout",
     "output_type": "stream",
     "text": [
      "'african-american' is to 'african-american' as 'strong' is to ___\n",
      "0.744 : 'solid'\n",
      "0.763 : 'weak'\n",
      "0.767 : 'despite'\n",
      "0.815 : 'stronger'\n",
      "1.000 : 'strong'\n",
      "\n",
      "'african-american' is to 'asian' as 'strong' is to ___\n",
      "0.697 : 'markets'\n",
      "0.714 : 'asia'\n",
      "0.714 : 'stronger'\n",
      "0.739 : 'asian'\n",
      "0.754 : 'strong'\n",
      "\n",
      "'african-american' is to 'hispanic' as 'strong' is to ___\n",
      "0.664 : 'more'\n",
      "0.665 : 'likely'\n",
      "0.673 : 'weak'\n",
      "0.717 : 'stronger'\n",
      "0.824 : 'strong'\n",
      "\n",
      "'african-american' is to 'caucasian' as 'strong' is to ___\n",
      "0.560 : 'russia'\n",
      "0.571 : 'clear'\n",
      "0.578 : 'stronger'\n",
      "0.599 : 'weak'\n",
      "0.669 : 'strong'\n",
      "\n",
      "'blacks' is to 'asians' as 'strong' is to ___\n",
      "0.593 : 'weaker'\n",
      "0.647 : 'robust'\n",
      "0.648 : 'weak'\n",
      "0.705 : 'stronger'\n",
      "0.793 : 'strong'\n",
      "\n",
      "'blacks' is to 'hispanics' as 'strong' is to ___\n",
      "0.634 : 'weak'\n",
      "0.650 : 'strongest'\n",
      "0.668 : 'robust'\n",
      "0.686 : 'stronger'\n",
      "0.808 : 'strong'\n",
      "\n",
      "'blacks' is to 'whites' as 'strong' is to ___\n",
      "0.669 : 'solid'\n",
      "0.678 : 'moderate'\n",
      "0.700 : 'weak'\n",
      "0.719 : 'stronger'\n",
      "0.869 : 'strong'\n",
      "\n"
     ]
    }
   ],
   "source": [
    "\n",
    "show_analogy(hands, \"african-american\", \"african-american\", \"strong\")\n",
    "\n",
    "show_analogy(hands, \"african-american\", \"asian\", \"strong\")\n",
    "\n",
    "show_analogy(hands, \"african-american\", \"hispanic\", \"strong\") #!!\n",
    "\n",
    "show_analogy(hands, \"african-american\", \"caucasian\", \"strong\") #!!\n",
    "\n",
    "show_analogy(hands, \"blacks\", \"asians\", \"strong\") #!!\n",
    "\n",
    "show_analogy(hands, \"blacks\", \"hispanics\", \"strong\")\n",
    "\n",
    "show_analogy(hands, \"blacks\", \"whites\", \"strong\") #!!"
   ]
  },
  {
   "cell_type": "code",
   "execution_count": null,
   "metadata": {},
   "outputs": [],
   "source": []
  }
 ],
 "metadata": {
  "kernelspec": {
   "display_name": "Python 3",
   "language": "python",
   "name": "python3"
  },
  "language_info": {
   "codemirror_mode": {
    "name": "ipython",
    "version": 3
   },
   "file_extension": ".py",
   "mimetype": "text/x-python",
   "name": "python",
   "nbconvert_exporter": "python",
   "pygments_lexer": "ipython3",
   "version": "3.6.4"
  }
 },
 "nbformat": 4,
 "nbformat_minor": 2
}
